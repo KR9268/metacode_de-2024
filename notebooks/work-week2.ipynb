{
 "cells": [
  {
   "cell_type": "markdown",
   "id": "2461c70b",
   "metadata": {},
   "source": [
    "# 과제 - 2주차"
   ]
  },
  {
   "attachments": {},
   "cell_type": "markdown",
   "id": "c92dbb5a",
   "metadata": {},
   "source": [
    "## 1. Dataframe, RDD API사용해보기  (Week2 Jupyter Notebook)"
   ]
  },
  {
   "cell_type": "code",
   "execution_count": null,
   "id": "8ebda080",
   "metadata": {},
   "outputs": [],
   "source": []
  },
  {
   "attachments": {},
   "cell_type": "markdown",
   "id": "c3243416",
   "metadata": {},
   "source": [
    "## 2. 데이터셋 정제 방법 고민"
   ]
  },
  {
   "cell_type": "code",
   "execution_count": null,
   "id": "116a2fe7",
   "metadata": {},
   "outputs": [],
   "source": []
  },
  {
   "cell_type": "markdown",
   "id": "ae8cafcb",
   "metadata": {},
   "source": [
    "## 3. 데이터셋 저장 스키마 결정 & 공유"
   ]
  },
  {
   "cell_type": "code",
   "execution_count": null,
   "id": "a7e8a047",
   "metadata": {},
   "outputs": [],
   "source": []
  }
 ],
 "metadata": {
  "kernelspec": {
   "display_name": "Python 3 (ipykernel)",
   "language": "python",
   "name": "python3"
  },
  "language_info": {
   "codemirror_mode": {
    "name": "ipython",
    "version": 3
   },
   "file_extension": ".py",
   "mimetype": "text/x-python",
   "name": "python",
   "nbconvert_exporter": "python",
   "pygments_lexer": "ipython3",
   "version": "3.9.7"
  }
 },
 "nbformat": 4,
 "nbformat_minor": 5
}
