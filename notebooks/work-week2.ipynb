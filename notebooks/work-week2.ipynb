{
 "cells": [
  {
   "cell_type": "markdown",
   "id": "2461c70b",
   "metadata": {},
   "source": [
    "# 과제 - 2주차"
   ]
  },
  {
   "cell_type": "markdown",
   "id": "c92dbb5a",
   "metadata": {},
   "source": [
    "## 1. Dataframe, RDD API사용해보기  (Week2 Jupyter Notebook)"
   ]
  },
  {
   "cell_type": "markdown",
   "id": "4e8de15c",
   "metadata": {},
   "source": [
    "### (1) RDD"
   ]
  },
  {
   "cell_type": "markdown",
   "id": "ccef66ce",
   "metadata": {},
   "source": [
    "#### SparkSession"
   ]
  },
  {
   "cell_type": "code",
   "execution_count": 1,
   "id": "8ebda080",
   "metadata": {},
   "outputs": [
    {
     "name": "stderr",
     "output_type": "stream",
     "text": [
      "WARNING: An illegal reflective access operation has occurred\n",
      "WARNING: Illegal reflective access by org.apache.spark.unsafe.Platform (file:/usr/local/spark-3.1.2-bin-hadoop3.2/jars/spark-unsafe_2.12-3.1.2.jar) to constructor java.nio.DirectByteBuffer(long,int)\n",
      "WARNING: Please consider reporting this to the maintainers of org.apache.spark.unsafe.Platform\n",
      "WARNING: Use --illegal-access=warn to enable warnings of further illegal reflective access operations\n",
      "WARNING: All illegal access operations will be denied in a future release\n",
      "24/08/23 02:45:16 WARN NativeCodeLoader: Unable to load native-hadoop library for your platform... using builtin-java classes where applicable\n",
      "Using Spark's default log4j profile: org/apache/spark/log4j-defaults.properties\n",
      "Setting default log level to \"WARN\".\n",
      "To adjust logging level use sc.setLogLevel(newLevel). For SparkR, use setLogLevel(newLevel).\n"
     ]
    }
   ],
   "source": [
    "from pyspark.sql import SparkSession\n",
    "\n",
    "# SparkSession\n",
    "spark = (\n",
    "    SparkSession.builder\n",
    "        .appName(\"rdd-dataframe\")\n",
    "        .master(\"local\")\n",
    "        .getOrCreate()\n",
    ")\n",
    "\n",
    "# SparkContext를 SparkSession에서 빼두기\n",
    "sc = spark.sparkContext\n",
    "\n",
    "# 하단 메시지는 Jupyter 공식이미지에서 나오는 메시지로, 무시하기"
   ]
  },
  {
   "cell_type": "code",
   "execution_count": null,
   "id": "b057d2e8",
   "metadata": {},
   "outputs": [],
   "source": [
    "# SparkContext 멈추기\n",
    "sc.stop()"
   ]
  },
  {
   "cell_type": "markdown",
   "id": "59d549ca",
   "metadata": {},
   "source": [
    "#### Range(0,10) & Collect()"
   ]
  },
  {
   "cell_type": "code",
   "execution_count": 10,
   "id": "e34f9533",
   "metadata": {},
   "outputs": [
    {
     "name": "stdout",
     "output_type": "stream",
     "text": [
      "PythonRDD[15] at RDD at PythonRDD.scala:53\n"
     ]
    }
   ],
   "source": [
    "# collect()를 통해 파이썬 데이터셋으로 변경해야 사용할 수 있음\n",
    "rdd2 = sc.range(0, 10)\n",
    "\n",
    "print(rdd2)"
   ]
  },
  {
   "cell_type": "code",
   "execution_count": 11,
   "id": "0169c1a9",
   "metadata": {},
   "outputs": [
    {
     "name": "stdout",
     "output_type": "stream",
     "text": [
      "[0, 1, 2, 3, 4, 5, 6, 7, 8, 9]\n"
     ]
    }
   ],
   "source": [
    "print(rdd2.collect())"
   ]
  },
  {
   "cell_type": "markdown",
   "id": "d5830fc4",
   "metadata": {},
   "source": [
    "#### parallelize로 변환[Python list → RDD] & take() [head()와 동일]"
   ]
  },
  {
   "cell_type": "code",
   "execution_count": 21,
   "id": "3172f8e4",
   "metadata": {},
   "outputs": [
    {
     "data": {
      "text/plain": [
       "['one', 'two', 'three']"
      ]
     },
     "execution_count": 21,
     "metadata": {},
     "output_type": "execute_result"
    }
   ],
   "source": [
    "# parallelize로 RDD로 만든 후 take로 위에서부터 3개 가져옴 (head/top/first와 같음)\n",
    "data = [\"one\", \"two\", \"three\"]\n",
    "rdd3 = sc.parallelize(data)\n",
    "\n",
    "rdd3.take(3)"
   ]
  },
  {
   "cell_type": "markdown",
   "id": "de766457",
   "metadata": {},
   "source": [
    "#### textFile()\n",
    "* sc.textFile(\"../data/movie.csv\")만 단독 실행시 완료로 떠서 작업이 된 줄 알았는데, 다른 블럭에서 .count()를 실행하니 그제서야 그런 파일은 없다고 뜸. `action이 있어야 데이터 처리가 이루어지는 Spark의 lazy한 특성을 확인함`"
   ]
  },
  {
   "cell_type": "code",
   "execution_count": 23,
   "id": "f8695203",
   "metadata": {},
   "outputs": [
    {
     "name": "stdout",
     "output_type": "stream",
     "text": [
      "9743\n"
     ]
    }
   ],
   "source": [
    "rdd1 = sc.textFile(\"../data/movies.csv\")\n",
    "\n",
    "cnt = rdd1.count()\n",
    "print(cnt)"
   ]
  },
  {
   "cell_type": "code",
   "execution_count": 24,
   "id": "861885c6",
   "metadata": {},
   "outputs": [
    {
     "name": "stdout",
     "output_type": "stream",
     "text": [
      "['movieId,title,genres', '1,Toy Story (1995),Adventure|Animation|Children|Comedy|Fantasy', '2,Jumanji (1995),Adventure|Children|Fantasy', '3,Grumpier Old Men (1995),Comedy|Romance', '4,Waiting to Exhale (1995),Comedy|Drama|Romance', '5,Father of the Bride Part II (1995),Comedy', '6,Heat (1995),Action|Crime|Thriller', '7,Sabrina (1995),Comedy|Romance', '8,Tom and Huck (1995),Adventure|Children', '9,Sudden Death (1995),Action']\n"
     ]
    }
   ],
   "source": [
    "# 첫번째 데이터는 컬럼명\n",
    "arr2 = rdd1.take(10)\n",
    "print(arr2)"
   ]
  },
  {
   "cell_type": "markdown",
   "id": "fe4982b0",
   "metadata": {},
   "source": [
    "#### takeOrdered(5)\n",
    "* Sorting을 해서 가져오므로, 데이터가 큰 경우에는 사용X\n",
    "* RDD는 컬럼이 없으므로 컬럼기준으로 Sorting은 불가함"
   ]
  },
  {
   "cell_type": "code",
   "execution_count": 25,
   "id": "36ac8673",
   "metadata": {},
   "outputs": [
    {
     "name": "stdout",
     "output_type": "stream",
     "text": [
      "['1,Toy Story (1995),Adventure|Animation|Children|Comedy|Fantasy', '10,GoldenEye (1995),Action|Adventure|Thriller', '100,City Hall (1996),Drama|Thriller', '100044,Human Planet (2011),Documentary', '100068,Comme un chef (2012),Comedy']\n"
     ]
    }
   ],
   "source": [
    "arr3 = rdd1.takeOrdered(5)\n",
    "print(arr3)"
   ]
  },
  {
   "cell_type": "markdown",
   "id": "44c2b9ae",
   "metadata": {},
   "source": [
    "#### aggregate\n",
    "* 공식문서 코드로 이해하기\n",
    "  * 문서링크 : https://spark.apache.org/docs/latest/api/python/reference/api/pyspark.RDD.aggregate.html\n",
    "* 샘플코드\n",
    "```python\n",
    "seqOp = (lambda x, y: (x[0] + y, x[1] + 1))\n",
    "combOp = (lambda x, y: (x[0] + y[0], x[1] + y[1]))\n",
    "sc.parallelize([1, 2, 3, 4]).aggregate((0, 0), seqOp, combOp)\n",
    ">>> (10, 4)\n",
    "```\n",
    "  * seqOp로 각 파티션 계산 [주어진 항등원 (0,0)부터 시작]\n",
    "    * (0, 0) → (1, 1) → (3, 2)\n",
    "    * (0, 0) → (3, 1) → (7, 2)\n",
    "  * combOp로 각 파티션 결과 취합\n",
    "    * (3, 2) + (7, 2) = (10, 4)"
   ]
  },
  {
   "cell_type": "code",
   "execution_count": 32,
   "id": "1fe1d1cc",
   "metadata": {},
   "outputs": [
    {
     "data": {
      "text/plain": [
       "499500"
      ]
     },
     "execution_count": 32,
     "metadata": {},
     "output_type": "execute_result"
    }
   ],
   "source": [
    "rdd2 = sc.range(0, 1000, 1, 10)\n",
    "\n",
    "seqOp = lambda v1, v2: v1 + v2\n",
    "combOp = lambda v1, v2: v1 + v2\n",
    "\n",
    "rdd2.aggregate(0, seqOp, combOp)"
   ]
  },
  {
   "cell_type": "markdown",
   "id": "e7a7b228",
   "metadata": {},
   "source": [
    "* 항등원을 바꿔보니 항등원*11로 보여서 파티션의 수를 확인해보니 10개인 것을 확인함\n",
    "* 파티션의 갯수는 공식문서를 확인해보니 range에서 지정한 부분이었음\n",
    "  * 문서링크 : https://spark.apache.org/docs/latest/api/python/reference/api/pyspark.SparkContext.range.html\n",
    "  * `sc.range(start, end, step, number of partition)`"
   ]
  },
  {
   "cell_type": "code",
   "execution_count": 34,
   "id": "33e979f8",
   "metadata": {},
   "outputs": [
    {
     "data": {
      "text/plain": [
       "499599"
      ]
     },
     "execution_count": 34,
     "metadata": {},
     "output_type": "execute_result"
    }
   ],
   "source": [
    "rdd2.aggregate(9, seqOp, combOp)"
   ]
  },
  {
   "cell_type": "code",
   "execution_count": 35,
   "id": "1960c817",
   "metadata": {},
   "outputs": [
    {
     "data": {
      "text/plain": [
       "500050"
      ]
     },
     "execution_count": 35,
     "metadata": {},
     "output_type": "execute_result"
    }
   ],
   "source": [
    "rdd2.aggregate(50, seqOp, combOp)"
   ]
  },
  {
   "cell_type": "code",
   "execution_count": 36,
   "id": "d5314d34",
   "metadata": {},
   "outputs": [
    {
     "name": "stdout",
     "output_type": "stream",
     "text": [
      "10\n"
     ]
    }
   ],
   "source": [
    "print(rdd2.getNumPartitions())"
   ]
  },
  {
   "cell_type": "markdown",
   "id": "1f696b2a",
   "metadata": {},
   "source": [
    "* reduce, fold"
   ]
  },
  {
   "cell_type": "code",
   "execution_count": 38,
   "id": "b6cc9896",
   "metadata": {},
   "outputs": [
    {
     "data": {
      "text/plain": [
       "499500"
      ]
     },
     "execution_count": 38,
     "metadata": {},
     "output_type": "execute_result"
    }
   ],
   "source": [
    "rdd2.reduce(lambda v1, v2: v1 + v2)"
   ]
  },
  {
   "cell_type": "code",
   "execution_count": 39,
   "id": "cdf709a2",
   "metadata": {},
   "outputs": [
    {
     "data": {
      "text/plain": [
       "499500"
      ]
     },
     "execution_count": 39,
     "metadata": {},
     "output_type": "execute_result"
    }
   ],
   "source": [
    "rdd2.fold(0, lambda v1, v2: v1 + v2)"
   ]
  },
  {
   "cell_type": "markdown",
   "id": "1088ee27",
   "metadata": {},
   "source": [
    "#### foreach"
   ]
  },
  {
   "cell_type": "code",
   "execution_count": 40,
   "id": "007ef943",
   "metadata": {},
   "outputs": [
    {
     "name": "stderr",
     "output_type": "stream",
     "text": [
      "one\n",
      "two\n",
      "three\n"
     ]
    }
   ],
   "source": [
    "data = [\"one\", \"two\", \"three\"]\n",
    "rdd3 = sc.parallelize(data)\n",
    "\n",
    "rdd3.foreach(lambda v: print(v))"
   ]
  },
  {
   "cell_type": "markdown",
   "id": "28146d41",
   "metadata": {},
   "source": [
    "#### repartition\n",
    "* 실습환경은 로컬이므로 파티션 1개인 상태여서 중요하지 않았음\n",
    "* 업무환경에서는 많이 쓰이는 함수임"
   ]
  },
  {
   "cell_type": "code",
   "execution_count": 2,
   "id": "799cf533",
   "metadata": {},
   "outputs": [],
   "source": [
    "# 파티션 2개로 나눔\n",
    "rdd1 = sc.textFile(\"../data/movies.csv\")\n",
    "\n",
    "rdd4 = rdd1.repartition(2)"
   ]
  },
  {
   "cell_type": "markdown",
   "id": "d1bf4b5c",
   "metadata": {},
   "source": [
    "#### foreachPartition\n",
    "* return value는 파티션별 이터레이터\n",
    "* 파티션 별로 다른 함수를 호출해야하는 경우나, progress체크 등에 사용"
   ]
  },
  {
   "cell_type": "code",
   "execution_count": 3,
   "id": "9e1ac37a",
   "metadata": {},
   "outputs": [
    {
     "name": "stderr",
     "output_type": "stream",
     "text": [
      "<itertools.chain object at 0x7f789b7bb100>                          (0 + 1) / 1]\n",
      "<itertools.chain object at 0x7f789b7bb9a0>\n",
      "                                                                                \r"
     ]
    }
   ],
   "source": [
    "rdd4.foreachPartition(lambda it: print(it))"
   ]
  },
  {
   "cell_type": "code",
   "execution_count": 4,
   "id": "31b931b5",
   "metadata": {},
   "outputs": [
    {
     "name": "stderr",
     "output_type": "stream",
     "text": [
      "movieId,title,genres\n",
      "1,Toy Story (1995),Adventure|Animation|Children|Comedy|Fantasy\n",
      "2,Jumanji (1995),Adventure|Children|Fantasy\n",
      "3,Grumpier Old Men (1995),Comedy|Romance\n",
      "4,Waiting to Exhale (1995),Comedy|Drama|Romance\n",
      "10,GoldenEye (1995),Action|Adventure|Thriller\n",
      "11,\"American President, The (1995)\",Comedy|Drama|Romance\n",
      "12,Dracula: Dead and Loving It (1995),Comedy|Horror\n",
      "13,Balto (1995),Adventure|Animation|Children\n",
      "14,Nixon (1995),Drama\n"
     ]
    }
   ],
   "source": [
    "# 파티션 항목 확인\n",
    "\n",
    "# 전체 확인 코드\n",
    "#rdd4.foreachPartition(lambda it: [print(x) for x in it])\n",
    "\n",
    "# 상위 5개만 확인\n",
    "rdd4.foreachPartition(lambda it: [print(x) for i, x in enumerate(it) if i < 5])"
   ]
  },
  {
   "cell_type": "code",
   "execution_count": 5,
   "id": "97093579",
   "metadata": {},
   "outputs": [
    {
     "name": "stderr",
     "output_type": "stream",
     "text": [
      "Partition: 0, Value: movieId,title,genres\n",
      "Partition: 0, Value: 1,Toy Story (1995),Adventure|Animation|Children|Comedy|Fantasy\n",
      "Partition: 0, Value: 2,Jumanji (1995),Adventure|Children|Fantasy\n",
      "Partition: 0, Value: 3,Grumpier Old Men (1995),Comedy|Romance\n",
      "Partition: 0, Value: 4,Waiting to Exhale (1995),Comedy|Drama|Romance\n",
      "Partition: 1, Value: 10,GoldenEye (1995),Action|Adventure|Thriller\n",
      "Partition: 1, Value: 11,\"American President, The (1995)\",Comedy|Drama|Romance\n",
      "Partition: 1, Value: 12,Dracula: Dead and Loving It (1995),Comedy|Horror\n",
      "Partition: 1, Value: 13,Balto (1995),Adventure|Animation|Children\n",
      "Partition: 1, Value: 14,Nixon (1995),Drama\n"
     ]
    }
   ],
   "source": [
    "# 어떤 파티션의 데이터인지까지 같이 출력 by ChatGPT\n",
    "rdd4.mapPartitionsWithIndex(\n",
    "    lambda partition_index, it: [(partition_index, x) for i, x in enumerate(it) if i < 5]\n",
    ").foreach(lambda x: print(f\"Partition: {x[0]}, Value: {x[1]}\"))"
   ]
  },
  {
   "cell_type": "markdown",
   "id": "2137a5a6",
   "metadata": {},
   "source": [
    "#### countByValue()\n",
    "* 값의 갯수를 계산"
   ]
  },
  {
   "cell_type": "code",
   "execution_count": 8,
   "id": "1a221c9c",
   "metadata": {},
   "outputs": [
    {
     "data": {
      "text/plain": [
       "defaultdict(int,\n",
       "            {'movieId,title,genres': 1,\n",
       "             '1,Toy Story (1995),Adventure|Animation|Children|Comedy|Fantasy': 1,\n",
       "             '2,Jumanji (1995),Adventure|Children|Fantasy': 1,\n",
       "             '3,Grumpier Old Men (1995),Comedy|Romance': 1,\n",
       "             '4,Waiting to Exhale (1995),Comedy|Drama|Romance': 1,\n",
       "             '5,Father of the Bride Part II (1995),Comedy': 1,\n",
       "             '6,Heat (1995),Action|Crime|Thriller': 1,\n",
       "             '7,Sabrina (1995),Comedy|Romance': 1,\n",
       "             '8,Tom and Huck (1995),Adventure|Children': 1,\n",
       "             '9,Sudden Death (1995),Action': 1,\n",
       "             '10,GoldenEye (1995),Action|Adventure|Thriller': 1,\n",
       "             '11,\"American President, The (1995)\",Comedy|Drama|Romance': 1,\n",
       "             '12,Dracula: Dead and Loving It (1995),Comedy|Horror': 1,\n",
       "             '13,Balto (1995),Adventure|Animation|Children': 1,\n",
       "             '14,Nixon (1995),Drama': 1,\n",
       "             '15,Cutthroat Island (1995),Action|Adventure|Romance': 1,\n",
       "             '16,Casino (1995),Crime|Drama': 1,\n",
       "             '17,Sense and Sensibility (1995),Drama|Romance': 1,\n",
       "             '18,Four Rooms (1995),Comedy': 1,\n",
       "             '19,Ace Ventura: When Nature Calls (1995),Comedy': 1,\n",
       "             '20,Money Train (1995),Action|Comedy|Crime|Drama|Thriller': 1,\n",
       "             '21,Get Shorty (1995),Comedy|Crime|Thriller': 1,\n",
       "             '22,Copycat (1995),Crime|Drama|Horror|Mystery|Thriller': 1,\n",
       "             '23,Assassins (1995),Action|Crime|Thriller': 1,\n",
       "             '24,Powder (1995),Drama|Sci-Fi': 1,\n",
       "             '25,Leaving Las Vegas (1995),Drama|Romance': 1,\n",
       "             '26,Othello (1995),Drama': 1,\n",
       "             '27,Now and Then (1995),Children|Drama': 1,\n",
       "             '28,Persuasion (1995),Drama|Romance': 1,\n",
       "             '29,\"City of Lost Children, The (Cité des enfants perdus, La) (1995)\",Adventure|Drama|Fantasy|Mystery|Sci-Fi': 1,\n",
       "             '30,Shanghai Triad (Yao a yao yao dao waipo qiao) (1995),Crime|Drama': 1,\n",
       "             '31,Dangerous Minds (1995),Drama': 1,\n",
       "             '32,Twelve Monkeys (a.k.a. 12 Monkeys) (1995),Mystery|Sci-Fi|Thriller': 1,\n",
       "             '34,Babe (1995),Children|Drama': 1,\n",
       "             '36,Dead Man Walking (1995),Crime|Drama': 1,\n",
       "             '38,It Takes Two (1995),Children|Comedy': 1,\n",
       "             '39,Clueless (1995),Comedy|Romance': 1,\n",
       "             '40,\"Cry, the Beloved Country (1995)\",Drama': 1,\n",
       "             '41,Richard III (1995),Drama|War': 1,\n",
       "             '42,Dead Presidents (1995),Action|Crime|Drama': 1,\n",
       "             '43,Restoration (1995),Drama': 1,\n",
       "             '44,Mortal Kombat (1995),Action|Adventure|Fantasy': 1,\n",
       "             '45,To Die For (1995),Comedy|Drama|Thriller': 1,\n",
       "             '46,How to Make an American Quilt (1995),Drama|Romance': 1,\n",
       "             '47,Seven (a.k.a. Se7en) (1995),Mystery|Thriller': 1,\n",
       "             '48,Pocahontas (1995),Animation|Children|Drama|Musical|Romance': 1,\n",
       "             '49,When Night Is Falling (1995),Drama|Romance': 1,\n",
       "             '50,\"Usual Suspects, The (1995)\",Crime|Mystery|Thriller': 1,\n",
       "             '52,Mighty Aphrodite (1995),Comedy|Drama|Romance': 1,\n",
       "             '53,Lamerica (1994),Adventure|Drama': 1,\n",
       "             '54,\"Big Green, The (1995)\",Children|Comedy': 1,\n",
       "             '55,Georgia (1995),Drama': 1,\n",
       "             '57,Home for the Holidays (1995),Drama': 1,\n",
       "             '58,\"Postman, The (Postino, Il) (1994)\",Comedy|Drama|Romance': 1,\n",
       "             '60,\"Indian in the Cupboard, The (1995)\",Adventure|Children|Fantasy': 1,\n",
       "             '61,Eye for an Eye (1996),Drama|Thriller': 1,\n",
       "             \"62,Mr. Holland's Opus (1995),Drama\": 1,\n",
       "             \"63,Don't Be a Menace to South Central While Drinking Your Juice in the Hood (1996),Comedy|Crime\": 1,\n",
       "             '64,Two if by Sea (1996),Comedy|Romance': 1,\n",
       "             '65,Bio-Dome (1996),Comedy': 1,\n",
       "             '66,Lawnmower Man 2: Beyond Cyberspace (1996),Action|Sci-Fi|Thriller': 1,\n",
       "             '68,French Twist (Gazon maudit) (1995),Comedy|Romance': 1,\n",
       "             '69,Friday (1995),Comedy': 1,\n",
       "             '70,From Dusk Till Dawn (1996),Action|Comedy|Horror|Thriller': 1,\n",
       "             '71,Fair Game (1995),Action': 1,\n",
       "             '72,Kicking and Screaming (1995),Comedy|Drama': 1,\n",
       "             '73,\"Misérables, Les (1995)\",Drama|War': 1,\n",
       "             '74,Bed of Roses (1996),Drama|Romance': 1,\n",
       "             '75,Big Bully (1996),Comedy|Drama': 1,\n",
       "             '76,Screamers (1995),Action|Sci-Fi|Thriller': 1,\n",
       "             '77,Nico Icon (1995),Documentary': 1,\n",
       "             '78,\"Crossing Guard, The (1995)\",Action|Crime|Drama|Thriller': 1,\n",
       "             '79,\"Juror, The (1996)\",Drama|Thriller': 1,\n",
       "             '80,\"White Balloon, The (Badkonake sefid) (1995)\",Children|Drama': 1,\n",
       "             \"81,Things to Do in Denver When You're Dead (1995),Crime|Drama|Romance\": 1,\n",
       "             \"82,Antonia's Line (Antonia) (1995),Comedy|Drama\": 1,\n",
       "             '83,Once Upon a Time... When We Were Colored (1995),Drama|Romance': 1,\n",
       "             '85,Angels and Insects (1995),Drama|Romance': 1,\n",
       "             '86,White Squall (1996),Action|Adventure|Drama': 1,\n",
       "             '87,Dunston Checks In (1996),Children|Comedy': 1,\n",
       "             '88,Black Sheep (1996),Comedy': 1,\n",
       "             '89,Nick of Time (1995),Action|Thriller': 1,\n",
       "             '92,Mary Reilly (1996),Drama|Horror|Thriller': 1,\n",
       "             '93,Vampire in Brooklyn (1995),Comedy|Horror|Romance': 1,\n",
       "             '94,Beautiful Girls (1996),Comedy|Drama|Romance': 1,\n",
       "             '95,Broken Arrow (1996),Action|Adventure|Thriller': 1,\n",
       "             '96,In the Bleak Midwinter (1995),Comedy|Drama': 1,\n",
       "             '97,\"Hate (Haine, La) (1995)\",Crime|Drama': 1,\n",
       "             '99,Heidi Fleiss: Hollywood Madam (1995),Documentary': 1,\n",
       "             '100,City Hall (1996),Drama|Thriller': 1,\n",
       "             '101,Bottle Rocket (1996),Adventure|Comedy|Crime|Romance': 1,\n",
       "             '102,Mr. Wrong (1996),Comedy': 1,\n",
       "             '103,Unforgettable (1996),Mystery|Sci-Fi|Thriller': 1,\n",
       "             '104,Happy Gilmore (1996),Comedy': 1,\n",
       "             '105,\"Bridges of Madison County, The (1995)\",Drama|Romance': 1,\n",
       "             '106,Nobody Loves Me (Keiner liebt mich) (1994),Comedy|Drama': 1,\n",
       "             '107,Muppet Treasure Island (1996),Adventure|Children|Comedy|Musical': 1,\n",
       "             '108,Catwalk (1996),Documentary': 1,\n",
       "             '110,Braveheart (1995),Action|Drama|War': 1,\n",
       "             '111,Taxi Driver (1976),Crime|Drama|Thriller': 1,\n",
       "             '112,Rumble in the Bronx (Hont faan kui) (1995),Action|Adventure|Comedy|Crime': 1,\n",
       "             '113,Before and After (1996),Drama|Mystery': 1,\n",
       "             '116,Anne Frank Remembered (1995),Documentary': 1,\n",
       "             '117,\"Young Poisoner\\'s Handbook, The (1995)\",Crime|Drama': 1,\n",
       "             '118,If Lucy Fell (1996),Comedy|Romance': 1,\n",
       "             '119,\"Steal Big, Steal Little (1995)\",Comedy': 1,\n",
       "             '121,\"Boys of St. Vincent, The (1992)\",Drama': 1,\n",
       "             '122,Boomerang (1992),Comedy|Romance': 1,\n",
       "             '123,Chungking Express (Chung Hing sam lam) (1994),Drama|Mystery|Romance': 1,\n",
       "             '125,Flirting With Disaster (1996),Comedy': 1,\n",
       "             '126,\"NeverEnding Story III, The (1994)\",Adventure|Children|Fantasy': 1,\n",
       "             \"128,Jupiter's Wife (1994),Documentary\": 1,\n",
       "             '129,Pie in the Sky (1996),Comedy|Romance': 1,\n",
       "             '132,Jade (1995),Thriller': 1,\n",
       "             '135,Down Periscope (1996),Comedy': 1,\n",
       "             '137,Man of the Year (1995),Documentary': 1,\n",
       "             '140,Up Close and Personal (1996),Drama|Romance': 1,\n",
       "             '141,\"Birdcage, The (1996)\",Comedy': 1,\n",
       "             '144,\"Brothers McMullen, The (1995)\",Comedy': 1,\n",
       "             '145,Bad Boys (1995),Action|Comedy|Crime|Drama|Thriller': 1,\n",
       "             '146,\"Amazing Panda Adventure, The (1995)\",Adventure|Children': 1,\n",
       "             '147,\"Basketball Diaries, The (1995)\",Drama': 1,\n",
       "             '148,\"Awfully Big Adventure, An (1995)\",Drama': 1,\n",
       "             '149,Amateur (1994),Crime|Drama|Thriller': 1,\n",
       "             '150,Apollo 13 (1995),Adventure|Drama|IMAX': 1,\n",
       "             '151,Rob Roy (1995),Action|Drama|Romance|War': 1,\n",
       "             '152,\"Addiction, The (1995)\",Drama|Horror': 1,\n",
       "             '153,Batman Forever (1995),Action|Adventure|Comedy|Crime': 1,\n",
       "             '154,Beauty of the Day (Belle de jour) (1967),Drama': 1,\n",
       "             '155,Beyond Rangoon (1995),Adventure|Drama|War': 1,\n",
       "             '156,Blue in the Face (1995),Comedy|Drama': 1,\n",
       "             '157,Canadian Bacon (1995),Comedy|War': 1,\n",
       "             '158,Casper (1995),Adventure|Children': 1,\n",
       "             '159,Clockers (1995),Crime|Drama|Mystery': 1,\n",
       "             '160,Congo (1995),Action|Adventure|Mystery|Sci-Fi': 1,\n",
       "             '161,Crimson Tide (1995),Drama|Thriller|War': 1,\n",
       "             '162,Crumb (1994),Documentary': 1,\n",
       "             '163,Desperado (1995),Action|Romance|Western': 1,\n",
       "             '164,Devil in a Blue Dress (1995),Crime|Film-Noir|Mystery|Thriller': 1,\n",
       "             '165,Die Hard: With a Vengeance (1995),Action|Crime|Thriller': 1,\n",
       "             '166,\"Doom Generation, The (1995)\",Comedy|Crime|Drama': 1,\n",
       "             '168,First Knight (1995),Action|Drama|Romance': 1,\n",
       "             '169,Free Willy 2: The Adventure Home (1995),Adventure|Children|Drama': 1,\n",
       "             '170,Hackers (1995),Action|Adventure|Crime|Thriller': 1,\n",
       "             '171,Jeffrey (1995),Comedy|Drama': 1,\n",
       "             '172,Johnny Mnemonic (1995),Action|Sci-Fi|Thriller': 1,\n",
       "             '173,Judge Dredd (1995),Action|Crime|Sci-Fi': 1,\n",
       "             '174,Jury Duty (1995),Comedy': 1,\n",
       "             '175,Kids (1995),Drama': 1,\n",
       "             '176,Living in Oblivion (1995),Comedy': 1,\n",
       "             '177,Lord of Illusions (1995),Horror': 1,\n",
       "             '178,Love & Human Remains (1993),Comedy|Drama': 1,\n",
       "             '179,Mad Love (1995),Drama|Romance': 1,\n",
       "             '180,Mallrats (1995),Comedy|Romance': 1,\n",
       "             '181,Mighty Morphin Power Rangers: The Movie (1995),Action|Children': 1,\n",
       "             '183,Mute Witness (1994),Comedy|Horror|Thriller': 1,\n",
       "             '184,Nadja (1994),Drama': 1,\n",
       "             '185,\"Net, The (1995)\",Action|Crime|Thriller': 1,\n",
       "             '186,Nine Months (1995),Comedy|Romance': 1,\n",
       "             '187,Party Girl (1995),Comedy': 1,\n",
       "             '188,\"Prophecy, The (1995)\",Fantasy|Horror|Mystery': 1,\n",
       "             '189,Reckless (1995),Comedy|Fantasy': 1,\n",
       "             '190,Safe (1995),Thriller': 1,\n",
       "             '191,\"Scarlet Letter, The (1995)\",Drama|Romance': 1,\n",
       "             '193,Showgirls (1995),Drama': 1,\n",
       "             '194,Smoke (1995),Comedy|Drama': 1,\n",
       "             '195,Something to Talk About (1995),Comedy|Drama|Romance': 1,\n",
       "             '196,Species (1995),Horror|Sci-Fi': 1,\n",
       "             '198,Strange Days (1995),Action|Crime|Drama|Mystery|Sci-Fi|Thriller': 1,\n",
       "             '199,\"Umbrellas of Cherbourg, The (Parapluies de Cherbourg, Les) (1964)\",Drama|Musical|Romance': 1,\n",
       "             '201,Three Wishes (1995),Drama|Fantasy': 1,\n",
       "             '202,Total Eclipse (1995),Drama|Romance': 1,\n",
       "             '203,\"To Wong Foo, Thanks for Everything! Julie Newmar (1995)\",Comedy': 1,\n",
       "             '204,Under Siege 2: Dark Territory (1995),Action': 1,\n",
       "             '205,Unstrung Heroes (1995),Comedy|Drama': 1,\n",
       "             '206,Unzipped (1995),Documentary': 1,\n",
       "             '207,\"Walk in the Clouds, A (1995)\",Drama|Romance': 1,\n",
       "             '208,Waterworld (1995),Action|Adventure|Sci-Fi': 1,\n",
       "             \"209,White Man's Burden (1995),Drama\": 1,\n",
       "             '210,Wild Bill (1995),Western': 1,\n",
       "             '211,\"Browning Version, The (1994)\",Drama': 1,\n",
       "             '212,Bushwhacked (1995),Adventure|Comedy|Crime|Mystery': 1,\n",
       "             '213,Burnt by the Sun (Utomlyonnye solntsem) (1994),Drama': 1,\n",
       "             '214,Before the Rain (Pred dozhdot) (1994),Drama|War': 1,\n",
       "             '215,Before Sunrise (1995),Drama|Romance': 1,\n",
       "             '216,Billy Madison (1995),Comedy': 1,\n",
       "             '217,\"Babysitter, The (1995)\",Drama|Thriller': 1,\n",
       "             '218,Boys on the Side (1995),Comedy|Drama': 1,\n",
       "             '219,\"Cure, The (1995)\",Drama': 1,\n",
       "             '220,Castle Freak (1995),Horror': 1,\n",
       "             '222,Circle of Friends (1995),Drama|Romance': 1,\n",
       "             '223,Clerks (1994),Comedy': 1,\n",
       "             '224,Don Juan DeMarco (1995),Comedy|Drama|Romance': 1,\n",
       "             '225,Disclosure (1994),Drama|Thriller': 1,\n",
       "             '227,Drop Zone (1994),Action|Thriller': 1,\n",
       "             '228,Destiny Turns on the Radio (1995),Comedy': 1,\n",
       "             '229,Death and the Maiden (1994),Drama|Thriller': 1,\n",
       "             '230,Dolores Claiborne (1995),Drama|Thriller': 1,\n",
       "             '231,Dumb & Dumber (Dumb and Dumber) (1994),Adventure|Comedy': 1,\n",
       "             '232,Eat Drink Man Woman (Yin shi nan nu) (1994),Comedy|Drama|Romance': 1,\n",
       "             '233,Exotica (1994),Drama': 1,\n",
       "             '234,Exit to Eden (1994),Comedy': 1,\n",
       "             '235,Ed Wood (1994),Comedy|Drama': 1,\n",
       "             '236,French Kiss (1995),Action|Comedy|Romance': 1,\n",
       "             '237,Forget Paris (1995),Comedy|Romance': 1,\n",
       "             '238,Far From Home: The Adventures of Yellow Dog (1995),Adventure|Children': 1,\n",
       "             '239,\"Goofy Movie, A (1995)\",Animation|Children|Comedy|Romance': 1,\n",
       "             '240,Hideaway (1995),Thriller': 1,\n",
       "             '241,Fluke (1995),Children|Drama': 1,\n",
       "             '242,Farinelli: il castrato (1994),Drama|Musical': 1,\n",
       "             '243,Gordy (1995),Children|Comedy|Fantasy': 1,\n",
       "             '246,Hoop Dreams (1994),Documentary': 1,\n",
       "             '247,Heavenly Creatures (1994),Crime|Drama': 1,\n",
       "             '248,Houseguest (1994),Comedy': 1,\n",
       "             '249,Immortal Beloved (1994),Drama|Romance': 1,\n",
       "             '250,Heavyweights (Heavy Weights) (1995),Children|Comedy': 1,\n",
       "             '251,\"Hunted, The (1995)\",Action': 1,\n",
       "             '252,I.Q. (1994),Comedy|Romance': 1,\n",
       "             '253,Interview with the Vampire: The Vampire Chronicles (1994),Drama|Horror': 1,\n",
       "             '254,Jefferson in Paris (1995),Drama': 1,\n",
       "             '255,\"Jerky Boys, The (1995)\",Comedy': 1,\n",
       "             '256,Junior (1994),Comedy|Sci-Fi': 1,\n",
       "             '257,Just Cause (1995),Mystery|Thriller': 1,\n",
       "             '258,\"Kid in King Arthur\\'s Court, A (1995)\",Adventure|Children|Comedy|Fantasy|Romance': 1,\n",
       "             '259,Kiss of Death (1995),Crime|Drama|Thriller': 1,\n",
       "             '260,Star Wars: Episode IV - A New Hope (1977),Action|Adventure|Sci-Fi': 1,\n",
       "             '261,Little Women (1994),Drama': 1,\n",
       "             '262,\"Little Princess, A (1995)\",Children|Drama': 1,\n",
       "             '263,Ladybird Ladybird (1994),Drama': 1,\n",
       "             '265,Like Water for Chocolate (Como agua para chocolate) (1992),Drama|Fantasy|Romance': 1,\n",
       "             '266,Legends of the Fall (1994),Drama|Romance|War|Western': 1,\n",
       "             '267,Major Payne (1995),Comedy': 1,\n",
       "             '269,My Crazy Life (Mi vida loca) (1993),Drama': 1,\n",
       "             '270,Love Affair (1994),Drama|Romance': 1,\n",
       "             '271,Losing Isaiah (1995),Drama': 1,\n",
       "             '272,\"Madness of King George, The (1994)\",Comedy|Drama': 1,\n",
       "             \"273,Mary Shelley's Frankenstein (Frankenstein) (1994),Drama|Horror|Sci-Fi\": 1,\n",
       "             '274,Man of the House (1995),Comedy': 1,\n",
       "             '275,Mixed Nuts (1994),Comedy': 1,\n",
       "             '276,Milk Money (1994),Comedy|Romance': 1,\n",
       "             '277,Miracle on 34th Street (1994),Drama': 1,\n",
       "             '278,Miami Rhapsody (1995),Comedy': 1,\n",
       "             '279,My Family (1995),Drama': 1,\n",
       "             '280,Murder in the First (1995),Drama|Thriller': 1,\n",
       "             \"281,Nobody's Fool (1994),Comedy|Drama|Romance\": 1,\n",
       "             '282,Nell (1994),Drama': 1,\n",
       "             '283,New Jersey Drive (1995),Crime|Drama': 1,\n",
       "             '284,New York Cop (Nyû Yôku no koppu) (1993),Action|Crime': 1,\n",
       "             '285,Beyond Bedlam (1993),Drama|Horror': 1,\n",
       "             '287,Nina Takes a Lover (1994),Comedy|Romance': 1,\n",
       "             '288,Natural Born Killers (1994),Action|Crime|Thriller': 1,\n",
       "             '289,Only You (1994),Comedy|Romance': 1,\n",
       "             '290,Once Were Warriors (1994),Crime|Drama': 1,\n",
       "             '291,Poison Ivy II (1996),Drama|Thriller': 1,\n",
       "             '292,Outbreak (1995),Action|Drama|Sci-Fi|Thriller': 1,\n",
       "             '293,Léon: The Professional (a.k.a. The Professional) (Léon) (1994),Action|Crime|Drama|Thriller': 1,\n",
       "             '294,\"Perez Family, The (1995)\",Comedy|Romance': 1,\n",
       "             '295,\"Pyromaniac\\'s Love Story, A (1995)\",Comedy|Romance': 1,\n",
       "             '296,Pulp Fiction (1994),Comedy|Crime|Drama|Thriller': 1,\n",
       "             '298,Pushing Hands (Tui shou) (1992),Drama': 1,\n",
       "             '299,Priest (1994),Drama': 1,\n",
       "             '300,Quiz Show (1994),Drama': 1,\n",
       "             '301,Picture Bride (Bijo photo) (1994),Drama|Romance': 1,\n",
       "             '302,\"Queen Margot (Reine Margot, La) (1994)\",Drama|Romance': 1,\n",
       "             '303,\"Quick and the Dead, The (1995)\",Action|Thriller|Western': 1,\n",
       "             '304,Roommates (1995),Comedy|Drama': 1,\n",
       "             '305,Ready to Wear (Pret-A-Porter) (1994),Comedy': 1,\n",
       "             '306,Three Colors: Red (Trois couleurs: Rouge) (1994),Drama': 1,\n",
       "             '307,Three Colors: Blue (Trois couleurs: Bleu) (1993),Drama': 1,\n",
       "             '308,Three Colors: White (Trzy kolory: Bialy) (1994),Comedy|Drama': 1,\n",
       "             '310,Rent-a-Kid (1995),Comedy': 1,\n",
       "             '311,Relative Fear (1994),Horror|Thriller': 1,\n",
       "             '312,Stuart Saves His Family (1995),Comedy': 1,\n",
       "             '313,\"Swan Princess, The (1994)\",Animation|Children': 1,\n",
       "             '314,\"Secret of Roan Inish, The (1994)\",Children|Drama|Fantasy|Mystery': 1,\n",
       "             '315,\"Specialist, The (1994)\",Action|Drama|Thriller': 1,\n",
       "             '316,Stargate (1994),Action|Adventure|Sci-Fi': 1,\n",
       "             '317,\"Santa Clause, The (1994)\",Comedy|Drama|Fantasy': 1,\n",
       "             '318,\"Shawshank Redemption, The (1994)\",Crime|Drama': 1,\n",
       "             '319,Shallow Grave (1994),Comedy|Drama|Thriller': 1,\n",
       "             '320,Suture (1993),Film-Noir|Thriller': 1,\n",
       "             '321,Strawberry and Chocolate (Fresa y chocolate) (1993),Drama': 1,\n",
       "             '322,Swimming with Sharks (1995),Comedy|Drama': 1,\n",
       "             '324,\"Sum of Us, The (1994)\",Comedy|Drama': 1,\n",
       "             \"325,National Lampoon's Senior Trip (1995),Comedy\": 1,\n",
       "             '326,To Live (Huozhe) (1994),Drama': 1,\n",
       "             '327,Tank Girl (1995),Action|Comedy|Sci-Fi': 1,\n",
       "             '328,Tales from the Crypt Presents: Demon Knight (1995),Horror|Thriller': 1,\n",
       "             '329,Star Trek: Generations (1994),Adventure|Drama|Sci-Fi': 1,\n",
       "             '330,Tales from the Hood (1995),Action|Crime|Horror': 1,\n",
       "             '331,Tom & Viv (1994),Drama': 1,\n",
       "             '332,Village of the Damned (1995),Horror|Sci-Fi': 1,\n",
       "             '333,Tommy Boy (1995),Comedy': 1,\n",
       "             '334,Vanya on 42nd Street (1994),Drama': 1,\n",
       "             '335,Underneath (1995),Mystery|Thriller': 1,\n",
       "             '336,\"Walking Dead, The (1995)\",Drama|War': 1,\n",
       "             \"337,What's Eating Gilbert Grape (1993),Drama\": 1,\n",
       "             '338,Virtuosity (1995),Action|Sci-Fi|Thriller': 1,\n",
       "             '339,While You Were Sleeping (1995),Comedy|Romance': 1,\n",
       "             '340,\"War, The (1994)\",Adventure|Drama|War': 1,\n",
       "             '341,Double Happiness (1994),Drama': 1,\n",
       "             \"342,Muriel's Wedding (1994),Comedy\": 1,\n",
       "             '343,\"Baby-Sitters Club, The (1995)\",Children': 1,\n",
       "             '344,Ace Ventura: Pet Detective (1994),Comedy': 1,\n",
       "             '345,\"Adventures of Priscilla, Queen of the Desert, The (1994)\",Comedy|Drama': 1,\n",
       "             '346,Backbeat (1993),Drama|Musical': 1,\n",
       "             '347,Bitter Moon (1992),Drama|Film-Noir|Romance': 1,\n",
       "             '348,Bullets Over Broadway (1994),Comedy': 1,\n",
       "             '349,Clear and Present Danger (1994),Action|Crime|Drama|Thriller': 1,\n",
       "             '350,\"Client, The (1994)\",Drama|Mystery|Thriller': 1,\n",
       "             '351,\"Corrina, Corrina (1994)\",Comedy|Drama|Romance': 1,\n",
       "             '352,Crooklyn (1994),Comedy|Drama': 1,\n",
       "             '353,\"Crow, The (1994)\",Action|Crime|Fantasy|Thriller': 1,\n",
       "             '354,Cobb (1994),Drama': 1,\n",
       "             '355,\"Flintstones, The (1994)\",Children|Comedy|Fantasy': 1,\n",
       "             '356,Forrest Gump (1994),Comedy|Drama|Romance|War': 1,\n",
       "             '357,Four Weddings and a Funeral (1994),Comedy|Romance': 1,\n",
       "             '358,Higher Learning (1995),Drama': 1,\n",
       "             '359,I Like It Like That (1994),Comedy|Drama|Romance': 1,\n",
       "             '360,I Love Trouble (1994),Action|Comedy': 1,\n",
       "             '361,It Could Happen to You (1994),Comedy|Drama|Romance': 1,\n",
       "             '362,\"Jungle Book, The (1994)\",Adventure|Children|Romance': 1,\n",
       "             '363,\"Wonderful, Horrible Life of Leni Riefenstahl, The (Macht der Bilder: Leni Riefenstahl, Die) (1993)\",Documentary': 1,\n",
       "             '364,\"Lion King, The (1994)\",Adventure|Animation|Children|Drama|Musical|IMAX': 1,\n",
       "             '365,Little Buddha (1993),Drama': 1,\n",
       "             '366,\"Wes Craven\\'s New Nightmare (Nightmare on Elm Street Part 7: Freddy\\'s Finale, A) (1994)\",Drama|Horror|Mystery|Thriller': 1,\n",
       "             '367,\"Mask, The (1994)\",Action|Comedy|Crime|Fantasy': 1,\n",
       "             '368,Maverick (1994),Adventure|Comedy|Western': 1,\n",
       "             '369,Mrs. Parker and the Vicious Circle (1994),Drama': 1,\n",
       "             '370,Naked Gun 33 1/3: The Final Insult (1994),Action|Comedy': 1,\n",
       "             '371,\"Paper, The (1994)\",Comedy|Drama': 1,\n",
       "             '372,Reality Bites (1994),Comedy|Drama|Romance': 1,\n",
       "             '373,Red Rock West (1992),Thriller': 1,\n",
       "             '374,Richie Rich (1994),Children|Comedy': 1,\n",
       "             '376,\"River Wild, The (1994)\",Action|Thriller': 1,\n",
       "             '377,Speed (1994),Action|Romance|Thriller': 1,\n",
       "             '378,Speechless (1994),Comedy|Romance': 1,\n",
       "             '379,Timecop (1994),Action|Sci-Fi|Thriller': 1,\n",
       "             '380,True Lies (1994),Action|Adventure|Comedy|Romance|Thriller': 1,\n",
       "             '381,When a Man Loves a Woman (1994),Drama|Romance': 1,\n",
       "             '382,Wolf (1994),Drama|Horror|Romance|Thriller': 1,\n",
       "             '383,Wyatt Earp (1994),Western': 1,\n",
       "             '384,Bad Company (1995),Action|Crime|Drama': 1,\n",
       "             '385,\"Man of No Importance, A (1994)\",Drama': 1,\n",
       "             '386,S.F.W. (1994),Drama': 1,\n",
       "             '387,\"Low Down Dirty Shame, A (1994)\",Action|Comedy': 1,\n",
       "             '388,Boys Life (1995),Drama': 1,\n",
       "             '389,\"Colonel Chabert, Le (1994)\",Drama|Romance|War': 1,\n",
       "             '390,Faster Pussycat! Kill! Kill! (1965),Action|Crime|Drama': 1,\n",
       "             \"391,Jason's Lyric (1994),Crime|Drama\": 1,\n",
       "             '393,Street Fighter (1994),Action|Adventure|Fantasy': 1,\n",
       "             '405,Highlander III: The Sorcerer (a.k.a. Highlander: The Final Dimension) (1994),Action|Fantasy': 1,\n",
       "             '406,Federal Hill (1994),Drama': 1,\n",
       "             '407,In the Mouth of Madness (1995),Horror|Thriller': 1,\n",
       "             '408,8 Seconds (1994),Drama': 1,\n",
       "             '409,Above the Rim (1994),Crime|Drama': 1,\n",
       "             '410,Addams Family Values (1993),Children|Comedy|Fantasy': 1,\n",
       "             '412,\"Age of Innocence, The (1993)\",Drama': 1,\n",
       "             '413,Airheads (1994),Comedy': 1,\n",
       "             '414,\"Air Up There, The (1994)\",Comedy': 1,\n",
       "             '415,Another Stakeout (1993),Comedy|Thriller': 1,\n",
       "             '416,Bad Girls (1994),Western': 1,\n",
       "             '417,Barcelona (1994),Comedy|Romance': 1,\n",
       "             '418,Being Human (1993),Drama': 1,\n",
       "             '419,\"Beverly Hillbillies, The (1993)\",Comedy': 1,\n",
       "             '420,Beverly Hills Cop III (1994),Action|Comedy|Crime|Thriller': 1,\n",
       "             '421,Black Beauty (1994),Adventure|Children|Drama': 1,\n",
       "             '422,Blink (1994),Thriller': 1,\n",
       "             '423,Blown Away (1994),Action|Thriller': 1,\n",
       "             '424,Blue Chips (1994),Drama': 1,\n",
       "             '425,Blue Sky (1994),Drama|Romance': 1,\n",
       "             '426,Body Snatchers (1993),Horror|Sci-Fi|Thriller': 1,\n",
       "             '427,Boxing Helena (1993),Drama|Mystery|Romance|Thriller': 1,\n",
       "             '428,\"Bronx Tale, A (1993)\",Drama': 1,\n",
       "             '429,Cabin Boy (1994),Comedy': 1,\n",
       "             '430,Calendar Girl (1993),Comedy|Drama': 1,\n",
       "             \"431,Carlito's Way (1993),Crime|Drama\": 1,\n",
       "             \"432,City Slickers II: The Legend of Curly's Gold (1994),Adventure|Comedy|Western\": 1,\n",
       "             '433,Clean Slate (1994),Comedy': 1,\n",
       "             '434,Cliffhanger (1993),Action|Adventure|Thriller': 1,\n",
       "             '435,Coneheads (1993),Comedy|Sci-Fi': 1,\n",
       "             '436,Color of Night (1994),Drama|Thriller': 1,\n",
       "             '437,Cops and Robbersons (1994),Comedy': 1,\n",
       "             '438,\"Cowboy Way, The (1994)\",Action|Comedy|Drama': 1,\n",
       "             '440,Dave (1993),Comedy|Romance': 1,\n",
       "             '441,Dazed and Confused (1993),Comedy': 1,\n",
       "             '442,Demolition Man (1993),Action|Adventure|Sci-Fi': 1,\n",
       "             '444,Even Cowgirls Get the Blues (1993),Comedy|Romance': 1,\n",
       "             '445,Fatal Instinct (1993),Comedy': 1,\n",
       "             '446,Farewell My Concubine (Ba wang bie ji) (1993),Drama|Romance': 1,\n",
       "             '448,Fearless (1993),Drama': 1,\n",
       "             '449,Fear of a Black Hat (1994),Comedy': 1,\n",
       "             '450,With Honors (1994),Comedy|Drama': 1,\n",
       "             '451,Flesh and Bone (1993),Drama|Mystery|Romance': 1,\n",
       "             \"452,Widows' Peak (1994),Drama\": 1,\n",
       "             '453,For Love or Money (1993),Comedy|Romance': 1,\n",
       "             '454,\"Firm, The (1993)\",Drama|Thriller': 1,\n",
       "             '455,Free Willy (1993),Adventure|Children|Drama': 1,\n",
       "             '456,Fresh (1994),Crime|Drama|Thriller': 1,\n",
       "             '457,\"Fugitive, The (1993)\",Thriller': 1,\n",
       "             '458,Geronimo: An American Legend (1993),Drama|Western': 1,\n",
       "             '459,\"Getaway, The (1994)\",Action|Adventure|Crime|Drama|Romance|Thriller': 1,\n",
       "             '460,Getting Even with Dad (1994),Comedy': 1,\n",
       "             '461,Go Fish (1994),Drama|Romance': 1,\n",
       "             '464,Hard Target (1993),Action|Adventure|Crime|Thriller': 1,\n",
       "             '466,Hot Shots! Part Deux (1993),Action|Comedy|War': 1,\n",
       "             '467,Live Nude Girls (1995),Comedy': 1,\n",
       "             '468,\"Englishman Who Went Up a Hill But Came Down a Mountain, The (1995)\",Comedy|Romance': 1,\n",
       "             '469,\"House of the Spirits, The (1993)\",Drama|Romance': 1,\n",
       "             '470,House Party 3 (1994),Comedy': 1,\n",
       "             '471,\"Hudsucker Proxy, The (1994)\",Comedy': 1,\n",
       "             \"472,I'll Do Anything (1994),Comedy|Drama\": 1,\n",
       "             '473,In the Army Now (1994),Comedy|War': 1,\n",
       "             '474,In the Line of Fire (1993),Action|Thriller': 1,\n",
       "             '475,In the Name of the Father (1993),Drama': 1,\n",
       "             '476,\"Inkwell, The (1994)\",Comedy|Drama': 1,\n",
       "             \"477,What's Love Got to Do with It? (1993),Drama|Musical\": 1,\n",
       "             '478,Jimmy Hollywood (1994),Comedy|Crime|Drama': 1,\n",
       "             '479,Judgment Night (1993),Action|Crime|Thriller': 1,\n",
       "             '480,Jurassic Park (1993),Action|Adventure|Sci-Fi|Thriller': 1,\n",
       "             '481,Kalifornia (1993),Drama|Thriller': 1,\n",
       "             '482,Killing Zoe (1994),Crime|Drama|Thriller': 1,\n",
       "             '484,Lassie (1994),Adventure|Children': 1,\n",
       "             '485,Last Action Hero (1993),Action|Adventure|Comedy|Fantasy': 1,\n",
       "             '486,Life with Mikey (1993),Comedy': 1,\n",
       "             '487,Lightning Jack (1994),Comedy|Western': 1,\n",
       "             '488,M. Butterfly (1993),Drama|Romance': 1,\n",
       "             '489,Made in America (1993),Comedy': 1,\n",
       "             '490,Malice (1993),Thriller': 1,\n",
       "             '491,\"Man Without a Face, The (1993)\",Drama': 1,\n",
       "             '492,Manhattan Murder Mystery (1993),Comedy|Mystery': 1,\n",
       "             '493,Menace II Society (1993),Action|Crime|Drama': 1,\n",
       "             '494,Executive Decision (1996),Action|Adventure|Thriller': 1,\n",
       "             '495,In the Realm of the Senses (Ai no corrida) (1976),Drama': 1,\n",
       "             '496,What Happened Was... (1994),Comedy|Drama|Romance|Thriller': 1,\n",
       "             '497,Much Ado About Nothing (1993),Comedy|Romance': 1,\n",
       "             '499,Mr. Wonderful (1993),Comedy|Romance': 1,\n",
       "             '500,Mrs. Doubtfire (1993),Comedy|Drama': 1,\n",
       "             '501,Naked (1993),Drama': 1,\n",
       "             '502,\"Next Karate Kid, The (1994)\",Action|Children|Romance': 1,\n",
       "             '504,No Escape (1994),Action|Drama|Sci-Fi': 1,\n",
       "             '505,North (1994),Comedy': 1,\n",
       "             '506,Orlando (1992),Drama|Fantasy|Romance': 1,\n",
       "             '507,\"Perfect World, A (1993)\",Crime|Drama|Thriller': 1,\n",
       "             '508,Philadelphia (1993),Drama': 1,\n",
       "             '509,\"Piano, The (1993)\",Drama|Romance': 1,\n",
       "             '510,Poetic Justice (1993),Drama': 1,\n",
       "             '511,\"Program, The (1993)\",Action|Drama': 1,\n",
       "             '512,\"Puppet Masters, The (1994)\",Horror|Sci-Fi': 1,\n",
       "             '513,Radioland Murders (1994),Comedy|Mystery|Romance': 1,\n",
       "             '514,\"Ref, The (1994)\",Comedy': 1,\n",
       "             '515,\"Remains of the Day, The (1993)\",Drama|Romance': 1,\n",
       "             '516,Renaissance Man (1994),Comedy|Drama': 1,\n",
       "             '517,Rising Sun (1993),Action|Drama|Mystery': 1,\n",
       "             '518,\"Road to Wellville, The (1994)\",Comedy': 1,\n",
       "             '519,RoboCop 3 (1993),Action|Crime|Drama|Sci-Fi|Thriller': 1,\n",
       "             '520,Robin Hood: Men in Tights (1993),Comedy': 1,\n",
       "             '521,Romeo Is Bleeding (1993),Crime|Thriller': 1,\n",
       "             '522,Romper Stomper (1992),Action|Drama': 1,\n",
       "             '523,Ruby in Paradise (1993),Drama': 1,\n",
       "             '524,Rudy (1993),Drama': 1,\n",
       "             '526,\"Savage Nights (Nuits fauves, Les) (1992)\",Drama': 1,\n",
       "             \"527,Schindler's List (1993),Drama|War\": 1,\n",
       "             '528,\"Scout, The (1994)\",Comedy|Drama': 1,\n",
       "             '529,Searching for Bobby Fischer (1993),Drama': 1,\n",
       "             '531,\"Secret Garden, The (1993)\",Children|Drama': 1,\n",
       "             '532,Serial Mom (1994),Comedy|Crime|Horror': 1,\n",
       "             '533,\"Shadow, The (1994)\",Action|Adventure|Fantasy|Mystery': 1,\n",
       "             '534,Shadowlands (1993),Drama|Romance': 1,\n",
       "             '535,Short Cuts (1993),Drama': 1,\n",
       "             '536,\"Simple Twist of Fate, A (1994)\",Drama': 1,\n",
       "             '537,Sirens (1994),Drama': 1,\n",
       "             '538,Six Degrees of Separation (1993),Drama': 1,\n",
       "             '539,Sleepless in Seattle (1993),Comedy|Drama|Romance': 1,\n",
       "             '540,Sliver (1993),Thriller': 1,\n",
       "             '541,Blade Runner (1982),Action|Sci-Fi|Thriller': 1,\n",
       "             '542,Son in Law (1993),Comedy|Drama|Romance': 1,\n",
       "             '543,So I Married an Axe Murderer (1993),Comedy|Romance|Thriller': 1,\n",
       "             '544,Striking Distance (1993),Action|Crime': 1,\n",
       "             '546,Super Mario Bros. (1993),Action|Adventure|Children|Comedy|Fantasy|Sci-Fi': 1,\n",
       "             '547,Surviving the Game (1994),Action|Adventure|Thriller': 1,\n",
       "             '548,Terminal Velocity (1994),Action|Mystery|Thriller': 1,\n",
       "             '549,Thirty-Two Short Films About Glenn Gould (1993),Drama|Musical': 1,\n",
       "             '550,Threesome (1994),Comedy|Romance': 1,\n",
       "             '551,\"Nightmare Before Christmas, The (1993)\",Animation|Children|Fantasy|Musical': 1,\n",
       "             '552,\"Three Musketeers, The (1993)\",Action|Adventure|Comedy|Romance': 1,\n",
       "             '553,Tombstone (1993),Action|Drama|Western': 1,\n",
       "             '555,True Romance (1993),Crime|Thriller': 1,\n",
       "             '556,\"War Room, The (1993)\",Documentary': 1,\n",
       "             '558,\"Pagemaster, The (1994)\",Action|Adventure|Animation|Children|Fantasy': 1,\n",
       "             '562,Welcome to the Dollhouse (1995),Comedy|Drama': 1,\n",
       "             '563,Germinal (1993),Drama|Romance': 1,\n",
       "             '564,Chasers (1994),Comedy': 1,\n",
       "             '567,Kika (1993),Comedy|Drama': 1,\n",
       "             '568,Bhaji on the Beach (1993),Comedy|Drama': 1,\n",
       "             '569,Little Big League (1994),Comedy|Drama': 1,\n",
       "             '573,\"Ciao, Professore! (Io speriamo che me la cavo) (1992)\",Drama': 1,\n",
       "             '574,Spanking the Monkey (1994),Comedy|Drama': 1,\n",
       "             '575,\"Little Rascals, The (1994)\",Children|Comedy': 1,\n",
       "             '577,Andre (1994),Adventure|Children|Drama': 1,\n",
       "             '579,\"Escort, The (Scorta, La) (1993)\",Crime|Thriller': 1,\n",
       "             '580,Princess Caraboo (1994),Drama': 1,\n",
       "             '581,\"Celluloid Closet, The (1995)\",Documentary': 1,\n",
       "             '583,Dear Diary (Caro Diario) (1994),Comedy|Drama': 1,\n",
       "             '585,\"Brady Bunch Movie, The (1995)\",Comedy': 1,\n",
       "             '586,Home Alone (1990),Children|Comedy': 1,\n",
       "             '587,Ghost (1990),Comedy|Drama|Fantasy|Romance|Thriller': 1,\n",
       "             '588,Aladdin (1992),Adventure|Animation|Children|Comedy|Musical': 1,\n",
       "             '589,Terminator 2: Judgment Day (1991),Action|Sci-Fi': 1,\n",
       "             '590,Dances with Wolves (1990),Adventure|Drama|Western': 1,\n",
       "             '592,Batman (1989),Action|Crime|Thriller': 1,\n",
       "             '593,\"Silence of the Lambs, The (1991)\",Crime|Horror|Thriller': 1,\n",
       "             '594,Snow White and the Seven Dwarfs (1937),Animation|Children|Drama|Fantasy|Musical': 1,\n",
       "             '595,Beauty and the Beast (1991),Animation|Children|Fantasy|Musical|Romance|IMAX': 1,\n",
       "             '596,Pinocchio (1940),Animation|Children|Fantasy|Musical': 1,\n",
       "             '597,Pretty Woman (1990),Comedy|Romance': 1,\n",
       "             '599,\"Wild Bunch, The (1969)\",Adventure|Western': 1,\n",
       "             '600,Love and a .45 (1994),Action|Comedy|Crime': 1,\n",
       "             '602,\"Great Day in Harlem, A (1994)\",Documentary': 1,\n",
       "             '605,One Fine Day (1996),Drama|Romance': 1,\n",
       "             '606,Candyman: Farewell to the Flesh (1995),Fantasy|Horror': 1,\n",
       "             '608,Fargo (1996),Comedy|Crime|Drama|Thriller': 1,\n",
       "             '609,Homeward Bound II: Lost in San Francisco (1996),Adventure|Children': 1,\n",
       "             '610,Heavy Metal (1981),Action|Adventure|Animation|Horror|Sci-Fi': 1,\n",
       "             '611,Hellraiser: Bloodline (1996),Action|Horror|Sci-Fi': 1,\n",
       "             '612,\"Pallbearer, The (1996)\",Comedy': 1,\n",
       "             '613,Jane Eyre (1996),Drama|Romance': 1,\n",
       "             '615,Bread and Chocolate (Pane e cioccolata) (1973),Comedy|Drama': 1,\n",
       "             '616,\"Aristocats, The (1970)\",Animation|Children': 1,\n",
       "             '617,\"Flower of My Secret, The (La flor de mi secreto) (1995)\",Comedy|Drama': 1,\n",
       "             '618,Two Much (1995),Comedy|Romance': 1,\n",
       "             '619,Ed (1996),Comedy': 1,\n",
       "             '626,\"Thin Line Between Love and Hate, A (1996)\",Comedy': 1,\n",
       "             '627,\"Last Supper, The (1995)\",Drama|Thriller': 1,\n",
       "             '628,Primal Fear (1996),Crime|Drama|Mystery|Thriller': 1,\n",
       "             '631,All Dogs Go to Heaven 2 (1996),Adventure|Animation|Children|Fantasy|Musical|Romance': 1,\n",
       "             '632,Land and Freedom (Tierra y libertad) (1995),Drama|War': 1,\n",
       "             '633,Denise Calls Up (1995),Comedy': 1,\n",
       "             '634,Theodore Rex (1995),Comedy': 1,\n",
       "             '635,\"Family Thing, A (1996)\",Comedy|Drama': 1,\n",
       "             '636,Frisk (1995),Drama': 1,\n",
       "             '637,Sgt. Bilko (1996),Comedy': 1,\n",
       "             '638,Jack and Sarah (1995),Romance': 1,\n",
       "             '639,Girl 6 (1996),Comedy|Drama': 1,\n",
       "             '640,Diabolique (1996),Drama|Thriller': 1,\n",
       "             '645,Nelly & Monsieur Arnaud (1995),Drama': 1,\n",
       "             '647,Courage Under Fire (1996),Action|Crime|Drama|War': 1,\n",
       "             '648,Mission: Impossible (1996),Action|Adventure|Mystery|Thriller': 1,\n",
       "             '649,Cold Fever (Á köldum klaka) (1995),Comedy|Drama': 1,\n",
       "             '650,Moll Flanders (1996),Drama': 1,\n",
       "             '653,Dragonheart (1996),Action|Adventure|Fantasy': 1,\n",
       "             '656,Eddie (1996),Comedy': 1,\n",
       "             '661,James and the Giant Peach (1996),Adventure|Animation|Children|Fantasy|Musical': 1,\n",
       "             '662,Fear (1996),Thriller': 1,\n",
       "             '663,Kids in the Hall: Brain Candy (1996),Comedy': 1,\n",
       "             '665,Underground (1995),Comedy|Drama|War': 1,\n",
       "             '667,Bloodsport 2 (a.k.a. Bloodsport II: The Next Kumite) (1996),Action': 1,\n",
       "             '668,Song of the Little Road (Pather Panchali) (1955),Drama': 1,\n",
       "             '670,\"World of Apu, The (Apur Sansar) (1959)\",Drama': 1,\n",
       "             '671,Mystery Science Theater 3000: The Movie (1996),Comedy|Sci-Fi': 1,\n",
       "             '673,Space Jam (1996),Adventure|Animation|Children|Comedy|Fantasy|Sci-Fi': 1,\n",
       "             '674,Barbarella (1968),Adventure|Comedy|Sci-Fi': 1,\n",
       "             '678,Some Folks Call It a Sling Blade (1993),Drama|Thriller': 1,\n",
       "             '679,\"Run of the Country, The (1995)\",Drama': 1,\n",
       "             '680,\"Alphaville (Alphaville, une étrange aventure de Lemmy Caution) (1965)\",Drama|Mystery|Romance|Sci-Fi|Thriller': 1,\n",
       "             \"685,It's My Party (1996),Drama\": 1,\n",
       "             '688,Operation Dumbo Drop (1995),Action|Adventure|Comedy|War': 1,\n",
       "             '691,Mrs. Winterbourne (1996),Comedy|Romance': 1,\n",
       "             '692,Solo (1996),Action|Sci-Fi|Thriller': 1,\n",
       "             '694,\"Substitute, The (1996)\",Action|Crime|Drama': 1,\n",
       "             '695,True Crime (1996),Mystery|Thriller': 1,\n",
       "             '697,Feeling Minnesota (1996),Drama|Romance': 1,\n",
       "             '698,Delta of Venus (1995),Drama': 1,\n",
       "             '700,Angus (1995),Comedy': 1,\n",
       "             '703,Boys (1996),Drama': 1,\n",
       "             '704,\"Quest, The (1996)\",Action|Adventure': 1,\n",
       "             '706,Sunset Park (1996),Drama': 1,\n",
       "             '707,Mulholland Falls (1996),Crime|Drama|Thriller': 1,\n",
       "             '708,\"Truth About Cats & Dogs, The (1996)\",Comedy|Romance': 1,\n",
       "             '709,Oliver & Company (1988),Adventure|Animation|Children|Comedy|Musical': 1,\n",
       "             '710,Celtic Pride (1996),Comedy': 1,\n",
       "             '711,Flipper (1996),Adventure|Children': 1,\n",
       "             '714,Dead Man (1995),Drama|Mystery|Western': 1,\n",
       "             '715,\"Horseman on the Roof, The (Hussard sur le toit, Le) (1995)\",Drama|Romance': 1,\n",
       "             '718,\"Visitors, The (Visiteurs, Les) (1993)\",Comedy|Fantasy|Sci-Fi': 1,\n",
       "             '719,Multiplicity (1996),Comedy': 1,\n",
       "             '720,Wallace & Gromit: The Best of Aardman Animation (1996),Adventure|Animation|Comedy': 1,\n",
       "             '722,\"Haunted World of Edward D. Wood Jr., The (1996)\",Documentary': 1,\n",
       "             '724,\"Craft, The (1996)\",Drama|Fantasy|Horror|Thriller': 1,\n",
       "             '725,\"Great White Hype, The (1996)\",Comedy': 1,\n",
       "             '726,Last Dance (1996),Drama': 1,\n",
       "             '728,Cold Comfort Farm (1995),Comedy': 1,\n",
       "             \"731,Heaven's Prisoners (1996),Crime|Thriller\": 1,\n",
       "             '733,\"Rock, The (1996)\",Action|Adventure|Thriller': 1,\n",
       "             '735,Cemetery Man (Dellamorte Dellamore) (1994),Horror': 1,\n",
       "             '736,Twister (1996),Action|Adventure|Romance|Thriller': 1,\n",
       "             '737,Barb Wire (1996),Action|Sci-Fi': 1,\n",
       "             '741,Ghost in the Shell (Kôkaku kidôtai) (1995),Animation|Sci-Fi': 1,\n",
       "             '742,Thinner (1996),Horror|Thriller': 1,\n",
       "             '743,Spy Hard (1996),Comedy': 1,\n",
       "             '745,Wallace & Gromit: A Close Shave (1995),Animation|Children|Comedy': 1,\n",
       "             '747,\"Stupids, The (1996)\",Comedy': 1,\n",
       "             '748,\"Arrival, The (1996)\",Action|Sci-Fi|Thriller': 1,\n",
       "             '750,Dr. Strangelove or: How I Learned to Stop Worrying and Love the Bomb (1964),Comedy|War': 1,\n",
       "             '757,Ashes of Time (Dung che sai duk) (1994),Drama': 1,\n",
       "             '759,Maya Lin: A Strong Clear Vision (1994),Documentary': 1,\n",
       "             '760,Stalingrad (1993),Drama|War': 1,\n",
       "             '761,\"Phantom, The (1996)\",Action|Adventure': 1,\n",
       "             '762,Striptease (1996),Comedy|Crime': 1,\n",
       "             '764,Heavy (1995),Drama|Romance': 1,\n",
       "             '765,Jack (1996),Comedy|Drama': 1,\n",
       "             '766,I Shot Andy Warhol (1996),Drama': 1,\n",
       "             '773,Touki Bouki (1973),Drama': 1,\n",
       "             '775,Spirits of the Dead (1968),Horror|Mystery': 1,\n",
       "             '778,Trainspotting (1996),Comedy|Crime|Drama': 1,\n",
       "             \"779,'Til There Was You (1997),Drama|Romance\": 1,\n",
       "             '780,Independence Day (a.k.a. ID4) (1996),Action|Adventure|Sci-Fi|Thriller': 1,\n",
       "             '781,Stealing Beauty (1996),Drama': 1,\n",
       "             '782,\"Fan, The (1996)\",Drama|Thriller': 1,\n",
       "             '783,\"Hunchback of Notre Dame, The (1996)\",Animation|Children|Drama|Musical|Romance': 1,\n",
       "             '784,\"Cable Guy, The (1996)\",Comedy|Thriller': 1,\n",
       "             '785,Kingpin (1996),Comedy': 1,\n",
       "             '786,Eraser (1996),Action|Drama|Thriller': 1,\n",
       "             '788,\"Nutty Professor, The (1996)\",Comedy|Fantasy|Romance|Sci-Fi': 1,\n",
       "             '790,\"Unforgettable Summer, An (Un été inoubliable) (1994)\",Drama': 1,\n",
       "             '791,\"Last Klezmer: Leopold Kozlowski, His Life and Music, The (1994)\",Documentary': 1,\n",
       "             '795,Somebody to Love (1994),Drama': 1,\n",
       "             '798,Daylight (1996),Action|Adventure|Drama|Thriller': 1,\n",
       "             '799,\"Frighteners, The (1996)\",Comedy|Horror|Thriller': 1,\n",
       "             '800,Lone Star (1996),Drama|Mystery|Western': 1,\n",
       "             '801,Harriet the Spy (1996),Children|Comedy': 1,\n",
       "             '802,Phenomenon (1996),Drama|Romance': 1,\n",
       "             '803,Walking and Talking (1996),Comedy|Drama|Romance': 1,\n",
       "             \"804,She's the One (1996),Comedy|Romance\": 1,\n",
       "             '805,\"Time to Kill, A (1996)\",Drama|Thriller': 1,\n",
       "             '806,American Buffalo (1996),Crime|Drama': 1,\n",
       "             '808,Alaska (1996),Adventure|Children': 1,\n",
       "             '809,Fled (1996),Action|Adventure': 1,\n",
       "             '810,Kazaam (1996),Children|Comedy|Fantasy': 1,\n",
       "             '813,Larger Than Life (1996),Comedy': 1,\n",
       "             '818,\"Very Brady Sequel, A (1996)\",Comedy': 1,\n",
       "             '823,\"Collector, The (La collectionneuse) (1967)\",Drama': 1,\n",
       "             '824,Kaspar Hauser (1993),Drama|Mystery': 1,\n",
       "             '828,\"Adventures of Pinocchio, The (1996)\",Adventure|Children': 1,\n",
       "             \"829,Joe's Apartment (1996),Comedy|Fantasy|Musical\": 1,\n",
       "             '830,\"First Wives Club, The (1996)\",Comedy': 1,\n",
       "             '832,Ransom (1996),Crime|Thriller': 1,\n",
       "             '833,High School High (1996),Comedy': 1,\n",
       "             '835,Foxfire (1996),Drama': 1,\n",
       "             '836,Chain Reaction (1996),Action|Adventure|Thriller': 1,\n",
       "             '837,Matilda (1996),Children|Comedy|Fantasy': 1,\n",
       "             '838,Emma (1996),Comedy|Drama|Romance': 1,\n",
       "             '839,\"Crow: City of Angels, The (1996)\",Action|Thriller': 1,\n",
       "             '840,House Arrest (1996),Children|Comedy': 1,\n",
       "             '841,\"Eyes Without a Face (Yeux sans visage, Les) (1959)\",Horror': 1,\n",
       "             '842,Tales from the Crypt Presents: Bordello of Blood (1996),Comedy|Horror': 1,\n",
       "             '848,\"Spitfire Grill, The (1996)\",Drama': 1,\n",
       "             '849,Escape from L.A. (1996),Action|Adventure|Sci-Fi|Thriller': 1,\n",
       "             '851,Basquiat (1996),Drama': 1,\n",
       "             '852,Tin Cup (1996),Comedy|Drama|Romance': 1,\n",
       "             '858,\"Godfather, The (1972)\",Crime|Drama': 1,\n",
       "             '861,Supercop (Police Story 3: Supercop) (Jing cha gu shi III: Chao ji jing cha) (1992),Action|Comedy|Crime|Thriller': 1,\n",
       "             '866,Bound (1996),Crime|Drama|Romance|Thriller': 1,\n",
       "             '867,Carpool (1996),Comedy|Crime': 1,\n",
       "             '869,Kansas City (1996),Crime|Drama|Musical|Thriller': 1,\n",
       "             \"870,Gone Fishin' (1997),Comedy\": 1,\n",
       "             '875,Nothing to Lose (1994),Action|Crime|Drama': 1,\n",
       "             '876,Supercop 2 (Project S) (Chao ji ji hua) (1993),Action|Comedy|Crime|Thriller': 1,\n",
       "             '879,\"Relic, The (1997)\",Horror|Thriller': 1,\n",
       "             '880,\"Island of Dr. Moreau, The (1996)\",Sci-Fi|Thriller': 1,\n",
       "             '881,First Kid (1996),Children|Comedy': 1,\n",
       "             '882,\"Trigger Effect, The (1996)\",Drama|Thriller': 1,\n",
       "             '885,Bogus (1996),Children|Drama|Fantasy': 1,\n",
       "             '886,Bulletproof (1996),Action|Comedy|Crime': 1,\n",
       "             '888,Land Before Time III: The Time of the Great Giving (1995),Adventure|Animation|Children|Musical': 1,\n",
       "             '889,1-900 (06) (1994),Drama|Romance': 1,\n",
       "             '891,Halloween: The Curse of Michael Myers (Halloween 6: The Curse of Michael Myers) (1995),Horror|Thriller': 1,\n",
       "             '892,Twelfth Night (1996),Comedy|Drama|Romance': 1,\n",
       "             '893,Mother Night (1996),Drama': 1,\n",
       "             '896,Wild Reeds (Les roseaux sauvages) (1994),Drama': 1,\n",
       "             '897,For Whom the Bell Tolls (1943),Adventure|Drama|Romance|War': 1,\n",
       "             '898,\"Philadelphia Story, The (1940)\",Comedy|Drama|Romance': 1,\n",
       "             \"899,Singin' in the Rain (1952),Comedy|Musical|Romance\": 1,\n",
       "             '900,\"American in Paris, An (1951)\",Musical|Romance': 1,\n",
       "             '901,Funny Face (1957),Comedy|Musical': 1,\n",
       "             \"902,Breakfast at Tiffany's (1961),Drama|Romance\": 1,\n",
       "             '903,Vertigo (1958),Drama|Mystery|Romance|Thriller': 1,\n",
       "             '904,Rear Window (1954),Mystery|Thriller': 1,\n",
       "             '905,It Happened One Night (1934),Comedy|Romance': 1,\n",
       "             '906,Gaslight (1944),Drama|Thriller': 1,\n",
       "             '907,\"Gay Divorcee, The (1934)\",Comedy|Musical|Romance': 1,\n",
       "             '908,North by Northwest (1959),Action|Adventure|Mystery|Romance|Thriller': 1,\n",
       "             '909,\"Apartment, The (1960)\",Comedy|Drama|Romance': 1,\n",
       "             '910,Some Like It Hot (1959),Comedy|Crime': 1,\n",
       "             '911,Charade (1963),Comedy|Crime|Mystery|Romance|Thriller': 1,\n",
       "             '912,Casablanca (1942),Drama|Romance': 1,\n",
       "             '913,\"Maltese Falcon, The (1941)\",Film-Noir|Mystery': 1,\n",
       "             '914,My Fair Lady (1964),Comedy|Drama|Musical|Romance': 1,\n",
       "             '915,Sabrina (1954),Comedy|Romance': 1,\n",
       "             '916,Roman Holiday (1953),Comedy|Drama|Romance': 1,\n",
       "             '917,\"Little Princess, The (1939)\",Children|Drama': 1,\n",
       "             '918,Meet Me in St. Louis (1944),Musical': 1,\n",
       "             '919,\"Wizard of Oz, The (1939)\",Adventure|Children|Fantasy|Musical': 1,\n",
       "             '920,Gone with the Wind (1939),Drama|Romance|War': 1,\n",
       "             '921,My Favorite Year (1982),Comedy': 1,\n",
       "             '922,Sunset Blvd. (a.k.a. Sunset Boulevard) (1950),Drama|Film-Noir|Romance': 1,\n",
       "             '923,Citizen Kane (1941),Drama|Mystery': 1,\n",
       "             '924,2001: A Space Odyssey (1968),Adventure|Drama|Sci-Fi': 1,\n",
       "             '926,All About Eve (1950),Drama': 1,\n",
       "             '927,\"Women, The (1939)\",Comedy': 1,\n",
       "             '928,Rebecca (1940),Drama|Mystery|Romance|Thriller': 1,\n",
       "             '929,Foreign Correspondent (1940),Drama|Film-Noir|Mystery|Thriller': 1,\n",
       "             '930,Notorious (1946),Film-Noir|Romance|Thriller': 1,\n",
       "             '931,Spellbound (1945),Mystery|Romance|Thriller': 1,\n",
       "             '932,\"Affair to Remember, An (1957)\",Drama|Romance': 1,\n",
       "             '933,To Catch a Thief (1955),Crime|Mystery|Romance|Thriller': 1,\n",
       "             '934,Father of the Bride (1950),Comedy': 1,\n",
       "             '935,\"Band Wagon, The (1953)\",Comedy|Musical': 1,\n",
       "             '936,Ninotchka (1939),Comedy|Romance': 1,\n",
       "             '937,Love in the Afternoon (1957),Comedy|Romance': 1,\n",
       "             '938,Gigi (1958),Musical': 1,\n",
       "             '940,\"Adventures of Robin Hood, The (1938)\",Action|Adventure|Romance': 1,\n",
       "             '941,\"Mark of Zorro, The (1940)\",Adventure': 1,\n",
       "             '942,Laura (1944),Crime|Film-Noir|Mystery': 1,\n",
       "             '943,\"Ghost and Mrs. Muir, The (1947)\",Drama|Fantasy|Romance': 1,\n",
       "             '944,Lost Horizon (1937),Drama': 1,\n",
       "             '945,Top Hat (1935),Comedy|Musical|Romance': 1,\n",
       "             '946,To Be or Not to Be (1942),Comedy|Drama|War': 1,\n",
       "             '947,My Man Godfrey (1936),Comedy|Romance': 1,\n",
       "             '948,Giant (1956),Drama|Romance|Western': 1,\n",
       "             '949,East of Eden (1955),Drama': 1,\n",
       "             '950,\"Thin Man, The (1934)\",Comedy|Crime': 1,\n",
       "             '951,His Girl Friday (1940),Comedy|Romance': 1,\n",
       "             '952,Around the World in 80 Days (1956),Adventure|Comedy': 1,\n",
       "             \"953,It's a Wonderful Life (1946),Children|Drama|Fantasy|Romance\": 1,\n",
       "             '954,Mr. Smith Goes to Washington (1939),Drama': 1,\n",
       "             '955,Bringing Up Baby (1938),Comedy|Romance': 1,\n",
       "             '956,Penny Serenade (1941),Drama|Romance': 1,\n",
       "             '959,Of Human Bondage (1934),Drama': 1,\n",
       "             '961,Little Lord Fauntleroy (1936),Drama': 1,\n",
       "             '963,\"Inspector General, The (1949)\",Musical': 1,\n",
       "             '965,\"39 Steps, The (1935)\",Drama|Mystery|Thriller': 1,\n",
       "             '968,Night of the Living Dead (1968),Horror|Sci-Fi|Thriller': 1,\n",
       "             '969,\"African Queen, The (1951)\",Adventure|Comedy|Romance|War': 1,\n",
       "             '970,Beat the Devil (1953),Adventure|Comedy|Crime|Drama|Romance': 1,\n",
       "             '971,Cat on a Hot Tin Roof (1958),Drama': 1,\n",
       "             '973,Meet John Doe (1941),Comedy|Drama': 1,\n",
       "             '976,\"Farewell to Arms, A (1932)\",Romance|War': 1,\n",
       "             '979,Nothing Personal (1995),Drama|War': 1,\n",
       "             '981,Dangerous Ground (1997),Drama': 1,\n",
       "             '982,Picnic (1955),Drama': 1,\n",
       "             '984,\"Pompatus of Love, The (1996)\",Comedy|Drama': 1,\n",
       "             '986,Fly Away Home (1996),Adventure|Children': 1,\n",
       "             '987,Bliss (1997),Drama|Romance': 1,\n",
       "             '988,Grace of My Heart (1996),Comedy|Drama': 1,\n",
       "             '990,Maximum Risk (1996),Action|Adventure|Thriller': 1,\n",
       "             '991,Michael Collins (1996),Drama': 1,\n",
       "             '993,Infinity (1996),Drama': 1,\n",
       "             '994,Big Night (1996),Comedy|Drama': 1,\n",
       "             '996,Last Man Standing (1996),Action|Crime|Drama|Thriller': 1,\n",
       "             '998,Set It Off (1996),Action|Crime': 1,\n",
       "             '999,2 Days in the Valley (1996),Crime|Film-Noir': 1,\n",
       "             '1003,Extreme Measures (1996),Drama|Thriller': 1,\n",
       "             '1004,\"Glimmer Man, The (1996)\",Action|Thriller': 1,\n",
       "             '1005,D3: The Mighty Ducks (1996),Children|Comedy': 1,\n",
       "             '1006,\"Chamber, The (1996)\",Drama': 1,\n",
       "             '1007,\"Apple Dumpling Gang, The (1975)\",Children|Comedy|Western': 1,\n",
       "             '1008,\"Davy Crockett, King of the Wild Frontier (1955)\",Adventure|Western': 1,\n",
       "             '1009,Escape to Witch Mountain (1975),Adventure|Children|Fantasy': 1,\n",
       "             '1010,\"Love Bug, The (1969)\",Children|Comedy': 1,\n",
       "             '1011,Herbie Rides Again (1974),Children|Comedy|Fantasy|Romance': 1,\n",
       "             '1012,Old Yeller (1957),Children|Drama': 1,\n",
       "             '1013,\"Parent Trap, The (1961)\",Children|Comedy|Romance': 1,\n",
       "             '1014,Pollyanna (1960),Children|Comedy|Drama': 1,\n",
       "             '1015,Homeward Bound: The Incredible Journey (1993),Adventure|Children|Drama': 1,\n",
       "             '1016,\"Shaggy Dog, The (1959)\",Children|Comedy': 1,\n",
       "             '1017,Swiss Family Robinson (1960),Adventure|Children': 1,\n",
       "             '1018,That Darn Cat! (1965),Children|Comedy|Mystery': 1,\n",
       "             '1019,\"20,000 Leagues Under the Sea (1954)\",Adventure|Drama|Sci-Fi': 1,\n",
       "             '1020,Cool Runnings (1993),Comedy': 1,\n",
       "             '1021,Angels in the Outfield (1994),Children|Comedy': 1,\n",
       "             '1022,Cinderella (1950),Animation|Children|Fantasy|Musical|Romance': 1,\n",
       "             '1023,Winnie the Pooh and the Blustery Day (1968),Animation|Children|Musical': 1,\n",
       "             '1024,\"Three Caballeros, The (1945)\",Animation|Children|Musical': 1,\n",
       "             '1025,\"Sword in the Stone, The (1963)\",Animation|Children|Fantasy|Musical': 1,\n",
       "             '1027,Robin Hood: Prince of Thieves (1991),Adventure|Drama': 1,\n",
       "             '1028,Mary Poppins (1964),Children|Comedy|Fantasy|Musical': 1,\n",
       "             '1029,Dumbo (1941),Animation|Children|Drama|Musical': 1,\n",
       "             \"1030,Pete's Dragon (1977),Adventure|Animation|Children|Musical\": 1,\n",
       "             '1031,Bedknobs and Broomsticks (1971),Adventure|Children|Musical': 1,\n",
       "             '1032,Alice in Wonderland (1951),Adventure|Animation|Children|Fantasy|Musical': 1,\n",
       "             '1033,\"Fox and the Hound, The (1981)\",Animation|Children|Drama': 1,\n",
       "             '1034,Freeway (1996),Comedy|Crime|Drama|Thriller': 1,\n",
       "             '1035,\"Sound of Music, The (1965)\",Musical|Romance': 1,\n",
       "             '1036,Die Hard (1988),Action|Crime|Thriller': 1,\n",
       "             '1037,\"Lawnmower Man, The (1992)\",Action|Horror|Sci-Fi|Thriller': 1,\n",
       "             '1040,\"Secret Agent, The (1996)\",Drama': 1,\n",
       "             '1041,Secrets & Lies (1996),Drama': 1,\n",
       "             '1042,That Thing You Do! (1996),Comedy|Drama': 1,\n",
       "             '1043,To Gillian on Her 37th Birthday (1996),Drama|Romance': 1,\n",
       "             '1046,Beautiful Thing (1996),Drama|Romance': 1,\n",
       "             '1047,\"Long Kiss Goodnight, The (1996)\",Action|Drama|Thriller': 1,\n",
       "             '1049,\"Ghost and the Darkness, The (1996)\",Action|Adventure': 1,\n",
       "             '1050,Looking for Richard (1996),Documentary|Drama': 1,\n",
       "             '1051,Trees Lounge (1996),Drama': 1,\n",
       "             '1053,Normal Life (1996),Crime|Drama|Romance': 1,\n",
       "             '1054,Get on the Bus (1996),Drama': 1,\n",
       "             '1055,Shadow Conspiracy (1997),Thriller': 1,\n",
       "             '1056,Jude (1996),Drama': 1,\n",
       "             '1057,Everyone Says I Love You (1996),Comedy|Musical|Romance': 1,\n",
       "             \"1059,William Shakespeare's Romeo + Juliet (1996),Drama|Romance\": 1,\n",
       "             '1060,Swingers (1996),Comedy|Drama': 1,\n",
       "             '1061,Sleepers (1996),Thriller': 1,\n",
       "             '1064,Aladdin and the King of Thieves (1996),Animation|Children|Comedy|Fantasy|Musical|Romance': 1,\n",
       "             '1066,Shall We Dance (1937),Comedy|Musical|Romance': 1,\n",
       "             '1068,Crossfire (1947),Crime|Film-Noir': 1,\n",
       "             '1073,Willy Wonka & the Chocolate Factory (1971),Children|Comedy|Fantasy|Musical': 1,\n",
       "             '1076,\"Innocents, The (1961)\",Drama|Horror|Thriller': 1,\n",
       "             '1077,Sleeper (1973),Comedy|Sci-Fi': 1,\n",
       "             '1078,Bananas (1971),Comedy|War': 1,\n",
       "             '1079,\"Fish Called Wanda, A (1988)\",Comedy|Crime': 1,\n",
       "             \"1080,Monty Python's Life of Brian (1979),Comedy\": 1,\n",
       "             '1081,Victor/Victoria (1982),Comedy|Musical|Romance': 1,\n",
       "             '1082,\"Candidate, The (1972)\",Drama': 1,\n",
       "             '1083,\"Great Race, The (1965)\",Comedy|Musical': 1,\n",
       "             '1084,Bonnie and Clyde (1967),Crime|Drama': 1,\n",
       "             '1085,\"Old Man and the Sea, The (1958)\",Adventure|Drama': 1,\n",
       "             '1086,Dial M for Murder (1954),Crime|Mystery|Thriller': 1,\n",
       "             '1088,Dirty Dancing (1987),Drama|Musical|Romance': 1,\n",
       "             '1089,Reservoir Dogs (1992),Crime|Mystery|Thriller': 1,\n",
       "             '1090,Platoon (1986),Drama|War': 1,\n",
       "             \"1091,Weekend at Bernie's (1989),Comedy\": 1,\n",
       "             '1092,Basic Instinct (1992),Crime|Mystery|Thriller': 1,\n",
       "             '1093,\"Doors, The (1991)\",Drama': 1,\n",
       "             '1094,\"Crying Game, The (1992)\",Drama|Romance|Thriller': 1,\n",
       "             '1095,Glengarry Glen Ross (1992),Drama': 1,\n",
       "             \"1096,Sophie's Choice (1982),Drama\": 1,\n",
       "             '1097,E.T. the Extra-Terrestrial (1982),Children|Drama|Sci-Fi': 1,\n",
       "             '1099,\"Christmas Carol, A (1938)\",Children|Drama|Fantasy': 1,\n",
       "             '1100,Days of Thunder (1990),Action|Drama|Romance': 1,\n",
       "             '1101,Top Gun (1986),Action|Romance': 1,\n",
       "             '1103,Rebel Without a Cause (1955),Drama': 1,\n",
       "             '1104,\"Streetcar Named Desire, A (1951)\",Drama': 1,\n",
       "             '1105,Children of the Corn IV: The Gathering (1996),Horror': 1,\n",
       "             '1107,Loser (1991),Comedy': 1,\n",
       "             \"1111,Microcosmos (Microcosmos: Le peuple de l'herbe) (1996),Documentary\": 1,\n",
       "             '1112,Palookaville (1996),Action|Comedy|Drama': 1,\n",
       "             '1114,\"Funeral, The (1996)\",Crime|Drama': 1,\n",
       "             '1116,\"Single Girl, A (Fille seule, La) (1995)\",Drama': 1,\n",
       "             '1117,\"Eighth Day, The (Huitième jour, Le) (1996)\",Drama': 1,\n",
       "             '1119,Drunks (1995),Drama': 1,\n",
       "             '1120,\"People vs. Larry Flynt, The (1996)\",Comedy|Drama': 1,\n",
       "             '1121,Glory Daze (1995),Drama': 1,\n",
       "             '1123,\"Perfect Candidate, A (1996)\",Documentary': 1,\n",
       "             '1124,On Golden Pond (1981),Drama': 1,\n",
       "             '1125,\"Return of the Pink Panther, The (1975)\",Comedy|Crime': 1,\n",
       "             '1126,Drop Dead Fred (1991),Comedy|Fantasy': 1,\n",
       "             '1127,\"Abyss, The (1989)\",Action|Adventure|Sci-Fi|Thriller': 1,\n",
       "             '1128,\"Fog, The (1980)\",Horror': 1,\n",
       "             '1129,Escape from New York (1981),Action|Adventure|Sci-Fi|Thriller': 1,\n",
       "             '1130,\"Howling, The (1980)\",Horror|Mystery': 1,\n",
       "             '1131,Jean de Florette (1986),Drama|Mystery': 1,\n",
       "             '1132,Manon of the Spring (Manon des sources) (1986),Drama': 1,\n",
       "             '1135,Private Benjamin (1980),Comedy': 1,\n",
       "             '1136,Monty Python and the Holy Grail (1975),Adventure|Comedy|Fantasy': 1,\n",
       "             '1137,Hustler White (1996),Romance': 1,\n",
       "             '1140,Entertaining Angels: The Dorothy Day Story (1996),Drama': 1,\n",
       "             '1144,\"Line King: The Al Hirschfeld Story, The (1996)\",Documentary': 1,\n",
       "             '1147,When We Were Kings (1996),Documentary': 1,\n",
       "             '1148,Wallace & Gromit: The Wrong Trousers (1993),Animation|Children|Comedy|Crime': 1,\n",
       "             '1150,\"Return of Martin Guerre, The (Retour de Martin Guerre, Le) (1982)\",Drama': 1,\n",
       "             '1151,Lesson Faust (1994),Animation|Comedy|Drama|Fantasy': 1,\n",
       "             '1156,\"Children Are Watching Us, The (Bambini ci guardano, I) (1944)\",Drama': 1,\n",
       "             '1161,\"Tin Drum, The (Blechtrommel, Die) (1979)\",Drama|War': 1,\n",
       "             '1162,\"Ruling Class, The (1972)\",Comedy|Drama': 1,\n",
       "             '1163,Mina Tannenbaum (1994),Drama': 1,\n",
       "             '1167,Dear God (1996),Comedy': 1,\n",
       "             '1170,Best of the Best 3: No Turning Back (1995),Action': 1,\n",
       "             '1171,Bob Roberts (1992),Comedy': 1,\n",
       "             '1172,Cinema Paradiso (Nuovo cinema Paradiso) (1989),Drama': 1,\n",
       "             '1173,\"Cook the Thief His Wife & Her Lover, The (1989)\",Comedy|Drama': 1,\n",
       "             '1175,Delicatessen (1991),Comedy|Drama|Romance': 1,\n",
       "             '1176,\"Double Life of Veronique, The (Double Vie de Véronique, La) (1991)\",Drama|Fantasy|Romance': 1,\n",
       "             '1177,Enchanted April (1992),Drama|Romance': 1,\n",
       "             '1178,Paths of Glory (1957),Drama|War': 1,\n",
       "             '1179,\"Grifters, The (1990)\",Crime|Drama|Film-Noir': 1,\n",
       "             '1180,Hear My Song (1991),Comedy': 1,\n",
       "             '1183,\"English Patient, The (1996)\",Drama|Romance|War': 1,\n",
       "             '1184,Mediterraneo (1991),Comedy|Drama': 1,\n",
       "             '1185,My Left Foot (1989),Drama': 1,\n",
       "             '1186,\"Sex, Lies, and Videotape (1989)\",Drama': 1,\n",
       "             '1187,Passion Fish (1992),Drama': 1,\n",
       "             '1188,Strictly Ballroom (1992),Comedy|Romance': 1,\n",
       "             '1189,\"Thin Blue Line, The (1988)\",Documentary': 1,\n",
       "             '1190,Tie Me Up! Tie Me Down! (¡Átame!) (1990),Crime|Drama|Romance': 1,\n",
       "             '1191,Madonna: Truth or Dare (1991),Documentary|Musical': 1,\n",
       "             '1192,Paris Is Burning (1990),Documentary': 1,\n",
       "             \"1193,One Flew Over the Cuckoo's Nest (1975),Drama\": 1,\n",
       "             \"1194,Cheech and Chong's Up in Smoke (1978),Comedy\": 1,\n",
       "             '1196,Star Wars: Episode V - The Empire Strikes Back (1980),Action|Adventure|Sci-Fi': 1,\n",
       "             '1197,\"Princess Bride, The (1987)\",Action|Adventure|Comedy|Fantasy|Romance': 1,\n",
       "             '1198,Raiders of the Lost Ark (Indiana Jones and the Raiders of the Lost Ark) (1981),Action|Adventure': 1,\n",
       "             '1199,Brazil (1985),Fantasy|Sci-Fi': 1,\n",
       "             '1200,Aliens (1986),Action|Adventure|Horror|Sci-Fi': 1,\n",
       "             '1201,\"Good, the Bad and the Ugly, The (Buono, il brutto, il cattivo, Il) (1966)\",Action|Adventure|Western': 1,\n",
       "             '1202,Withnail & I (1987),Comedy': 1,\n",
       "             '1203,12 Angry Men (1957),Drama': 1,\n",
       "             '1204,Lawrence of Arabia (1962),Adventure|Drama|War': 1,\n",
       "             '1206,\"Clockwork Orange, A (1971)\",Crime|Drama|Sci-Fi|Thriller': 1,\n",
       "             '1207,To Kill a Mockingbird (1962),Drama': 1,\n",
       "             '1208,Apocalypse Now (1979),Action|Drama|War': 1,\n",
       "             \"1209,Once Upon a Time in the West (C'era una volta il West) (1968),Action|Drama|Western\": 1,\n",
       "             '1210,Star Wars: Episode VI - Return of the Jedi (1983),Action|Adventure|Sci-Fi': 1,\n",
       "             '1211,\"Wings of Desire (Himmel über Berlin, Der) (1987)\",Drama|Fantasy|Romance': 1,\n",
       "             '1212,\"Third Man, The (1949)\",Film-Noir|Mystery|Thriller': 1,\n",
       "             '1213,Goodfellas (1990),Crime|Drama': 1,\n",
       "             '1214,Alien (1979),Horror|Sci-Fi': 1,\n",
       "             '1215,Army of Darkness (1993),Action|Adventure|Comedy|Fantasy|Horror': 1,\n",
       "             '1216,\"Big Blue, The (Grand bleu, Le) (1988)\",Adventure|Drama|Romance': 1,\n",
       "             '1217,Ran (1985),Drama|War': 1,\n",
       "             '1218,\"Killer, The (Die xue shuang xiong) (1989)\",Action|Crime|Drama|Thriller': 1,\n",
       "             '1219,Psycho (1960),Crime|Horror': 1,\n",
       "             '1220,\"Blues Brothers, The (1980)\",Action|Comedy|Musical': 1,\n",
       "             '1221,\"Godfather: Part II, The (1974)\",Crime|Drama': 1,\n",
       "             '1222,Full Metal Jacket (1987),Drama|War': 1,\n",
       "             '1223,\"Grand Day Out with Wallace and Gromit, A (1989)\",Adventure|Animation|Children|Comedy|Sci-Fi': 1,\n",
       "             '1224,Henry V (1989),Action|Drama|Romance|War': 1,\n",
       "             '1225,Amadeus (1984),Drama': 1,\n",
       "             '1226,\"Quiet Man, The (1952)\",Drama|Romance': 1,\n",
       "             '1227,Once Upon a Time in America (1984),Crime|Drama': 1,\n",
       "             '1228,Raging Bull (1980),Drama': 1,\n",
       "             '1230,Annie Hall (1977),Comedy|Romance': 1,\n",
       "             '1231,\"Right Stuff, The (1983)\",Drama': 1,\n",
       "             '1232,Stalker (1979),Drama|Mystery|Sci-Fi': 1,\n",
       "             '1233,\"Boot, Das (Boat, The) (1981)\",Action|Drama|War': 1,\n",
       "             '1234,\"Sting, The (1973)\",Comedy|Crime': 1,\n",
       "             '1235,Harold and Maude (1971),Comedy|Drama|Romance': 1,\n",
       "             '1236,Trust (1990),Comedy|Drama|Romance': 1,\n",
       "             '1237,\"Seventh Seal, The (Sjunde inseglet, Det) (1957)\",Drama': 1,\n",
       "             '1238,Local Hero (1983),Comedy': 1,\n",
       "             '1240,\"Terminator, The (1984)\",Action|Sci-Fi|Thriller': 1,\n",
       "             '1241,Dead Alive (Braindead) (1992),Comedy|Fantasy|Horror': 1,\n",
       "             '1242,Glory (1989),Drama|War': 1,\n",
       "             '1243,Rosencrantz and Guildenstern Are Dead (1990),Comedy|Drama': 1,\n",
       "             '1244,Manhattan (1979),Comedy|Drama|Romance': 1,\n",
       "             \"1245,Miller's Crossing (1990),Crime|Drama|Film-Noir|Thriller\": 1,\n",
       "             '1246,Dead Poets Society (1989),Drama': 1,\n",
       "             '1247,\"Graduate, The (1967)\",Comedy|Drama|Romance': 1,\n",
       "             '1248,Touch of Evil (1958),Crime|Film-Noir|Thriller': 1,\n",
       "             '1249,\"Femme Nikita, La (Nikita) (1990)\",Action|Crime|Romance|Thriller': 1,\n",
       "             '1250,\"Bridge on the River Kwai, The (1957)\",Adventure|Drama|War': 1,\n",
       "             '1251,8 1/2 (8½) (1963),Drama|Fantasy': 1,\n",
       "             '1252,Chinatown (1974),Crime|Film-Noir|Mystery|Thriller': 1,\n",
       "             '1253,\"Day the Earth Stood Still, The (1951)\",Drama|Sci-Fi|Thriller': 1,\n",
       "             '1254,\"Treasure of the Sierra Madre, The (1948)\",Action|Adventure|Drama|Western': 1,\n",
       "             '1255,Bad Taste (1987),Comedy|Horror|Sci-Fi': 1,\n",
       "             '1256,Duck Soup (1933),Comedy|Musical|War': 1,\n",
       "             '1257,Better Off Dead... (1985),Comedy|Romance': 1,\n",
       "             '1258,\"Shining, The (1980)\",Horror': 1,\n",
       "             '1259,Stand by Me (1986),Adventure|Drama': 1,\n",
       "             '1260,M (1931),Crime|Film-Noir|Thriller': 1,\n",
       "             '1261,Evil Dead II (Dead by Dawn) (1987),Action|Comedy|Fantasy|Horror': 1,\n",
       "             '1262,\"Great Escape, The (1963)\",Action|Adventure|Drama|War': 1,\n",
       "             '1263,\"Deer Hunter, The (1978)\",Drama|War': 1,\n",
       "             '1264,Diva (1981),Action|Drama|Mystery|Romance|Thriller': 1,\n",
       "             '1265,Groundhog Day (1993),Comedy|Fantasy|Romance': 1,\n",
       "             '1266,Unforgiven (1992),Drama|Western': 1,\n",
       "             '1267,\"Manchurian Candidate, The (1962)\",Crime|Thriller|War': 1,\n",
       "             '1268,Pump Up the Volume (1990),Comedy|Drama': 1,\n",
       "             '1269,Arsenic and Old Lace (1944),Comedy|Mystery|Thriller': 1,\n",
       "             '1270,Back to the Future (1985),Adventure|Comedy|Sci-Fi': 1,\n",
       "             '1271,Fried Green Tomatoes (1991),Comedy|Crime|Drama': 1,\n",
       "             '1272,Patton (1970),Drama|War': 1,\n",
       "             '1273,Down by Law (1986),Comedy|Drama|Film-Noir': 1,\n",
       "             '1274,Akira (1988),Action|Adventure|Animation|Sci-Fi': 1,\n",
       "             '1275,Highlander (1986),Action|Adventure|Fantasy': 1,\n",
       "             '1276,Cool Hand Luke (1967),Drama': 1,\n",
       "             '1277,Cyrano de Bergerac (1990),Comedy|Drama|Romance': 1,\n",
       "             '1278,Young Frankenstein (1974),Comedy|Fantasy': 1,\n",
       "             '1279,Night on Earth (1991),Comedy|Drama': 1,\n",
       "             '1280,Raise the Red Lantern (Da hong deng long gao gao gua) (1991),Drama': 1,\n",
       "             '1281,\"Great Dictator, The (1940)\",Comedy|Drama|War': 1,\n",
       "             '1282,Fantasia (1940),Animation|Children|Fantasy|Musical': 1,\n",
       "             '1283,High Noon (1952),Drama|Western': 1,\n",
       "             '1284,\"Big Sleep, The (1946)\",Crime|Film-Noir|Mystery': 1,\n",
       "             '1285,Heathers (1989),Comedy': 1,\n",
       "             '1286,Somewhere in Time (1980),Drama|Romance': 1,\n",
       "             '1287,Ben-Hur (1959),Action|Adventure|Drama': 1,\n",
       "             '1288,This Is Spinal Tap (1984),Comedy': 1,\n",
       "             '1289,Koyaanisqatsi (a.k.a. Koyaanisqatsi: Life Out of Balance) (1983),Documentary': 1,\n",
       "             '1290,Some Kind of Wonderful (1987),Drama|Romance': 1,\n",
       "             '1291,Indiana Jones and the Last Crusade (1989),Action|Adventure': 1,\n",
       "             '1292,Being There (1979),Comedy|Drama': 1,\n",
       "             '1293,Gandhi (1982),Drama': 1,\n",
       "             '1295,\"Unbearable Lightness of Being, The (1988)\",Drama': 1,\n",
       "             '1296,\"Room with a View, A (1986)\",Drama|Romance': 1,\n",
       "             '1297,Real Genius (1985),Comedy': 1,\n",
       "             '1298,Pink Floyd: The Wall (1982),Drama|Musical': 1,\n",
       "             '1299,\"Killing Fields, The (1984)\",Drama|War': 1,\n",
       "             '1300,My Life as a Dog (Mitt liv som hund) (1985),Comedy|Drama': 1,\n",
       "             ...})"
      ]
     },
     "execution_count": 8,
     "metadata": {},
     "output_type": "execute_result"
    }
   ],
   "source": [
    "rdd1.countByValue()"
   ]
  },
  {
   "cell_type": "markdown",
   "id": "79df3e8f",
   "metadata": {},
   "source": [
    "#### countApproxDistinct()\n",
    "* Spark내부의 Approx알고리즘이 Count해줌\n",
    "  * 데이터가 작을수록 알고리즘 효율이 떨어짐\n",
    "* 데이터가 큰 경우 Count만으로도 오래걸릴 수 있음\n",
    "  * Accumulator를 활용하는게 더 빠를 수 있음 (아래는 이해만을 위한 틀린 코드)\n",
    "    ```python\n",
    "    rdd4.foreachPartition(\n",
    "        accumulator ac\n",
    "        ac.add(1)\n",
    "        )\n",
    "    ```"
   ]
  },
  {
   "cell_type": "code",
   "execution_count": 12,
   "id": "eeb0d3c5",
   "metadata": {},
   "outputs": [
    {
     "data": {
      "text/plain": [
       "10275"
      ]
     },
     "execution_count": 12,
     "metadata": {},
     "output_type": "execute_result"
    }
   ],
   "source": [
    "# Approx\n",
    "rdd1.countApproxDistinct()"
   ]
  },
  {
   "cell_type": "code",
   "execution_count": 13,
   "id": "084f504e",
   "metadata": {},
   "outputs": [
    {
     "data": {
      "text/plain": [
       "9743"
      ]
     },
     "execution_count": 13,
     "metadata": {},
     "output_type": "execute_result"
    }
   ],
   "source": [
    "# Actual\n",
    "len(rdd1.distinct().collect())"
   ]
  },
  {
   "cell_type": "markdown",
   "id": "137a0821",
   "metadata": {},
   "source": [
    "#### Cache\n",
    "\n",
    "* 중간에 캐싱을 해 둠\n",
    "* 캐싱을 해두었다면 메모리가 터졌을 때, 좀 더 빠르게 계산될 수 있음 (Optimization도움)\n",
    "* 캐싱할 때마다, Spark내부적으로 메타데이터 연산(Statistics)을 조금씩 해줌 (Optimization도움)\n",
    "* 데이터가 크다면 한번의 작업이 끝날때마다 캐싱을 해두는 것을 추천\n",
    "  * 아래와 같이 작업마다 캐싱\n",
    "  ```python\n",
    "  rdd2 = rdd1.filter(...).where().select()\n",
    "  rdd2.cache()\n",
    "  ```"
   ]
  },
  {
   "cell_type": "code",
   "execution_count": 21,
   "id": "ee246e26",
   "metadata": {},
   "outputs": [
    {
     "data": {
      "text/plain": [
       "PythonRDD[34] at RDD at PythonRDD.scala:53"
      ]
     },
     "execution_count": 21,
     "metadata": {},
     "output_type": "execute_result"
    }
   ],
   "source": [
    "# cache\n",
    "rdd2.cache()"
   ]
  },
  {
   "cell_type": "markdown",
   "id": "f48b0280",
   "metadata": {},
   "source": [
    "#### CheckPoint\n",
    "\n",
    "* 캐싱도 중간값을 저장해서 비슷하지만, CheckPoint는 명시적으로 어디에 저장할지 정의해야 함\n",
    "* 테스트해 본 결과, 아래와 같이 생성되었음\n",
    "  * \\metacode_de-2024\\data\\temp\\checkpoint\\2024-08-23 072646.217657\\8f6fcbb9-d532-4e6e-a928-39b809364967"
   ]
  },
  {
   "cell_type": "code",
   "execution_count": 23,
   "id": "acf1f453",
   "metadata": {},
   "outputs": [],
   "source": [
    "from datetime import datetime\n",
    "\n",
    "sc.setCheckpointDir(\"../data/temp/checkpoint/\" + str(datetime.now()))\n",
    "\n",
    "rdd2.checkpoint()"
   ]
  },
  {
   "cell_type": "markdown",
   "id": "630325de",
   "metadata": {},
   "source": [
    "#### Persist\n",
    "  * 어떤 StorageLevel에 쓸지 정의 가능 (Default는 메모리)\n",
    "    * 무거운 연산을 해야한다면 일부러 디스크를 내릴 때 쓰기도 함\n",
    "        ```python\n",
    "        from pyspark import StorageLevel\n",
    "        rdd2.persist(StorageLevel.DISK_ONLY)\n",
    "        ```\n",
    "    * 메모리에 올라가지 않아서 아예 멈추는 상황도 생길 수 있어 사용(어떻게든 계산을 시키기 위함)"
   ]
  },
  {
   "cell_type": "code",
   "execution_count": 20,
   "id": "ec14c24e",
   "metadata": {},
   "outputs": [
    {
     "name": "stdout",
     "output_type": "stream",
     "text": [
      "Memory Serialized 1x Replicated\n"
     ]
    }
   ],
   "source": [
    "from pyspark import StorageLevel\n",
    "rdd2.persist(StorageLevel.MEMORY_ONLY)\n",
    "\n",
    "print(rdd2.getStorageLevel())"
   ]
  },
  {
   "cell_type": "markdown",
   "id": "bd0508a6",
   "metadata": {},
   "source": [
    "#### 파티션 관련"
   ]
  },
  {
   "cell_type": "markdown",
   "id": "08a8373b",
   "metadata": {},
   "source": [
    "* getNumPartitions() : 파티션의 수"
   ]
  },
  {
   "cell_type": "code",
   "execution_count": 28,
   "id": "8af1d92e",
   "metadata": {},
   "outputs": [
    {
     "data": {
      "text/plain": [
       "3"
      ]
     },
     "execution_count": 28,
     "metadata": {},
     "output_type": "execute_result"
    }
   ],
   "source": [
    "rdd1.getNumPartitions()"
   ]
  },
  {
   "cell_type": "markdown",
   "id": "620c225f",
   "metadata": {},
   "source": [
    "* partitioner : 파티션을 어떻게 나눌지에 대한 알고리즘이 들어있음\n",
    "  * 기본값은 Hash"
   ]
  },
  {
   "cell_type": "code",
   "execution_count": 27,
   "id": "2b1a7e3d",
   "metadata": {},
   "outputs": [
    {
     "name": "stdout",
     "output_type": "stream",
     "text": [
      "None\n"
     ]
    }
   ],
   "source": [
    "print(rdd1.partitioner)"
   ]
  },
  {
   "cell_type": "markdown",
   "id": "927ac375",
   "metadata": {},
   "source": [
    "* repartition() : 파티션의 수 지정\n",
    "  * 기본 알고리즘인 Hashing이 사용되었을 것임"
   ]
  },
  {
   "cell_type": "code",
   "execution_count": 26,
   "id": "b75723ff",
   "metadata": {},
   "outputs": [
    {
     "name": "stdout",
     "output_type": "stream",
     "text": [
      "3\n"
     ]
    }
   ],
   "source": [
    "rdd1 = rdd1.repartition(3)\n",
    "\n",
    "print(rdd1.getNumPartitions())"
   ]
  },
  {
   "cell_type": "markdown",
   "id": "27597925",
   "metadata": {},
   "source": [
    "* coalesce() : 파티션 수 줄이기\n",
    "  * **repartition()으로 줄이는 것보다 효율적**\n",
    "    * repartition으로 줄이면 Hashing, DiskI/O 등으로 Shuffle이 발생할 수 밖에 없지만\n",
    "    * coalesce는 Hashing을 다시 하지 않도록, 최소한의 이동이 일어나도록 함"
   ]
  },
  {
   "cell_type": "code",
   "execution_count": 32,
   "id": "c072b09e",
   "metadata": {},
   "outputs": [
    {
     "name": "stdout",
     "output_type": "stream",
     "text": [
      "2\n"
     ]
    }
   ],
   "source": [
    "rdd1 = rdd1.coalesce(2)\n",
    "\n",
    "print(rdd1.getNumPartitions())"
   ]
  },
  {
   "cell_type": "markdown",
   "id": "d0b9c1b8",
   "metadata": {},
   "source": [
    "#### 기타"
   ]
  },
  {
   "cell_type": "code",
   "execution_count": 14,
   "id": "0829a413",
   "metadata": {},
   "outputs": [
    {
     "data": {
      "text/plain": [
       "False"
      ]
     },
     "execution_count": 14,
     "metadata": {},
     "output_type": "execute_result"
    }
   ],
   "source": [
    "rdd1.isEmpty()"
   ]
  },
  {
   "cell_type": "code",
   "execution_count": 15,
   "id": "8c5e4414",
   "metadata": {},
   "outputs": [
    {
     "data": {
      "text/plain": [
       "True"
      ]
     },
     "execution_count": 15,
     "metadata": {},
     "output_type": "execute_result"
    }
   ],
   "source": [
    "data = []\n",
    "rdd5 = sc.parallelize(data)\n",
    "\n",
    "rdd5.isEmpty()"
   ]
  },
  {
   "cell_type": "code",
   "execution_count": 17,
   "id": "1e66eddb",
   "metadata": {},
   "outputs": [
    {
     "name": "stdout",
     "output_type": "stream",
     "text": [
      "999\n",
      "0\n"
     ]
    }
   ],
   "source": [
    "# Max, Min\n",
    "rdd2 = sc.range(0, 1000, 1, 10)\n",
    "\n",
    "print(rdd2.max())\n",
    "print(rdd2.min())"
   ]
  },
  {
   "cell_type": "code",
   "execution_count": 18,
   "id": "83c68b68",
   "metadata": {},
   "outputs": [
    {
     "name": "stdout",
     "output_type": "stream",
     "text": [
      "<bound method RDD.id of ../data/movies.csv MapPartitionsRDD[33] at textFile at NativeMethodAccessorImpl.java:0>\n",
      "<SparkContext master=local appName=rdd-dataframe>\n",
      "<bound method RDD.toDebugString of ../data/movies.csv MapPartitionsRDD[33] at textFile at NativeMethodAccessorImpl.java:0>\n"
     ]
    }
   ],
   "source": [
    "# Meta\n",
    "rdd1 = sc.textFile(\"../data/movies.csv\")\n",
    "\n",
    "print(rdd1.id) \n",
    "print(rdd1.context) # 어떤 SparkContext를 사용중인지\n",
    "print(rdd1.toDebugString)"
   ]
  },
  {
   "cell_type": "markdown",
   "id": "ad30f57d",
   "metadata": {},
   "source": [
    "### (2) RDD Transformation"
   ]
  },
  {
   "cell_type": "code",
   "execution_count": 33,
   "id": "c2095296",
   "metadata": {},
   "outputs": [
    {
     "data": {
      "text/plain": [
       "['co1,tcol2,tA_B_C', 'col,tcol3,tD_E_F']"
      ]
     },
     "execution_count": 33,
     "metadata": {},
     "output_type": "execute_result"
    }
   ],
   "source": [
    "# 실습을 위한 기초코드\n",
    "data = [\"co1,tcol2,tA_B_C\", \"col,tcol3,tD_E_F\"]\n",
    "rdd1 = sc.parallelize(data)\n",
    "\n",
    "rdd1.take(10)"
   ]
  },
  {
   "cell_type": "code",
   "execution_count": 34,
   "id": "3093f277",
   "metadata": {},
   "outputs": [
    {
     "data": {
      "text/plain": [
       "['CO1,TCOL2,TA_B_C', 'COL,TCOL3,TD_E_F']"
      ]
     },
     "execution_count": 34,
     "metadata": {},
     "output_type": "execute_result"
    }
   ],
   "source": [
    "# map\n",
    "rdd2 = rdd1.map(lambda v: v.upper())\n",
    "rdd2.take(10)"
   ]
  },
  {
   "cell_type": "code",
   "execution_count": 38,
   "id": "072dea91",
   "metadata": {},
   "outputs": [
    {
     "data": {
      "text/plain": [
       "[['co1', 'tcol2', 'tA_B_C'], ['col', 'tcol3', 'tD_E_F']]"
      ]
     },
     "execution_count": 38,
     "metadata": {},
     "output_type": "execute_result"
    }
   ],
   "source": [
    "# map\n",
    "rdd5 = rdd1.map(lambda v: v.split(','))\n",
    "rdd5.take(10)"
   ]
  },
  {
   "cell_type": "code",
   "execution_count": 35,
   "id": "0791b5db",
   "metadata": {},
   "outputs": [
    {
     "data": {
      "text/plain": [
       "['CO1,TCOL2,TA_B_C', 'COL,TCOL3,TD_E_F']"
      ]
     },
     "execution_count": 35,
     "metadata": {},
     "output_type": "execute_result"
    }
   ],
   "source": [
    "# mapPartitions\n",
    "rdd3 = rdd1.mapPartitions(lambda it: map(lambda v: v.upper(), it))\n",
    "rdd3.take(10)"
   ]
  },
  {
   "cell_type": "code",
   "execution_count": 37,
   "id": "4a2bb587",
   "metadata": {},
   "outputs": [
    {
     "data": {
      "text/plain": [
       "['idx:0, value:co1,tcol2,tA_B_C', 'idx:0, value:col,tcol3,tD_E_F']"
      ]
     },
     "execution_count": 37,
     "metadata": {},
     "output_type": "execute_result"
    }
   ],
   "source": [
    "# mapPartitionsWithIndex (mapPartitions + Index)\n",
    "rdd4 = rdd1.mapPartitionsWithIndex(lambda idx, it: map(lambda v: f\"idx:{idx}, value:{v}\", it))\n",
    "rdd4.take(10)"
   ]
  },
  {
   "cell_type": "code",
   "execution_count": 39,
   "id": "7c62a65f",
   "metadata": {},
   "outputs": [
    {
     "data": {
      "text/plain": [
       "['co1', 'tcol2', 'tA_B_C', 'col', 'tcol3', 'tD_E_F']"
      ]
     },
     "execution_count": 39,
     "metadata": {},
     "output_type": "execute_result"
    }
   ],
   "source": [
    "# flatMap\n",
    "rdd6 = rdd1.flatMap(lambda v: v.split(\",\"))\n",
    "rdd6.take(10)"
   ]
  },
  {
   "cell_type": "code",
   "execution_count": 40,
   "id": "05f3b5a8",
   "metadata": {},
   "outputs": [
    {
     "data": {
      "text/plain": [
       "[1, 2, 3, 5, 6, 8, 10]"
      ]
     },
     "execution_count": 40,
     "metadata": {},
     "output_type": "execute_result"
    }
   ],
   "source": [
    "# distinct\n",
    "rdd8 = sc.parallelize([1, 2, 3, 3, 5, 6, 8, 8, 10]).distinct()\n",
    "rdd8.take(10)"
   ]
  },
  {
   "cell_type": "code",
   "execution_count": 41,
   "id": "fcc38022",
   "metadata": {},
   "outputs": [
    {
     "data": {
      "text/plain": [
       "[2, 1, 3]"
      ]
     },
     "execution_count": 41,
     "metadata": {},
     "output_type": "execute_result"
    }
   ],
   "source": [
    "# subtract (겹치는 것을 제거)\n",
    "r1 = sc.parallelize([1, 2, 3, 4, 5])\n",
    "r2 = sc.parallelize([4, 5, 6, 7, 8])\n",
    "rdd10 = r1.subtract(r2)\n",
    "rdd10.take(10)"
   ]
  },
  {
   "cell_type": "code",
   "execution_count": 62,
   "id": "f1f18421",
   "metadata": {},
   "outputs": [
    {
     "data": {
      "text/plain": [
       "[0, 1, 2, 3, 4, 5, 6, 7, 8, 9]"
      ]
     },
     "execution_count": 62,
     "metadata": {},
     "output_type": "execute_result"
    }
   ],
   "source": [
    "# glom\n",
    "rdd = sc.range(0, 50, 1, 5)\n",
    "rdd.glom().collect()\n",
    "rdd.take(10)"
   ]
  },
  {
   "cell_type": "markdown",
   "id": "5e737771",
   "metadata": {},
   "source": [
    "### (3) RDD with key-value pairs"
   ]
  },
  {
   "cell_type": "code",
   "execution_count": 63,
   "id": "3061575c",
   "metadata": {},
   "outputs": [
    {
     "data": {
      "text/plain": [
       "[('a', 1), ('b', 1), ('c', 1), ('b', 1), ('b', 1), ('d', 1)]"
      ]
     },
     "execution_count": 63,
     "metadata": {},
     "output_type": "execute_result"
    }
   ],
   "source": [
    "# 실습을 위한 기초코드\n",
    "data = [\"a\", \"b\", \"c\", \"b\", \"b\", \"d\"]\n",
    "rdd1 = sc.parallelize(data)\n",
    "\n",
    "rdd2 = rdd1.map(lambda v: (v, 1))\n",
    "rdd2.take(10)"
   ]
  },
  {
   "cell_type": "code",
   "execution_count": 64,
   "id": "27fe3a11",
   "metadata": {},
   "outputs": [
    {
     "name": "stderr",
     "output_type": "stream",
     "text": [
      "24/08/23 12:21:30 ERROR Executor: Exception in task 0.0 in stage 62.0 (TID 113)\n",
      "org.apache.spark.api.python.PythonException: Traceback (most recent call last):\n",
      "  File \"/usr/local/spark/python/lib/pyspark.zip/pyspark/worker.py\", line 604, in main\n",
      "    process()\n",
      "  File \"/usr/local/spark/python/lib/pyspark.zip/pyspark/worker.py\", line 596, in process\n",
      "    serializer.dump_stream(out_iter, outfile)\n",
      "  File \"/usr/local/spark/python/lib/pyspark.zip/pyspark/serializers.py\", line 259, in dump_stream\n",
      "    vs = list(itertools.islice(iterator, batch))\n",
      "  File \"/usr/local/spark/python/pyspark/rdd.py\", line 1560, in takeUpToNumLeft\n",
      "    yield next(iterator)\n",
      "  File \"/usr/local/spark/python/lib/pyspark.zip/pyspark/util.py\", line 73, in wrapper\n",
      "    return f(*args, **kwargs)\n",
      "  File \"/usr/local/spark/python/pyspark/rdd.py\", line 2276, in <lambda>\n",
      "    map_values_fn = lambda kv: (kv[0], f(kv[1]))\n",
      "IndexError: string index out of range\n",
      "\n",
      "\tat org.apache.spark.api.python.BasePythonRunner$ReaderIterator.handlePythonException(PythonRunner.scala:517)\n",
      "\tat org.apache.spark.api.python.PythonRunner$$anon$3.read(PythonRunner.scala:652)\n",
      "\tat org.apache.spark.api.python.PythonRunner$$anon$3.read(PythonRunner.scala:635)\n",
      "\tat org.apache.spark.api.python.BasePythonRunner$ReaderIterator.hasNext(PythonRunner.scala:470)\n",
      "\tat org.apache.spark.InterruptibleIterator.hasNext(InterruptibleIterator.scala:37)\n",
      "\tat scala.collection.Iterator.foreach(Iterator.scala:941)\n",
      "\tat scala.collection.Iterator.foreach$(Iterator.scala:941)\n",
      "\tat org.apache.spark.InterruptibleIterator.foreach(InterruptibleIterator.scala:28)\n",
      "\tat scala.collection.generic.Growable.$plus$plus$eq(Growable.scala:62)\n",
      "\tat scala.collection.generic.Growable.$plus$plus$eq$(Growable.scala:53)\n",
      "\tat scala.collection.mutable.ArrayBuffer.$plus$plus$eq(ArrayBuffer.scala:105)\n",
      "\tat scala.collection.mutable.ArrayBuffer.$plus$plus$eq(ArrayBuffer.scala:49)\n",
      "\tat scala.collection.TraversableOnce.to(TraversableOnce.scala:315)\n",
      "\tat scala.collection.TraversableOnce.to$(TraversableOnce.scala:313)\n",
      "\tat org.apache.spark.InterruptibleIterator.to(InterruptibleIterator.scala:28)\n",
      "\tat scala.collection.TraversableOnce.toBuffer(TraversableOnce.scala:307)\n",
      "\tat scala.collection.TraversableOnce.toBuffer$(TraversableOnce.scala:307)\n",
      "\tat org.apache.spark.InterruptibleIterator.toBuffer(InterruptibleIterator.scala:28)\n",
      "\tat scala.collection.TraversableOnce.toArray(TraversableOnce.scala:294)\n",
      "\tat scala.collection.TraversableOnce.toArray$(TraversableOnce.scala:288)\n",
      "\tat org.apache.spark.InterruptibleIterator.toArray(InterruptibleIterator.scala:28)\n",
      "\tat org.apache.spark.api.python.PythonRDD$.$anonfun$runJob$1(PythonRDD.scala:166)\n",
      "\tat org.apache.spark.SparkContext.$anonfun$runJob$5(SparkContext.scala:2236)\n",
      "\tat org.apache.spark.scheduler.ResultTask.runTask(ResultTask.scala:90)\n",
      "\tat org.apache.spark.scheduler.Task.run(Task.scala:131)\n",
      "\tat org.apache.spark.executor.Executor$TaskRunner.$anonfun$run$3(Executor.scala:497)\n",
      "\tat org.apache.spark.util.Utils$.tryWithSafeFinally(Utils.scala:1439)\n",
      "\tat org.apache.spark.executor.Executor$TaskRunner.run(Executor.scala:500)\n",
      "\tat java.base/java.util.concurrent.ThreadPoolExecutor.runWorker(ThreadPoolExecutor.java:1128)\n",
      "\tat java.base/java.util.concurrent.ThreadPoolExecutor$Worker.run(ThreadPoolExecutor.java:628)\n",
      "\tat java.base/java.lang.Thread.run(Thread.java:829)\n",
      "24/08/23 12:21:30 WARN TaskSetManager: Lost task 0.0 in stage 62.0 (TID 113) (7b9e2a0ad7ba executor driver): org.apache.spark.api.python.PythonException: Traceback (most recent call last):\n",
      "  File \"/usr/local/spark/python/lib/pyspark.zip/pyspark/worker.py\", line 604, in main\n",
      "    process()\n",
      "  File \"/usr/local/spark/python/lib/pyspark.zip/pyspark/worker.py\", line 596, in process\n",
      "    serializer.dump_stream(out_iter, outfile)\n",
      "  File \"/usr/local/spark/python/lib/pyspark.zip/pyspark/serializers.py\", line 259, in dump_stream\n",
      "    vs = list(itertools.islice(iterator, batch))\n",
      "  File \"/usr/local/spark/python/pyspark/rdd.py\", line 1560, in takeUpToNumLeft\n",
      "    yield next(iterator)\n",
      "  File \"/usr/local/spark/python/lib/pyspark.zip/pyspark/util.py\", line 73, in wrapper\n",
      "    return f(*args, **kwargs)\n",
      "  File \"/usr/local/spark/python/pyspark/rdd.py\", line 2276, in <lambda>\n",
      "    map_values_fn = lambda kv: (kv[0], f(kv[1]))\n",
      "IndexError: string index out of range\n",
      "\n",
      "\tat org.apache.spark.api.python.BasePythonRunner$ReaderIterator.handlePythonException(PythonRunner.scala:517)\n",
      "\tat org.apache.spark.api.python.PythonRunner$$anon$3.read(PythonRunner.scala:652)\n",
      "\tat org.apache.spark.api.python.PythonRunner$$anon$3.read(PythonRunner.scala:635)\n",
      "\tat org.apache.spark.api.python.BasePythonRunner$ReaderIterator.hasNext(PythonRunner.scala:470)\n",
      "\tat org.apache.spark.InterruptibleIterator.hasNext(InterruptibleIterator.scala:37)\n",
      "\tat scala.collection.Iterator.foreach(Iterator.scala:941)\n",
      "\tat scala.collection.Iterator.foreach$(Iterator.scala:941)\n",
      "\tat org.apache.spark.InterruptibleIterator.foreach(InterruptibleIterator.scala:28)\n",
      "\tat scala.collection.generic.Growable.$plus$plus$eq(Growable.scala:62)\n",
      "\tat scala.collection.generic.Growable.$plus$plus$eq$(Growable.scala:53)\n",
      "\tat scala.collection.mutable.ArrayBuffer.$plus$plus$eq(ArrayBuffer.scala:105)\n",
      "\tat scala.collection.mutable.ArrayBuffer.$plus$plus$eq(ArrayBuffer.scala:49)\n",
      "\tat scala.collection.TraversableOnce.to(TraversableOnce.scala:315)\n",
      "\tat scala.collection.TraversableOnce.to$(TraversableOnce.scala:313)\n",
      "\tat org.apache.spark.InterruptibleIterator.to(InterruptibleIterator.scala:28)\n",
      "\tat scala.collection.TraversableOnce.toBuffer(TraversableOnce.scala:307)\n",
      "\tat scala.collection.TraversableOnce.toBuffer$(TraversableOnce.scala:307)\n",
      "\tat org.apache.spark.InterruptibleIterator.toBuffer(InterruptibleIterator.scala:28)\n",
      "\tat scala.collection.TraversableOnce.toArray(TraversableOnce.scala:294)\n",
      "\tat scala.collection.TraversableOnce.toArray$(TraversableOnce.scala:288)\n",
      "\tat org.apache.spark.InterruptibleIterator.toArray(InterruptibleIterator.scala:28)\n",
      "\tat org.apache.spark.api.python.PythonRDD$.$anonfun$runJob$1(PythonRDD.scala:166)\n",
      "\tat org.apache.spark.SparkContext.$anonfun$runJob$5(SparkContext.scala:2236)\n",
      "\tat org.apache.spark.scheduler.ResultTask.runTask(ResultTask.scala:90)\n",
      "\tat org.apache.spark.scheduler.Task.run(Task.scala:131)\n",
      "\tat org.apache.spark.executor.Executor$TaskRunner.$anonfun$run$3(Executor.scala:497)\n",
      "\tat org.apache.spark.util.Utils$.tryWithSafeFinally(Utils.scala:1439)\n",
      "\tat org.apache.spark.executor.Executor$TaskRunner.run(Executor.scala:500)\n",
      "\tat java.base/java.util.concurrent.ThreadPoolExecutor.runWorker(ThreadPoolExecutor.java:1128)\n",
      "\tat java.base/java.util.concurrent.ThreadPoolExecutor$Worker.run(ThreadPoolExecutor.java:628)\n",
      "\tat java.base/java.lang.Thread.run(Thread.java:829)\n",
      "\n",
      "24/08/23 12:21:30 ERROR TaskSetManager: Task 0 in stage 62.0 failed 1 times; aborting job\n"
     ]
    },
    {
     "ename": "Py4JJavaError",
     "evalue": "An error occurred while calling z:org.apache.spark.api.python.PythonRDD.runJob.\n: org.apache.spark.SparkException: Job aborted due to stage failure: Task 0 in stage 62.0 failed 1 times, most recent failure: Lost task 0.0 in stage 62.0 (TID 113) (7b9e2a0ad7ba executor driver): org.apache.spark.api.python.PythonException: Traceback (most recent call last):\n  File \"/usr/local/spark/python/lib/pyspark.zip/pyspark/worker.py\", line 604, in main\n    process()\n  File \"/usr/local/spark/python/lib/pyspark.zip/pyspark/worker.py\", line 596, in process\n    serializer.dump_stream(out_iter, outfile)\n  File \"/usr/local/spark/python/lib/pyspark.zip/pyspark/serializers.py\", line 259, in dump_stream\n    vs = list(itertools.islice(iterator, batch))\n  File \"/usr/local/spark/python/pyspark/rdd.py\", line 1560, in takeUpToNumLeft\n    yield next(iterator)\n  File \"/usr/local/spark/python/lib/pyspark.zip/pyspark/util.py\", line 73, in wrapper\n    return f(*args, **kwargs)\n  File \"/usr/local/spark/python/pyspark/rdd.py\", line 2276, in <lambda>\n    map_values_fn = lambda kv: (kv[0], f(kv[1]))\nIndexError: string index out of range\n\n\tat org.apache.spark.api.python.BasePythonRunner$ReaderIterator.handlePythonException(PythonRunner.scala:517)\n\tat org.apache.spark.api.python.PythonRunner$$anon$3.read(PythonRunner.scala:652)\n\tat org.apache.spark.api.python.PythonRunner$$anon$3.read(PythonRunner.scala:635)\n\tat org.apache.spark.api.python.BasePythonRunner$ReaderIterator.hasNext(PythonRunner.scala:470)\n\tat org.apache.spark.InterruptibleIterator.hasNext(InterruptibleIterator.scala:37)\n\tat scala.collection.Iterator.foreach(Iterator.scala:941)\n\tat scala.collection.Iterator.foreach$(Iterator.scala:941)\n\tat org.apache.spark.InterruptibleIterator.foreach(InterruptibleIterator.scala:28)\n\tat scala.collection.generic.Growable.$plus$plus$eq(Growable.scala:62)\n\tat scala.collection.generic.Growable.$plus$plus$eq$(Growable.scala:53)\n\tat scala.collection.mutable.ArrayBuffer.$plus$plus$eq(ArrayBuffer.scala:105)\n\tat scala.collection.mutable.ArrayBuffer.$plus$plus$eq(ArrayBuffer.scala:49)\n\tat scala.collection.TraversableOnce.to(TraversableOnce.scala:315)\n\tat scala.collection.TraversableOnce.to$(TraversableOnce.scala:313)\n\tat org.apache.spark.InterruptibleIterator.to(InterruptibleIterator.scala:28)\n\tat scala.collection.TraversableOnce.toBuffer(TraversableOnce.scala:307)\n\tat scala.collection.TraversableOnce.toBuffer$(TraversableOnce.scala:307)\n\tat org.apache.spark.InterruptibleIterator.toBuffer(InterruptibleIterator.scala:28)\n\tat scala.collection.TraversableOnce.toArray(TraversableOnce.scala:294)\n\tat scala.collection.TraversableOnce.toArray$(TraversableOnce.scala:288)\n\tat org.apache.spark.InterruptibleIterator.toArray(InterruptibleIterator.scala:28)\n\tat org.apache.spark.api.python.PythonRDD$.$anonfun$runJob$1(PythonRDD.scala:166)\n\tat org.apache.spark.SparkContext.$anonfun$runJob$5(SparkContext.scala:2236)\n\tat org.apache.spark.scheduler.ResultTask.runTask(ResultTask.scala:90)\n\tat org.apache.spark.scheduler.Task.run(Task.scala:131)\n\tat org.apache.spark.executor.Executor$TaskRunner.$anonfun$run$3(Executor.scala:497)\n\tat org.apache.spark.util.Utils$.tryWithSafeFinally(Utils.scala:1439)\n\tat org.apache.spark.executor.Executor$TaskRunner.run(Executor.scala:500)\n\tat java.base/java.util.concurrent.ThreadPoolExecutor.runWorker(ThreadPoolExecutor.java:1128)\n\tat java.base/java.util.concurrent.ThreadPoolExecutor$Worker.run(ThreadPoolExecutor.java:628)\n\tat java.base/java.lang.Thread.run(Thread.java:829)\n\nDriver stacktrace:\n\tat org.apache.spark.scheduler.DAGScheduler.failJobAndIndependentStages(DAGScheduler.scala:2258)\n\tat org.apache.spark.scheduler.DAGScheduler.$anonfun$abortStage$2(DAGScheduler.scala:2207)\n\tat org.apache.spark.scheduler.DAGScheduler.$anonfun$abortStage$2$adapted(DAGScheduler.scala:2206)\n\tat scala.collection.mutable.ResizableArray.foreach(ResizableArray.scala:62)\n\tat scala.collection.mutable.ResizableArray.foreach$(ResizableArray.scala:55)\n\tat scala.collection.mutable.ArrayBuffer.foreach(ArrayBuffer.scala:49)\n\tat org.apache.spark.scheduler.DAGScheduler.abortStage(DAGScheduler.scala:2206)\n\tat org.apache.spark.scheduler.DAGScheduler.$anonfun$handleTaskSetFailed$1(DAGScheduler.scala:1079)\n\tat org.apache.spark.scheduler.DAGScheduler.$anonfun$handleTaskSetFailed$1$adapted(DAGScheduler.scala:1079)\n\tat scala.Option.foreach(Option.scala:407)\n\tat org.apache.spark.scheduler.DAGScheduler.handleTaskSetFailed(DAGScheduler.scala:1079)\n\tat org.apache.spark.scheduler.DAGSchedulerEventProcessLoop.doOnReceive(DAGScheduler.scala:2445)\n\tat org.apache.spark.scheduler.DAGSchedulerEventProcessLoop.onReceive(DAGScheduler.scala:2387)\n\tat org.apache.spark.scheduler.DAGSchedulerEventProcessLoop.onReceive(DAGScheduler.scala:2376)\n\tat org.apache.spark.util.EventLoop$$anon$1.run(EventLoop.scala:49)\n\tat org.apache.spark.scheduler.DAGScheduler.runJob(DAGScheduler.scala:868)\n\tat org.apache.spark.SparkContext.runJob(SparkContext.scala:2196)\n\tat org.apache.spark.SparkContext.runJob(SparkContext.scala:2217)\n\tat org.apache.spark.SparkContext.runJob(SparkContext.scala:2236)\n\tat org.apache.spark.api.python.PythonRDD$.runJob(PythonRDD.scala:166)\n\tat org.apache.spark.api.python.PythonRDD.runJob(PythonRDD.scala)\n\tat jdk.internal.reflect.GeneratedMethodAccessor77.invoke(Unknown Source)\n\tat java.base/jdk.internal.reflect.DelegatingMethodAccessorImpl.invoke(DelegatingMethodAccessorImpl.java:43)\n\tat java.base/java.lang.reflect.Method.invoke(Method.java:566)\n\tat py4j.reflection.MethodInvoker.invoke(MethodInvoker.java:244)\n\tat py4j.reflection.ReflectionEngine.invoke(ReflectionEngine.java:357)\n\tat py4j.Gateway.invoke(Gateway.java:282)\n\tat py4j.commands.AbstractCommand.invokeMethod(AbstractCommand.java:132)\n\tat py4j.commands.CallCommand.execute(CallCommand.java:79)\n\tat py4j.GatewayConnection.run(GatewayConnection.java:238)\n\tat java.base/java.lang.Thread.run(Thread.java:829)\nCaused by: org.apache.spark.api.python.PythonException: Traceback (most recent call last):\n  File \"/usr/local/spark/python/lib/pyspark.zip/pyspark/worker.py\", line 604, in main\n    process()\n  File \"/usr/local/spark/python/lib/pyspark.zip/pyspark/worker.py\", line 596, in process\n    serializer.dump_stream(out_iter, outfile)\n  File \"/usr/local/spark/python/lib/pyspark.zip/pyspark/serializers.py\", line 259, in dump_stream\n    vs = list(itertools.islice(iterator, batch))\n  File \"/usr/local/spark/python/pyspark/rdd.py\", line 1560, in takeUpToNumLeft\n    yield next(iterator)\n  File \"/usr/local/spark/python/lib/pyspark.zip/pyspark/util.py\", line 73, in wrapper\n    return f(*args, **kwargs)\n  File \"/usr/local/spark/python/pyspark/rdd.py\", line 2276, in <lambda>\n    map_values_fn = lambda kv: (kv[0], f(kv[1]))\nIndexError: string index out of range\n\n\tat org.apache.spark.api.python.BasePythonRunner$ReaderIterator.handlePythonException(PythonRunner.scala:517)\n\tat org.apache.spark.api.python.PythonRunner$$anon$3.read(PythonRunner.scala:652)\n\tat org.apache.spark.api.python.PythonRunner$$anon$3.read(PythonRunner.scala:635)\n\tat org.apache.spark.api.python.BasePythonRunner$ReaderIterator.hasNext(PythonRunner.scala:470)\n\tat org.apache.spark.InterruptibleIterator.hasNext(InterruptibleIterator.scala:37)\n\tat scala.collection.Iterator.foreach(Iterator.scala:941)\n\tat scala.collection.Iterator.foreach$(Iterator.scala:941)\n\tat org.apache.spark.InterruptibleIterator.foreach(InterruptibleIterator.scala:28)\n\tat scala.collection.generic.Growable.$plus$plus$eq(Growable.scala:62)\n\tat scala.collection.generic.Growable.$plus$plus$eq$(Growable.scala:53)\n\tat scala.collection.mutable.ArrayBuffer.$plus$plus$eq(ArrayBuffer.scala:105)\n\tat scala.collection.mutable.ArrayBuffer.$plus$plus$eq(ArrayBuffer.scala:49)\n\tat scala.collection.TraversableOnce.to(TraversableOnce.scala:315)\n\tat scala.collection.TraversableOnce.to$(TraversableOnce.scala:313)\n\tat org.apache.spark.InterruptibleIterator.to(InterruptibleIterator.scala:28)\n\tat scala.collection.TraversableOnce.toBuffer(TraversableOnce.scala:307)\n\tat scala.collection.TraversableOnce.toBuffer$(TraversableOnce.scala:307)\n\tat org.apache.spark.InterruptibleIterator.toBuffer(InterruptibleIterator.scala:28)\n\tat scala.collection.TraversableOnce.toArray(TraversableOnce.scala:294)\n\tat scala.collection.TraversableOnce.toArray$(TraversableOnce.scala:288)\n\tat org.apache.spark.InterruptibleIterator.toArray(InterruptibleIterator.scala:28)\n\tat org.apache.spark.api.python.PythonRDD$.$anonfun$runJob$1(PythonRDD.scala:166)\n\tat org.apache.spark.SparkContext.$anonfun$runJob$5(SparkContext.scala:2236)\n\tat org.apache.spark.scheduler.ResultTask.runTask(ResultTask.scala:90)\n\tat org.apache.spark.scheduler.Task.run(Task.scala:131)\n\tat org.apache.spark.executor.Executor$TaskRunner.$anonfun$run$3(Executor.scala:497)\n\tat org.apache.spark.util.Utils$.tryWithSafeFinally(Utils.scala:1439)\n\tat org.apache.spark.executor.Executor$TaskRunner.run(Executor.scala:500)\n\tat java.base/java.util.concurrent.ThreadPoolExecutor.runWorker(ThreadPoolExecutor.java:1128)\n\tat java.base/java.util.concurrent.ThreadPoolExecutor$Worker.run(ThreadPoolExecutor.java:628)\n\t... 1 more\n",
     "output_type": "error",
     "traceback": [
      "\u001b[0;31m---------------------------------------------------------------------------\u001b[0m",
      "\u001b[0;31mPy4JJavaError\u001b[0m                             Traceback (most recent call last)",
      "\u001b[0;32m/tmp/ipykernel_722/413939631.py\u001b[0m in \u001b[0;36m<module>\u001b[0;34m\u001b[0m\n\u001b[1;32m      1\u001b[0m \u001b[0;31m# rdd1은 key-pair value가 아님\u001b[0m\u001b[0;34m\u001b[0m\u001b[0;34m\u001b[0m\u001b[0m\n\u001b[0;32m----> 2\u001b[0;31m \u001b[0mrdd1\u001b[0m\u001b[0;34m.\u001b[0m\u001b[0mmapValues\u001b[0m\u001b[0;34m(\u001b[0m\u001b[0;32mlambda\u001b[0m \u001b[0mv\u001b[0m\u001b[0;34m:\u001b[0m \u001b[0mv\u001b[0m \u001b[0;34m+\u001b[0m \u001b[0;36m1\u001b[0m\u001b[0;34m)\u001b[0m\u001b[0;34m.\u001b[0m\u001b[0mtake\u001b[0m\u001b[0;34m(\u001b[0m\u001b[0;36m10\u001b[0m\u001b[0;34m)\u001b[0m \u001b[0;31m# error\u001b[0m\u001b[0;34m\u001b[0m\u001b[0;34m\u001b[0m\u001b[0m\n\u001b[0m",
      "\u001b[0;32m/usr/local/spark/python/pyspark/rdd.py\u001b[0m in \u001b[0;36mtake\u001b[0;34m(self, num)\u001b[0m\n\u001b[1;32m   1564\u001b[0m \u001b[0;34m\u001b[0m\u001b[0m\n\u001b[1;32m   1565\u001b[0m             \u001b[0mp\u001b[0m \u001b[0;34m=\u001b[0m \u001b[0mrange\u001b[0m\u001b[0;34m(\u001b[0m\u001b[0mpartsScanned\u001b[0m\u001b[0;34m,\u001b[0m \u001b[0mmin\u001b[0m\u001b[0;34m(\u001b[0m\u001b[0mpartsScanned\u001b[0m \u001b[0;34m+\u001b[0m \u001b[0mnumPartsToTry\u001b[0m\u001b[0;34m,\u001b[0m \u001b[0mtotalParts\u001b[0m\u001b[0;34m)\u001b[0m\u001b[0;34m)\u001b[0m\u001b[0;34m\u001b[0m\u001b[0;34m\u001b[0m\u001b[0m\n\u001b[0;32m-> 1566\u001b[0;31m             \u001b[0mres\u001b[0m \u001b[0;34m=\u001b[0m \u001b[0mself\u001b[0m\u001b[0;34m.\u001b[0m\u001b[0mcontext\u001b[0m\u001b[0;34m.\u001b[0m\u001b[0mrunJob\u001b[0m\u001b[0;34m(\u001b[0m\u001b[0mself\u001b[0m\u001b[0;34m,\u001b[0m \u001b[0mtakeUpToNumLeft\u001b[0m\u001b[0;34m,\u001b[0m \u001b[0mp\u001b[0m\u001b[0;34m)\u001b[0m\u001b[0;34m\u001b[0m\u001b[0;34m\u001b[0m\u001b[0m\n\u001b[0m\u001b[1;32m   1567\u001b[0m \u001b[0;34m\u001b[0m\u001b[0m\n\u001b[1;32m   1568\u001b[0m             \u001b[0mitems\u001b[0m \u001b[0;34m+=\u001b[0m \u001b[0mres\u001b[0m\u001b[0;34m\u001b[0m\u001b[0;34m\u001b[0m\u001b[0m\n",
      "\u001b[0;32m/usr/local/spark/python/pyspark/context.py\u001b[0m in \u001b[0;36mrunJob\u001b[0;34m(self, rdd, partitionFunc, partitions, allowLocal)\u001b[0m\n\u001b[1;32m   1231\u001b[0m         \u001b[0;31m# SparkContext#runJob.\u001b[0m\u001b[0;34m\u001b[0m\u001b[0;34m\u001b[0m\u001b[0m\n\u001b[1;32m   1232\u001b[0m         \u001b[0mmappedRDD\u001b[0m \u001b[0;34m=\u001b[0m \u001b[0mrdd\u001b[0m\u001b[0;34m.\u001b[0m\u001b[0mmapPartitions\u001b[0m\u001b[0;34m(\u001b[0m\u001b[0mpartitionFunc\u001b[0m\u001b[0;34m)\u001b[0m\u001b[0;34m\u001b[0m\u001b[0;34m\u001b[0m\u001b[0m\n\u001b[0;32m-> 1233\u001b[0;31m         \u001b[0msock_info\u001b[0m \u001b[0;34m=\u001b[0m \u001b[0mself\u001b[0m\u001b[0;34m.\u001b[0m\u001b[0m_jvm\u001b[0m\u001b[0;34m.\u001b[0m\u001b[0mPythonRDD\u001b[0m\u001b[0;34m.\u001b[0m\u001b[0mrunJob\u001b[0m\u001b[0;34m(\u001b[0m\u001b[0mself\u001b[0m\u001b[0;34m.\u001b[0m\u001b[0m_jsc\u001b[0m\u001b[0;34m.\u001b[0m\u001b[0msc\u001b[0m\u001b[0;34m(\u001b[0m\u001b[0;34m)\u001b[0m\u001b[0;34m,\u001b[0m \u001b[0mmappedRDD\u001b[0m\u001b[0;34m.\u001b[0m\u001b[0m_jrdd\u001b[0m\u001b[0;34m,\u001b[0m \u001b[0mpartitions\u001b[0m\u001b[0;34m)\u001b[0m\u001b[0;34m\u001b[0m\u001b[0;34m\u001b[0m\u001b[0m\n\u001b[0m\u001b[1;32m   1234\u001b[0m         \u001b[0;32mreturn\u001b[0m \u001b[0mlist\u001b[0m\u001b[0;34m(\u001b[0m\u001b[0m_load_from_socket\u001b[0m\u001b[0;34m(\u001b[0m\u001b[0msock_info\u001b[0m\u001b[0;34m,\u001b[0m \u001b[0mmappedRDD\u001b[0m\u001b[0;34m.\u001b[0m\u001b[0m_jrdd_deserializer\u001b[0m\u001b[0;34m)\u001b[0m\u001b[0;34m)\u001b[0m\u001b[0;34m\u001b[0m\u001b[0;34m\u001b[0m\u001b[0m\n\u001b[1;32m   1235\u001b[0m \u001b[0;34m\u001b[0m\u001b[0m\n",
      "\u001b[0;32m/usr/local/spark/python/lib/py4j-0.10.9-src.zip/py4j/java_gateway.py\u001b[0m in \u001b[0;36m__call__\u001b[0;34m(self, *args)\u001b[0m\n\u001b[1;32m   1302\u001b[0m \u001b[0;34m\u001b[0m\u001b[0m\n\u001b[1;32m   1303\u001b[0m         \u001b[0manswer\u001b[0m \u001b[0;34m=\u001b[0m \u001b[0mself\u001b[0m\u001b[0;34m.\u001b[0m\u001b[0mgateway_client\u001b[0m\u001b[0;34m.\u001b[0m\u001b[0msend_command\u001b[0m\u001b[0;34m(\u001b[0m\u001b[0mcommand\u001b[0m\u001b[0;34m)\u001b[0m\u001b[0;34m\u001b[0m\u001b[0;34m\u001b[0m\u001b[0m\n\u001b[0;32m-> 1304\u001b[0;31m         return_value = get_return_value(\n\u001b[0m\u001b[1;32m   1305\u001b[0m             answer, self.gateway_client, self.target_id, self.name)\n\u001b[1;32m   1306\u001b[0m \u001b[0;34m\u001b[0m\u001b[0m\n",
      "\u001b[0;32m/usr/local/spark/python/pyspark/sql/utils.py\u001b[0m in \u001b[0;36mdeco\u001b[0;34m(*a, **kw)\u001b[0m\n\u001b[1;32m    109\u001b[0m     \u001b[0;32mdef\u001b[0m \u001b[0mdeco\u001b[0m\u001b[0;34m(\u001b[0m\u001b[0;34m*\u001b[0m\u001b[0ma\u001b[0m\u001b[0;34m,\u001b[0m \u001b[0;34m**\u001b[0m\u001b[0mkw\u001b[0m\u001b[0;34m)\u001b[0m\u001b[0;34m:\u001b[0m\u001b[0;34m\u001b[0m\u001b[0;34m\u001b[0m\u001b[0m\n\u001b[1;32m    110\u001b[0m         \u001b[0;32mtry\u001b[0m\u001b[0;34m:\u001b[0m\u001b[0;34m\u001b[0m\u001b[0;34m\u001b[0m\u001b[0m\n\u001b[0;32m--> 111\u001b[0;31m             \u001b[0;32mreturn\u001b[0m \u001b[0mf\u001b[0m\u001b[0;34m(\u001b[0m\u001b[0;34m*\u001b[0m\u001b[0ma\u001b[0m\u001b[0;34m,\u001b[0m \u001b[0;34m**\u001b[0m\u001b[0mkw\u001b[0m\u001b[0;34m)\u001b[0m\u001b[0;34m\u001b[0m\u001b[0;34m\u001b[0m\u001b[0m\n\u001b[0m\u001b[1;32m    112\u001b[0m         \u001b[0;32mexcept\u001b[0m \u001b[0mpy4j\u001b[0m\u001b[0;34m.\u001b[0m\u001b[0mprotocol\u001b[0m\u001b[0;34m.\u001b[0m\u001b[0mPy4JJavaError\u001b[0m \u001b[0;32mas\u001b[0m \u001b[0me\u001b[0m\u001b[0;34m:\u001b[0m\u001b[0;34m\u001b[0m\u001b[0;34m\u001b[0m\u001b[0m\n\u001b[1;32m    113\u001b[0m             \u001b[0mconverted\u001b[0m \u001b[0;34m=\u001b[0m \u001b[0mconvert_exception\u001b[0m\u001b[0;34m(\u001b[0m\u001b[0me\u001b[0m\u001b[0;34m.\u001b[0m\u001b[0mjava_exception\u001b[0m\u001b[0;34m)\u001b[0m\u001b[0;34m\u001b[0m\u001b[0;34m\u001b[0m\u001b[0m\n",
      "\u001b[0;32m/usr/local/spark/python/lib/py4j-0.10.9-src.zip/py4j/protocol.py\u001b[0m in \u001b[0;36mget_return_value\u001b[0;34m(answer, gateway_client, target_id, name)\u001b[0m\n\u001b[1;32m    324\u001b[0m             \u001b[0mvalue\u001b[0m \u001b[0;34m=\u001b[0m \u001b[0mOUTPUT_CONVERTER\u001b[0m\u001b[0;34m[\u001b[0m\u001b[0mtype\u001b[0m\u001b[0;34m]\u001b[0m\u001b[0;34m(\u001b[0m\u001b[0manswer\u001b[0m\u001b[0;34m[\u001b[0m\u001b[0;36m2\u001b[0m\u001b[0;34m:\u001b[0m\u001b[0;34m]\u001b[0m\u001b[0;34m,\u001b[0m \u001b[0mgateway_client\u001b[0m\u001b[0;34m)\u001b[0m\u001b[0;34m\u001b[0m\u001b[0;34m\u001b[0m\u001b[0m\n\u001b[1;32m    325\u001b[0m             \u001b[0;32mif\u001b[0m \u001b[0manswer\u001b[0m\u001b[0;34m[\u001b[0m\u001b[0;36m1\u001b[0m\u001b[0;34m]\u001b[0m \u001b[0;34m==\u001b[0m \u001b[0mREFERENCE_TYPE\u001b[0m\u001b[0;34m:\u001b[0m\u001b[0;34m\u001b[0m\u001b[0;34m\u001b[0m\u001b[0m\n\u001b[0;32m--> 326\u001b[0;31m                 raise Py4JJavaError(\n\u001b[0m\u001b[1;32m    327\u001b[0m                     \u001b[0;34m\"An error occurred while calling {0}{1}{2}.\\n\"\u001b[0m\u001b[0;34m.\u001b[0m\u001b[0;34m\u001b[0m\u001b[0;34m\u001b[0m\u001b[0m\n\u001b[1;32m    328\u001b[0m                     format(target_id, \".\", name), value)\n",
      "\u001b[0;31mPy4JJavaError\u001b[0m: An error occurred while calling z:org.apache.spark.api.python.PythonRDD.runJob.\n: org.apache.spark.SparkException: Job aborted due to stage failure: Task 0 in stage 62.0 failed 1 times, most recent failure: Lost task 0.0 in stage 62.0 (TID 113) (7b9e2a0ad7ba executor driver): org.apache.spark.api.python.PythonException: Traceback (most recent call last):\n  File \"/usr/local/spark/python/lib/pyspark.zip/pyspark/worker.py\", line 604, in main\n    process()\n  File \"/usr/local/spark/python/lib/pyspark.zip/pyspark/worker.py\", line 596, in process\n    serializer.dump_stream(out_iter, outfile)\n  File \"/usr/local/spark/python/lib/pyspark.zip/pyspark/serializers.py\", line 259, in dump_stream\n    vs = list(itertools.islice(iterator, batch))\n  File \"/usr/local/spark/python/pyspark/rdd.py\", line 1560, in takeUpToNumLeft\n    yield next(iterator)\n  File \"/usr/local/spark/python/lib/pyspark.zip/pyspark/util.py\", line 73, in wrapper\n    return f(*args, **kwargs)\n  File \"/usr/local/spark/python/pyspark/rdd.py\", line 2276, in <lambda>\n    map_values_fn = lambda kv: (kv[0], f(kv[1]))\nIndexError: string index out of range\n\n\tat org.apache.spark.api.python.BasePythonRunner$ReaderIterator.handlePythonException(PythonRunner.scala:517)\n\tat org.apache.spark.api.python.PythonRunner$$anon$3.read(PythonRunner.scala:652)\n\tat org.apache.spark.api.python.PythonRunner$$anon$3.read(PythonRunner.scala:635)\n\tat org.apache.spark.api.python.BasePythonRunner$ReaderIterator.hasNext(PythonRunner.scala:470)\n\tat org.apache.spark.InterruptibleIterator.hasNext(InterruptibleIterator.scala:37)\n\tat scala.collection.Iterator.foreach(Iterator.scala:941)\n\tat scala.collection.Iterator.foreach$(Iterator.scala:941)\n\tat org.apache.spark.InterruptibleIterator.foreach(InterruptibleIterator.scala:28)\n\tat scala.collection.generic.Growable.$plus$plus$eq(Growable.scala:62)\n\tat scala.collection.generic.Growable.$plus$plus$eq$(Growable.scala:53)\n\tat scala.collection.mutable.ArrayBuffer.$plus$plus$eq(ArrayBuffer.scala:105)\n\tat scala.collection.mutable.ArrayBuffer.$plus$plus$eq(ArrayBuffer.scala:49)\n\tat scala.collection.TraversableOnce.to(TraversableOnce.scala:315)\n\tat scala.collection.TraversableOnce.to$(TraversableOnce.scala:313)\n\tat org.apache.spark.InterruptibleIterator.to(InterruptibleIterator.scala:28)\n\tat scala.collection.TraversableOnce.toBuffer(TraversableOnce.scala:307)\n\tat scala.collection.TraversableOnce.toBuffer$(TraversableOnce.scala:307)\n\tat org.apache.spark.InterruptibleIterator.toBuffer(InterruptibleIterator.scala:28)\n\tat scala.collection.TraversableOnce.toArray(TraversableOnce.scala:294)\n\tat scala.collection.TraversableOnce.toArray$(TraversableOnce.scala:288)\n\tat org.apache.spark.InterruptibleIterator.toArray(InterruptibleIterator.scala:28)\n\tat org.apache.spark.api.python.PythonRDD$.$anonfun$runJob$1(PythonRDD.scala:166)\n\tat org.apache.spark.SparkContext.$anonfun$runJob$5(SparkContext.scala:2236)\n\tat org.apache.spark.scheduler.ResultTask.runTask(ResultTask.scala:90)\n\tat org.apache.spark.scheduler.Task.run(Task.scala:131)\n\tat org.apache.spark.executor.Executor$TaskRunner.$anonfun$run$3(Executor.scala:497)\n\tat org.apache.spark.util.Utils$.tryWithSafeFinally(Utils.scala:1439)\n\tat org.apache.spark.executor.Executor$TaskRunner.run(Executor.scala:500)\n\tat java.base/java.util.concurrent.ThreadPoolExecutor.runWorker(ThreadPoolExecutor.java:1128)\n\tat java.base/java.util.concurrent.ThreadPoolExecutor$Worker.run(ThreadPoolExecutor.java:628)\n\tat java.base/java.lang.Thread.run(Thread.java:829)\n\nDriver stacktrace:\n\tat org.apache.spark.scheduler.DAGScheduler.failJobAndIndependentStages(DAGScheduler.scala:2258)\n\tat org.apache.spark.scheduler.DAGScheduler.$anonfun$abortStage$2(DAGScheduler.scala:2207)\n\tat org.apache.spark.scheduler.DAGScheduler.$anonfun$abortStage$2$adapted(DAGScheduler.scala:2206)\n\tat scala.collection.mutable.ResizableArray.foreach(ResizableArray.scala:62)\n\tat scala.collection.mutable.ResizableArray.foreach$(ResizableArray.scala:55)\n\tat scala.collection.mutable.ArrayBuffer.foreach(ArrayBuffer.scala:49)\n\tat org.apache.spark.scheduler.DAGScheduler.abortStage(DAGScheduler.scala:2206)\n\tat org.apache.spark.scheduler.DAGScheduler.$anonfun$handleTaskSetFailed$1(DAGScheduler.scala:1079)\n\tat org.apache.spark.scheduler.DAGScheduler.$anonfun$handleTaskSetFailed$1$adapted(DAGScheduler.scala:1079)\n\tat scala.Option.foreach(Option.scala:407)\n\tat org.apache.spark.scheduler.DAGScheduler.handleTaskSetFailed(DAGScheduler.scala:1079)\n\tat org.apache.spark.scheduler.DAGSchedulerEventProcessLoop.doOnReceive(DAGScheduler.scala:2445)\n\tat org.apache.spark.scheduler.DAGSchedulerEventProcessLoop.onReceive(DAGScheduler.scala:2387)\n\tat org.apache.spark.scheduler.DAGSchedulerEventProcessLoop.onReceive(DAGScheduler.scala:2376)\n\tat org.apache.spark.util.EventLoop$$anon$1.run(EventLoop.scala:49)\n\tat org.apache.spark.scheduler.DAGScheduler.runJob(DAGScheduler.scala:868)\n\tat org.apache.spark.SparkContext.runJob(SparkContext.scala:2196)\n\tat org.apache.spark.SparkContext.runJob(SparkContext.scala:2217)\n\tat org.apache.spark.SparkContext.runJob(SparkContext.scala:2236)\n\tat org.apache.spark.api.python.PythonRDD$.runJob(PythonRDD.scala:166)\n\tat org.apache.spark.api.python.PythonRDD.runJob(PythonRDD.scala)\n\tat jdk.internal.reflect.GeneratedMethodAccessor77.invoke(Unknown Source)\n\tat java.base/jdk.internal.reflect.DelegatingMethodAccessorImpl.invoke(DelegatingMethodAccessorImpl.java:43)\n\tat java.base/java.lang.reflect.Method.invoke(Method.java:566)\n\tat py4j.reflection.MethodInvoker.invoke(MethodInvoker.java:244)\n\tat py4j.reflection.ReflectionEngine.invoke(ReflectionEngine.java:357)\n\tat py4j.Gateway.invoke(Gateway.java:282)\n\tat py4j.commands.AbstractCommand.invokeMethod(AbstractCommand.java:132)\n\tat py4j.commands.CallCommand.execute(CallCommand.java:79)\n\tat py4j.GatewayConnection.run(GatewayConnection.java:238)\n\tat java.base/java.lang.Thread.run(Thread.java:829)\nCaused by: org.apache.spark.api.python.PythonException: Traceback (most recent call last):\n  File \"/usr/local/spark/python/lib/pyspark.zip/pyspark/worker.py\", line 604, in main\n    process()\n  File \"/usr/local/spark/python/lib/pyspark.zip/pyspark/worker.py\", line 596, in process\n    serializer.dump_stream(out_iter, outfile)\n  File \"/usr/local/spark/python/lib/pyspark.zip/pyspark/serializers.py\", line 259, in dump_stream\n    vs = list(itertools.islice(iterator, batch))\n  File \"/usr/local/spark/python/pyspark/rdd.py\", line 1560, in takeUpToNumLeft\n    yield next(iterator)\n  File \"/usr/local/spark/python/lib/pyspark.zip/pyspark/util.py\", line 73, in wrapper\n    return f(*args, **kwargs)\n  File \"/usr/local/spark/python/pyspark/rdd.py\", line 2276, in <lambda>\n    map_values_fn = lambda kv: (kv[0], f(kv[1]))\nIndexError: string index out of range\n\n\tat org.apache.spark.api.python.BasePythonRunner$ReaderIterator.handlePythonException(PythonRunner.scala:517)\n\tat org.apache.spark.api.python.PythonRunner$$anon$3.read(PythonRunner.scala:652)\n\tat org.apache.spark.api.python.PythonRunner$$anon$3.read(PythonRunner.scala:635)\n\tat org.apache.spark.api.python.BasePythonRunner$ReaderIterator.hasNext(PythonRunner.scala:470)\n\tat org.apache.spark.InterruptibleIterator.hasNext(InterruptibleIterator.scala:37)\n\tat scala.collection.Iterator.foreach(Iterator.scala:941)\n\tat scala.collection.Iterator.foreach$(Iterator.scala:941)\n\tat org.apache.spark.InterruptibleIterator.foreach(InterruptibleIterator.scala:28)\n\tat scala.collection.generic.Growable.$plus$plus$eq(Growable.scala:62)\n\tat scala.collection.generic.Growable.$plus$plus$eq$(Growable.scala:53)\n\tat scala.collection.mutable.ArrayBuffer.$plus$plus$eq(ArrayBuffer.scala:105)\n\tat scala.collection.mutable.ArrayBuffer.$plus$plus$eq(ArrayBuffer.scala:49)\n\tat scala.collection.TraversableOnce.to(TraversableOnce.scala:315)\n\tat scala.collection.TraversableOnce.to$(TraversableOnce.scala:313)\n\tat org.apache.spark.InterruptibleIterator.to(InterruptibleIterator.scala:28)\n\tat scala.collection.TraversableOnce.toBuffer(TraversableOnce.scala:307)\n\tat scala.collection.TraversableOnce.toBuffer$(TraversableOnce.scala:307)\n\tat org.apache.spark.InterruptibleIterator.toBuffer(InterruptibleIterator.scala:28)\n\tat scala.collection.TraversableOnce.toArray(TraversableOnce.scala:294)\n\tat scala.collection.TraversableOnce.toArray$(TraversableOnce.scala:288)\n\tat org.apache.spark.InterruptibleIterator.toArray(InterruptibleIterator.scala:28)\n\tat org.apache.spark.api.python.PythonRDD$.$anonfun$runJob$1(PythonRDD.scala:166)\n\tat org.apache.spark.SparkContext.$anonfun$runJob$5(SparkContext.scala:2236)\n\tat org.apache.spark.scheduler.ResultTask.runTask(ResultTask.scala:90)\n\tat org.apache.spark.scheduler.Task.run(Task.scala:131)\n\tat org.apache.spark.executor.Executor$TaskRunner.$anonfun$run$3(Executor.scala:497)\n\tat org.apache.spark.util.Utils$.tryWithSafeFinally(Utils.scala:1439)\n\tat org.apache.spark.executor.Executor$TaskRunner.run(Executor.scala:500)\n\tat java.base/java.util.concurrent.ThreadPoolExecutor.runWorker(ThreadPoolExecutor.java:1128)\n\tat java.base/java.util.concurrent.ThreadPoolExecutor$Worker.run(ThreadPoolExecutor.java:628)\n\t... 1 more\n"
     ]
    }
   ],
   "source": [
    "# mapValues : rdd1은 key-value pair가 아님 [mapValues는 key-value pair를 위한 API이므로 오류발생]\n",
    "rdd1.mapValues(lambda v: v + 1).take(10) # error"
   ]
  },
  {
   "cell_type": "code",
   "execution_count": 65,
   "id": "5df23874",
   "metadata": {},
   "outputs": [
    {
     "data": {
      "text/plain": [
       "[('a', 2), ('b', 2), ('c', 2), ('b', 2), ('b', 2), ('d', 2)]"
      ]
     },
     "execution_count": 65,
     "metadata": {},
     "output_type": "execute_result"
    }
   ],
   "source": [
    "# mapValues : rdd2는 key-value pair가 맞음\n",
    "rdd3 = rdd2.mapValues(lambda v: v + 1)\n",
    "rdd3.take(10)"
   ]
  },
  {
   "cell_type": "code",
   "execution_count": 68,
   "id": "f7f2271f",
   "metadata": {},
   "outputs": [
    {
     "data": {
      "text/plain": [
       "[('a', '1,2,3'), ('b', '4,5,6')]"
      ]
     },
     "execution_count": 68,
     "metadata": {},
     "output_type": "execute_result"
    }
   ],
   "source": [
    "# flatMapValues\n",
    "data = [(\"a\", \"1,2,3\"), (\"b\", \"4,5,6\")]\n",
    "rdd = sc.parallelize(data)\n",
    "rdd.take(10)"
   ]
  },
  {
   "cell_type": "code",
   "execution_count": 69,
   "id": "a5a9638d",
   "metadata": {},
   "outputs": [
    {
     "data": {
      "text/plain": [
       "[('a', '1'), ('a', '2'), ('a', '3'), ('b', '4'), ('b', '5'), ('b', '6')]"
      ]
     },
     "execution_count": 69,
     "metadata": {},
     "output_type": "execute_result"
    }
   ],
   "source": [
    "rdd4 = rdd.flatMapValues(lambda v: v.split(\",\"))\n",
    "rdd4.take(10)"
   ]
  },
  {
   "cell_type": "code",
   "execution_count": 70,
   "id": "f75e4aed",
   "metadata": {},
   "outputs": [
    {
     "data": {
      "text/plain": [
       "[('a', 1), ('b', 3), ('c', 1), ('d', 1)]"
      ]
     },
     "execution_count": 70,
     "metadata": {},
     "output_type": "execute_result"
    }
   ],
   "source": [
    "# reduceByKey\n",
    "\n",
    "# rdd2 = [('a', 1), ('b', 1), ('c', 1), ('b', 1), ('b', 1), ('d', 1)]\n",
    "rdd6 = rdd2.reduceByKey(lambda a, b: a + b)\n",
    "rdd6.take(10)"
   ]
  },
  {
   "cell_type": "code",
   "execution_count": 71,
   "id": "8f3df007",
   "metadata": {},
   "outputs": [
    {
     "data": {
      "text/plain": [
       "[('a', [1]), ('b', [3]), ('c', [1]), ('d', [1])]"
      ]
     },
     "execution_count": 71,
     "metadata": {},
     "output_type": "execute_result"
    }
   ],
   "source": [
    "# groupByKey\n",
    "rdd7 = rdd6.groupByKey()\n",
    "rdd7.map(lambda x : (x[0], list(x[1]))).collect()"
   ]
  },
  {
   "cell_type": "code",
   "execution_count": null,
   "id": "09691553",
   "metadata": {},
   "outputs": [],
   "source": [
    "# cogroup"
   ]
  },
  {
   "cell_type": "code",
   "execution_count": 74,
   "id": "481967b1",
   "metadata": {},
   "outputs": [
    {
     "data": {
      "text/plain": [
       "[('k1', 'v1'), ('k2', 'v2'), ('k3', 'v3')]"
      ]
     },
     "execution_count": 74,
     "metadata": {},
     "output_type": "execute_result"
    }
   ],
   "source": [
    "## group1 : rdd8\n",
    "kv1 = [(\"k1\", \"v1\"), (\"k2\", \"v2\"), (\"k3\", \"v3\")]\n",
    "rdd8 = sc.parallelize(kv1)\n",
    "rdd8.take(10)"
   ]
  },
  {
   "cell_type": "code",
   "execution_count": 75,
   "id": "a7dc7c8b",
   "metadata": {},
   "outputs": [
    {
     "data": {
      "text/plain": [
       "[('k1', 'v4'), ('k2', 'v5'), ('k3', 'v6')]"
      ]
     },
     "execution_count": 75,
     "metadata": {},
     "output_type": "execute_result"
    }
   ],
   "source": [
    "#3 group2 : rdd9\n",
    "kv2 = [(\"k1\", \"v4\"), (\"k2\", \"v5\"), (\"k3\", \"v6\")]\n",
    "rdd9 = sc.parallelize(kv2)\n",
    "rdd9.take(10)"
   ]
  },
  {
   "cell_type": "code",
   "execution_count": 76,
   "id": "bed3ad6f",
   "metadata": {},
   "outputs": [
    {
     "data": {
      "text/plain": [
       "[('k1', (['v1'], ['v4'])), ('k2', (['v2'], ['v5'])), ('k3', (['v3'], ['v6']))]"
      ]
     },
     "execution_count": 76,
     "metadata": {},
     "output_type": "execute_result"
    }
   ],
   "source": [
    "rdd10 = rdd8.cogroup(rdd9)\n",
    "[(x, tuple(map(list, y))) for x, y in sorted(list(rdd10.collect()))]"
   ]
  },
  {
   "cell_type": "code",
   "execution_count": 77,
   "id": "61d6fde6",
   "metadata": {},
   "outputs": [
    {
     "data": {
      "text/plain": [
       "[('k2', ('v2', 'v5')), ('k1', ('v1', 'v4')), ('k3', ('v3', 'v6'))]"
      ]
     },
     "execution_count": 77,
     "metadata": {},
     "output_type": "execute_result"
    }
   ],
   "source": [
    "# join  실제로는 cogroup보다는 join을 많이 사용\n",
    "rdd11 = rdd8.join(rdd9)\n",
    "rdd11.take(10)"
   ]
  },
  {
   "cell_type": "code",
   "execution_count": 78,
   "id": "a5bcded0",
   "metadata": {},
   "outputs": [
    {
     "data": {
      "text/plain": [
       "[('Math', [100, 50]), ('Eng', [80, 70, 90])]"
      ]
     },
     "execution_count": 78,
     "metadata": {},
     "output_type": "execute_result"
    }
   ],
   "source": [
    "# combineByKey\n",
    "r1 = sc.parallelize([(\"Math\", 100), (\"Eng\", 80), (\"Math\", 50), (\"Eng\", 70), (\"Eng\", 90)])\n",
    "\n",
    "def to_list(a):\n",
    "    return [a]\n",
    "\n",
    "def append(a, b):\n",
    "    a.append(b)\n",
    "    return a\n",
    "\n",
    "def extend(a, b):\n",
    "    a.extend(b)\n",
    "    return a\n",
    "\n",
    "rdd12 = r1.combineByKey(to_list, append, extend)\n",
    "rdd12.take(10)"
   ]
  },
  {
   "cell_type": "markdown",
   "id": "ee64fb08",
   "metadata": {},
   "source": [
    "### (4) DataFrame"
   ]
  },
  {
   "cell_type": "markdown",
   "id": "b3b8f9ce",
   "metadata": {},
   "source": [
    "#### Row\n",
    "* 보통은 데이터를 읽어오지만, Row를 활용해 데이터를 정의해줄 수도 있음"
   ]
  },
  {
   "cell_type": "code",
   "execution_count": 79,
   "id": "af231357",
   "metadata": {},
   "outputs": [
    {
     "data": {
      "text/plain": [
       "<Row(1, 'two', True)>"
      ]
     },
     "execution_count": 79,
     "metadata": {},
     "output_type": "execute_result"
    }
   ],
   "source": [
    "from pyspark.sql import Row\n",
    "\n",
    "r1 = Row(1, \"two\", True)\n",
    "r1"
   ]
  },
  {
   "cell_type": "code",
   "execution_count": 80,
   "id": "534922da",
   "metadata": {},
   "outputs": [
    {
     "name": "stdout",
     "output_type": "stream",
     "text": [
      "1\n",
      "two\n",
      "True\n"
     ]
    }
   ],
   "source": [
    "print(r1[0])\n",
    "print(r1[1])\n",
    "print(r1[2])"
   ]
  },
  {
   "cell_type": "markdown",
   "id": "884392ee",
   "metadata": {},
   "source": [
    "#### DataFrame\n",
    "* 파이썬 list로 바로 DataFrame을 생성할 수는 없으며, Row 등으로 감싸준 경우는 가능\n",
    "* 컬럼명 미지정시 _1, _2와 같이 생성됨"
   ]
  },
  {
   "cell_type": "code",
   "execution_count": null,
   "id": "b39549b3",
   "metadata": {},
   "outputs": [],
   "source": [
    "# DataFrame생성 불가능 예시 (TypeError 발생)\n",
    "data1 = [1, 2, 3]\n",
    "\n",
    "df = spark.createDataFrame(data1)\n",
    "df.show()"
   ]
  },
  {
   "cell_type": "markdown",
   "id": "73f8ba0c",
   "metadata": {},
   "source": [
    "TypeError: Can not infer schema for type: <class 'int'>"
   ]
  },
  {
   "cell_type": "code",
   "execution_count": 83,
   "id": "51f35d20",
   "metadata": {},
   "outputs": [
    {
     "name": "stdout",
     "output_type": "stream",
     "text": [
      "+---+\n",
      "| _1|\n",
      "+---+\n",
      "|  1|\n",
      "|  2|\n",
      "|  3|\n",
      "+---+\n",
      "\n"
     ]
    }
   ],
   "source": [
    "# DataFrame생성 가능 예시 (컬럼 미지정)\n",
    "from pyspark.sql import Row\n",
    "\n",
    "data2 = [Row(1), Row(2), Row(3)]\n",
    "\n",
    "df = spark.createDataFrame(data2)\n",
    "df.show()"
   ]
  },
  {
   "cell_type": "code",
   "execution_count": 84,
   "id": "d0dbb847",
   "metadata": {},
   "outputs": [
    {
     "name": "stdout",
     "output_type": "stream",
     "text": [
      "+---+\n",
      "|num|\n",
      "+---+\n",
      "|  1|\n",
      "|  2|\n",
      "|  3|\n",
      "+---+\n",
      "\n"
     ]
    }
   ],
   "source": [
    "# DataFrame생성 가능 예시 (컬럼 지정)\n",
    "df = spark.createDataFrame(data2, ['num'])\n",
    "df.show()"
   ]
  },
  {
   "cell_type": "code",
   "execution_count": 85,
   "id": "639c8cf7",
   "metadata": {},
   "outputs": [
    {
     "name": "stdout",
     "output_type": "stream",
     "text": [
      "+---+----------+----+\n",
      "|age|       job|name|\n",
      "+---+----------+----+\n",
      "| 30|programmer| foo|\n",
      "| 10|   student| bar|\n",
      "+---+----------+----+\n",
      "\n"
     ]
    }
   ],
   "source": [
    "# DataFrame생성 가능 예시 (Class를 활용)\n",
    "class Person:\n",
    "    def __init__(self):\n",
    "        self.name = \"name\"\n",
    "        self.age = 20\n",
    "        self.job = \"student\"\n",
    "    def __init__(self, name, age, job):\n",
    "        self.name = name\n",
    "        self.age = age\n",
    "        self.job = job\n",
    "\n",
    "p1 = Person(\"foo\", 30, \"programmer\")\n",
    "p2 = Person(\"bar\", 10, \"student\")\n",
    "\n",
    "spark.createDataFrame([p1, p2]).show(3)"
   ]
  },
  {
   "cell_type": "code",
   "execution_count": 86,
   "id": "e92adc36",
   "metadata": {},
   "outputs": [
    {
     "name": "stdout",
     "output_type": "stream",
     "text": [
      "+---+---+----------+\n",
      "| _1| _2|        _3|\n",
      "+---+---+----------+\n",
      "|foo| 30|programmer|\n",
      "|bar| 10|   student|\n",
      "+---+---+----------+\n",
      "\n"
     ]
    }
   ],
   "source": [
    "# DataFrame생성 가능 예시 (Tuple 활용)\n",
    "t1 = (\"foo\", 30, \"programmer\")\n",
    "t2 = (\"bar\", 10, \"student\")\n",
    "\n",
    "spark.createDataFrame([t1, t2]).show(3)"
   ]
  },
  {
   "cell_type": "code",
   "execution_count": 87,
   "id": "668bab00",
   "metadata": {},
   "outputs": [
    {
     "name": "stdout",
     "output_type": "stream",
     "text": [
      "+----+---+----------+\n",
      "|name|age|       job|\n",
      "+----+---+----------+\n",
      "| foo| 30|programmer|\n",
      "| bar| 10|   student|\n",
      "+----+---+----------+\n",
      "\n"
     ]
    }
   ],
   "source": [
    "# DataFrame생성 가능 예시 (Tuple 활용+컬럼지정)\n",
    "t1 = (\"foo\", 30, \"programmer\")\n",
    "t2 = (\"bar\", 10, \"student\")\n",
    "\n",
    "spark.createDataFrame([t1, t2],['name','age','job']).show(3)"
   ]
  },
  {
   "cell_type": "code",
   "execution_count": 92,
   "id": "5dcaed45",
   "metadata": {},
   "outputs": [
    {
     "data": {
      "text/plain": [
       "[<Row('foo', 7, 'programmer')>, <Row('bar', 13, 'student')>]"
      ]
     },
     "execution_count": 92,
     "metadata": {},
     "output_type": "execute_result"
    }
   ],
   "source": [
    "# DataFrame생성 가능 예시 (스키마 정의)\n",
    "\n",
    "from pyspark.sql.types import StructType,StructField,StringType,IntegerType\n",
    "\n",
    "schema = StructType(\n",
    "    [StructField(\"name\", StringType(), nullable = True),\n",
    "     StructField(\"age\", IntegerType(), nullable = True),\n",
    "     StructField(\"job\", StringType(), nullable = True)]\n",
    ")\n",
    "\n",
    "rowRDD = sc.parallelize([Row(\"foo\", 7, \"programmer\"), Row(\"bar\", 13, \"student\")])\n",
    "rowRDD.collect()"
   ]
  },
  {
   "cell_type": "code",
   "execution_count": 90,
   "id": "ede719c8",
   "metadata": {},
   "outputs": [
    {
     "name": "stdout",
     "output_type": "stream",
     "text": [
      "+----+---+----------+\n",
      "|name|age|       job|\n",
      "+----+---+----------+\n",
      "| foo|  7|programmer|\n",
      "| bar| 13|   student|\n",
      "+----+---+----------+\n",
      "\n"
     ]
    }
   ],
   "source": [
    "spark.createDataFrame(rowRDD, schema).show()"
   ]
  },
  {
   "cell_type": "code",
   "execution_count": 93,
   "id": "1a497b70",
   "metadata": {},
   "outputs": [
    {
     "name": "stdout",
     "output_type": "stream",
     "text": [
      "+--------------------+\n",
      "|               value|\n",
      "+--------------------+\n",
      "|movieId,title,genres|\n",
      "|1,Toy Story (1995...|\n",
      "|2,Jumanji (1995),...|\n",
      "+--------------------+\n",
      "only showing top 3 rows\n",
      "\n"
     ]
    }
   ],
   "source": [
    "# SparkSession을 활용해 DataFrame으로 생성 [spark.read.text()]\n",
    "spark.read.text(\"../data/movies.csv\").show(3)\n",
    "\n",
    "# 참고 : sc.textFile() : SparkContext를 활용해 RDD로 생성"
   ]
  },
  {
   "cell_type": "code",
   "execution_count": 94,
   "id": "8d1cf68e",
   "metadata": {},
   "outputs": [
    {
     "name": "stdout",
     "output_type": "stream",
     "text": [
      "+-------+----------------+--------------------+\n",
      "|    _c0|             _c1|                 _c2|\n",
      "+-------+----------------+--------------------+\n",
      "|movieId|           title|              genres|\n",
      "|      1|Toy Story (1995)|Adventure|Animati...|\n",
      "|      2|  Jumanji (1995)|Adventure|Childre...|\n",
      "+-------+----------------+--------------------+\n",
      "only showing top 3 rows\n",
      "\n"
     ]
    }
   ],
   "source": [
    "# SparkSession을 활용해 DataFrame으로 생성 [read.option()]\n",
    "spark.read.option(\"sep\", \",\").csv(\"../data/movies.csv\").show(3)"
   ]
  },
  {
   "cell_type": "code",
   "execution_count": 95,
   "id": "e6c0a826",
   "metadata": {},
   "outputs": [
    {
     "name": "stdout",
     "output_type": "stream",
     "text": [
      "+------+-------+------+---------+\n",
      "|   _c0|    _c1|   _c2|      _c3|\n",
      "+------+-------+------+---------+\n",
      "|userId|movieId|rating|timestamp|\n",
      "|     1|      1|   4.0|964982703|\n",
      "|     1|      3|   4.0|964981247|\n",
      "+------+-------+------+---------+\n",
      "only showing top 3 rows\n",
      "\n"
     ]
    }
   ],
   "source": [
    "# SparkSession을 활용해 DataFrame으로 생성 [read.option(), 여러 데이터 소스]\n",
    "spark.read.option(\"basePath\", \"../data/\").csv(\"../data/*.csv\").show(3)"
   ]
  },
  {
   "cell_type": "code",
   "execution_count": 105,
   "id": "c5d86e89",
   "metadata": {},
   "outputs": [],
   "source": [
    "# Table을 만들고 쿼리해서 사용 (영구적으로 사용할 수 없는 테이블임을 유의)\n",
    "## buckected_table이란 이름의 table이 없으면(count == 0)\n",
    "if (spark.sql(\"show tables\").where(\"tableName = 'buckected_table' \").count() == 0):\n",
    "    ## Data를 읽고\n",
    "    df = spark.read.csv(\"../data/movies.csv\")\n",
    "    ## created_at 기준으로 3개의 bucket으로 나누고 / buckected_table로 테이블 생성\n",
    "    df.repartition(1).write.mode(\"Overwrite\").bucketBy(3, \"id\").saveAsTable(\"buckected_table\")\n",
    "    \n",
    "    ## 테이블을 읽고 SQL 쿼리 사용\n",
    "    spark.read.table(\"buckected_table\")\n",
    "    spark.sql(\"select * from buckected_table limit 10\")    "
   ]
  },
  {
   "cell_type": "markdown",
   "id": "18a3ace3",
   "metadata": {},
   "source": [
    "#### DataFrame API"
   ]
  },
  {
   "cell_type": "code",
   "execution_count": 109,
   "id": "e46dba42",
   "metadata": {},
   "outputs": [
    {
     "name": "stdout",
     "output_type": "stream",
     "text": [
      "+--------------------+----------+--------------------+--------------------+------+--------------------+------------------+\n",
      "|               actor|created_at|                 org|             payload|public|                repo|              type|\n",
      "+--------------------+----------+--------------------+--------------------+------+--------------------+------------------+\n",
      "|{\"id\":35613825,\"l...|2024-05-19|{\"id\":126833237,\"...|{\"comment\":{\"url\"...|  true|{\"id\":749408001,\"...|CommitCommentEvent|\n",
      "|{\"id\":84257236,\"l...|2024-05-19|                null|{\"comment\":{\"url\"...|  true|{\"id\":430924902,\"...|CommitCommentEvent|\n",
      "|{\"id\":41898282,\"l...|2024-05-19|{\"id\":1040002,\"lo...|{\"comment\":{\"url\"...|  true|{\"id\":170801983,\"...|CommitCommentEvent|\n",
      "+--------------------+----------+--------------------+--------------------+------+--------------------+------------------+\n",
      "only showing top 3 rows\n",
      "\n"
     ]
    }
   ],
   "source": [
    "# .select()를 사용해 쿼리\n",
    "\n",
    "df1 = spark.read.json(\"../data/*.json\")\n",
    "df1.show(3)"
   ]
  },
  {
   "cell_type": "code",
   "execution_count": 110,
   "id": "8ce45707",
   "metadata": {},
   "outputs": [
    {
     "name": "stdout",
     "output_type": "stream",
     "text": [
      "root\n",
      " |-- actor: string (nullable = true)\n",
      " |-- created_at: string (nullable = true)\n",
      " |-- org: string (nullable = true)\n",
      " |-- payload: string (nullable = true)\n",
      " |-- public: boolean (nullable = true)\n",
      " |-- repo: string (nullable = true)\n",
      " |-- type: string (nullable = true)\n",
      "\n"
     ]
    }
   ],
   "source": [
    "df1.printSchema()"
   ]
  },
  {
   "cell_type": "code",
   "execution_count": 111,
   "id": "cf7822cd",
   "metadata": {},
   "outputs": [
    {
     "name": "stdout",
     "output_type": "stream",
     "text": [
      "+--------------------+----------+\n",
      "|               actor|created_at|\n",
      "+--------------------+----------+\n",
      "|{\"id\":35613825,\"l...|2024-05-19|\n",
      "|{\"id\":84257236,\"l...|2024-05-19|\n",
      "|{\"id\":41898282,\"l...|2024-05-19|\n",
      "+--------------------+----------+\n",
      "only showing top 3 rows\n",
      "\n"
     ]
    }
   ],
   "source": [
    "df1.select(\"actor\", \"created_at\").show(3)"
   ]
  },
  {
   "cell_type": "code",
   "execution_count": 116,
   "id": "ac75e835",
   "metadata": {},
   "outputs": [
    {
     "name": "stdout",
     "output_type": "stream",
     "text": [
      "+-------------------------------------------------------------------------------------------------------------------------------------------------------------------------------------------------------------------------+\n",
      "|actor                                                                                                                                                                                                                    |\n",
      "+-------------------------------------------------------------------------------------------------------------------------------------------------------------------------------------------------------------------------+\n",
      "|{\"id\":35613825,\"login\":\"vercel[bot]\",\"display_login\":\"vercel\",\"gravatar_id\":\"\",\"url\":\"https://api.github.com/users/vercel[bot]\",\"avatar_url\":\"https://avatars.githubusercontent.com/u/35613825?\"}                        |\n",
      "|{\"id\":84257236,\"login\":\"DM-netizen\",\"display_login\":\"DM-netizen\",\"gravatar_id\":\"\",\"url\":\"https://api.github.com/users/DM-netizen\",\"avatar_url\":\"https://avatars.githubusercontent.com/u/84257236?\"}                      |\n",
      "|{\"id\":41898282,\"login\":\"github-actions[bot]\",\"display_login\":\"github-actions\",\"gravatar_id\":\"\",\"url\":\"https://api.github.com/users/github-actions[bot]\",\"avatar_url\":\"https://avatars.githubusercontent.com/u/41898282?\"}|\n",
      "+-------------------------------------------------------------------------------------------------------------------------------------------------------------------------------------------------------------------------+\n",
      "only showing top 3 rows\n",
      "\n"
     ]
    }
   ],
   "source": [
    "# SparkSQL (Expression) 활용\n",
    "df1.selectExpr('actor').show(3, False)"
   ]
  },
  {
   "cell_type": "code",
   "execution_count": 117,
   "id": "e01a8d78",
   "metadata": {},
   "outputs": [
    {
     "name": "stdout",
     "output_type": "stream",
     "text": [
      "+-------------------------------------------------------------------------------------------------------------------------------------------------------------------------------------------------------------------------+\n",
      "|upperName                                                                                                                                                                                                                |\n",
      "+-------------------------------------------------------------------------------------------------------------------------------------------------------------------------------------------------------------------------+\n",
      "|{\"ID\":35613825,\"LOGIN\":\"VERCEL[BOT]\",\"DISPLAY_LOGIN\":\"VERCEL\",\"GRAVATAR_ID\":\"\",\"URL\":\"HTTPS://API.GITHUB.COM/USERS/VERCEL[BOT]\",\"AVATAR_URL\":\"HTTPS://AVATARS.GITHUBUSERCONTENT.COM/U/35613825?\"}                        |\n",
      "|{\"ID\":84257236,\"LOGIN\":\"DM-NETIZEN\",\"DISPLAY_LOGIN\":\"DM-NETIZEN\",\"GRAVATAR_ID\":\"\",\"URL\":\"HTTPS://API.GITHUB.COM/USERS/DM-NETIZEN\",\"AVATAR_URL\":\"HTTPS://AVATARS.GITHUBUSERCONTENT.COM/U/84257236?\"}                      |\n",
      "|{\"ID\":41898282,\"LOGIN\":\"GITHUB-ACTIONS[BOT]\",\"DISPLAY_LOGIN\":\"GITHUB-ACTIONS\",\"GRAVATAR_ID\":\"\",\"URL\":\"HTTPS://API.GITHUB.COM/USERS/GITHUB-ACTIONS[BOT]\",\"AVATAR_URL\":\"HTTPS://AVATARS.GITHUBUSERCONTENT.COM/U/41898282?\"}|\n",
      "+-------------------------------------------------------------------------------------------------------------------------------------------------------------------------------------------------------------------------+\n",
      "only showing top 3 rows\n",
      "\n"
     ]
    }
   ],
   "source": [
    "# SparkSQL (Expression) 활용\n",
    "df1.selectExpr('upper(actor) as upperName').show(3, False)"
   ]
  },
  {
   "cell_type": "code",
   "execution_count": 113,
   "id": "7df3a766",
   "metadata": {},
   "outputs": [
    {
     "name": "stdout",
     "output_type": "stream",
     "text": [
      "+--------------------+--------------------+\n",
      "|               actor|                 org|\n",
      "+--------------------+--------------------+\n",
      "|{\"id\":35613825,\"l...|{\"id\":126833237,\"...|\n",
      "|{\"id\":84257236,\"l...|                null|\n",
      "|{\"id\":41898282,\"l...|{\"id\":1040002,\"lo...|\n",
      "+--------------------+--------------------+\n",
      "only showing top 3 rows\n",
      "\n"
     ]
    }
   ],
   "source": [
    "# col을 사용해 쿼리\n",
    "\n",
    "## pyspark.sql.functions.* 의 모든 타입은 column을 input으로 받는다\n",
    "## split('id',', ')는 미동작 → split(col('id'),', ')해야 동작\n",
    "from pyspark.sql.functions import col\n",
    "\n",
    "c1 = col(\"actor\")\n",
    "c2 = col(\"org\")\n",
    "\n",
    "df1.select(c1, c2).show(3)"
   ]
  },
  {
   "cell_type": "code",
   "execution_count": 126,
   "id": "9540be55",
   "metadata": {},
   "outputs": [
    {
     "name": "stdout",
     "output_type": "stream",
     "text": [
      "+---+\n",
      "|_1 |\n",
      "+---+\n",
      "|2  |\n",
      "+---+\n",
      "\n"
     ]
    }
   ],
   "source": [
    "# filter 사용\n",
    "data2 = [Row(1), Row(2), Row(3)]\n",
    "df = spark.createDataFrame(data2)\n",
    "\n",
    "df.filter(\"_1 == 2\").show(3, False)"
   ]
  },
  {
   "cell_type": "code",
   "execution_count": 127,
   "id": "4ad8ce0c",
   "metadata": {},
   "outputs": [
    {
     "name": "stdout",
     "output_type": "stream",
     "text": [
      "+---+\n",
      "|_1 |\n",
      "+---+\n",
      "|2  |\n",
      "+---+\n",
      "\n"
     ]
    }
   ],
   "source": [
    "# where 사용\n",
    "data2 = [Row(1), Row(2), Row(3)]\n",
    "df = spark.createDataFrame(data2)\n",
    "\n",
    "df.where(\"_1 == 2\").show(3, False)"
   ]
  },
  {
   "cell_type": "code",
   "execution_count": 130,
   "id": "e4798b6e",
   "metadata": {},
   "outputs": [
    {
     "name": "stdout",
     "output_type": "stream",
     "text": [
      "+---+\n",
      "| _1|\n",
      "+---+\n",
      "|  2|\n",
      "|  3|\n",
      "|  4|\n",
      "+---+\n",
      "\n"
     ]
    }
   ],
   "source": [
    "# orderBy\n",
    "data2 = [Row(3), Row(2), Row(4)]\n",
    "df = spark.createDataFrame(data2)\n",
    "\n",
    "df.orderBy(\"_1\").show(3)"
   ]
  },
  {
   "cell_type": "code",
   "execution_count": 131,
   "id": "ec88f49e",
   "metadata": {},
   "outputs": [
    {
     "name": "stdout",
     "output_type": "stream",
     "text": [
      "+---+\n",
      "| _1|\n",
      "+---+\n",
      "|  2|\n",
      "|  3|\n",
      "|  4|\n",
      "+---+\n",
      "\n"
     ]
    }
   ],
   "source": [
    "# sort\n",
    "data2 = [Row(3), Row(2), Row(4)]\n",
    "df = spark.createDataFrame(data2)\n",
    "\n",
    "df.sort(col(\"_1\")).show(3)"
   ]
  },
  {
   "cell_type": "code",
   "execution_count": 141,
   "id": "8af34ed9",
   "metadata": {},
   "outputs": [
    {
     "name": "stdout",
     "output_type": "stream",
     "text": [
      "+------------------+---------------+\n",
      "|              type|max(created_at)|\n",
      "+------------------+---------------+\n",
      "|CommitCommentEvent|     2024-05-19|\n",
      "+------------------+---------------+\n",
      "\n"
     ]
    }
   ],
   "source": [
    "# groupBy\n",
    "import pyspark.sql.functions as F\n",
    "\n",
    "df = spark.read.json(\"../data/*.json\")\n",
    "\n",
    "# aggregations\n",
    "groupedDF = df.groupBy(\"type\")\n",
    "groupedDF.agg(F.max(F.col(\"created_at\"))).show()"
   ]
  },
  {
   "cell_type": "code",
   "execution_count": 142,
   "id": "ff68bdb2",
   "metadata": {},
   "outputs": [
    {
     "name": "stdout",
     "output_type": "stream",
     "text": [
      "228\n"
     ]
    },
    {
     "name": "stderr",
     "output_type": "stream",
     "text": [
      "\r",
      "[Stage 218:=================================>                   (128 + 1) / 200]\r",
      "\r",
      "[Stage 218:==============================================>      (176 + 1) / 200]\r"
     ]
    },
    {
     "name": "stdout",
     "output_type": "stream",
     "text": [
      "228\n"
     ]
    },
    {
     "name": "stderr",
     "output_type": "stream",
     "text": [
      "\r",
      "                                                                                \r"
     ]
    }
   ],
   "source": [
    "# 중복제거\n",
    "print(df.count())\n",
    "print(df.distinct().count())"
   ]
  },
  {
   "cell_type": "markdown",
   "id": "5db019d2",
   "metadata": {},
   "source": [
    "#### 많이 사용하는 DataFrame API\n",
    "* withColumn (많이 쓰임)\n",
    "  * pyspark.sql.functions.*로 transformation작업을 많이함\n",
    "    * `import pyspark.sql.functions as F` 로 많이 사용\n",
    "  * 필터링해서 새로운 컬럼에 넣고, 기존 컬럼을 Drop하는 식으로 많이 사용"
   ]
  },
  {
   "cell_type": "code",
   "execution_count": 119,
   "id": "e631ab62",
   "metadata": {
    "scrolled": false
   },
   "outputs": [
    {
     "name": "stdout",
     "output_type": "stream",
     "text": [
      "+-------------------------------------------------------------------------------------------------------------------------------------------------------------------------------------------------------------------------+----------+-----------------------------------------------------------------------------------------------------------------------------------------------------------------------------+--------------------------------------------------------------------------------------------------------------------------------------------------------------------------------------------------------------------------------------------------------------------------------------------------------------------------------------------------------------------------------------------------------------------------------------------------------------------------------------------------------------------------------------------------------------------------------------------------------------------------------------------------------------------------------------------------------------------------------------------------------------------------------------------------------------------------------------------------------------------------------------------------------------------------------------------------------------------------------------------------------------------------------------------------------------------------------------------------------------------------------------------------------------------------------------------------------------------------------------------------------------------------------------------------------------------------------------------------------------------------------------------------------------------------------------------------------------------------------------------------------------------------------------------------------------------------------------------------------------------------------------------------------------------------------------------------------------------------------------------------------------------------------------------------------------------------------------------------------------------------------------------------------------------------------------------------------------------------------------------------------------------------------------------------------------------------------------------------------------------------------------------------------------------------------------------------------------------------------------------------------------------------------------------------------------------------------------------------------------------------------------------------------------------------------------------------------------------------------------------------------------------------------------+------+----------------------------------------------------------------------------------------------------------------+------------------+-------------------------------------------------------------------------------------------------------------------------------------------------------------------------------------------------------------------------+\n",
      "|actor                                                                                                                                                                                                                    |created_at|org                                                                                                                                                                          |payload                                                                                                                                                                                                                                                                                                                                                                                                                                                                                                                                                                                                                                                                                                                                                                                                                                                                                                                                                                                                                                                                                                                                                                                                                                                                                                                                                                                                                                                                                                                                                                                                                                                                                                                                                                                                                                                                                                                                                                                                                                                                                                                                                                                                                                                                                                                                                                                                                                                                                                                               |public|repo                                                                                                            |type              |newColumn                                                                                                                                                                                                                |\n",
      "+-------------------------------------------------------------------------------------------------------------------------------------------------------------------------------------------------------------------------+----------+-----------------------------------------------------------------------------------------------------------------------------------------------------------------------------+--------------------------------------------------------------------------------------------------------------------------------------------------------------------------------------------------------------------------------------------------------------------------------------------------------------------------------------------------------------------------------------------------------------------------------------------------------------------------------------------------------------------------------------------------------------------------------------------------------------------------------------------------------------------------------------------------------------------------------------------------------------------------------------------------------------------------------------------------------------------------------------------------------------------------------------------------------------------------------------------------------------------------------------------------------------------------------------------------------------------------------------------------------------------------------------------------------------------------------------------------------------------------------------------------------------------------------------------------------------------------------------------------------------------------------------------------------------------------------------------------------------------------------------------------------------------------------------------------------------------------------------------------------------------------------------------------------------------------------------------------------------------------------------------------------------------------------------------------------------------------------------------------------------------------------------------------------------------------------------------------------------------------------------------------------------------------------------------------------------------------------------------------------------------------------------------------------------------------------------------------------------------------------------------------------------------------------------------------------------------------------------------------------------------------------------------------------------------------------------------------------------------------------------+------+----------------------------------------------------------------------------------------------------------------+------------------+-------------------------------------------------------------------------------------------------------------------------------------------------------------------------------------------------------------------------+\n",
      "|{\"id\":35613825,\"login\":\"vercel[bot]\",\"display_login\":\"vercel\",\"gravatar_id\":\"\",\"url\":\"https://api.github.com/users/vercel[bot]\",\"avatar_url\":\"https://avatars.githubusercontent.com/u/35613825?\"}                        |2024-05-19|{\"id\":126833237,\"login\":\"boxlife-app\",\"gravatar_id\":\"\",\"url\":\"https://api.github.com/orgs/boxlife-app\",\"avatar_url\":\"https://avatars.githubusercontent.com/u/126833237?\"}    |{\"comment\":{\"url\":\"https://api.github.com/repos/boxlife-app/calisto/comments/142178684\",\"html_url\":\"https://github.com/boxlife-app/calisto/commit/7651f70845e3313adf7d6c534ce90d1157e1daab#commitcomment-142178684\",\"id\":142178684,\"node_id\":\"CC_kwDOLKsPAc4IeXl8\",\"user\":{\"login\":\"vercel[bot]\",\"id\":35613825,\"node_id\":\"MDM6Qm90MzU2MTM4MjU=\",\"avatar_url\":\"https://avatars.githubusercontent.com/in/8329?v=4\",\"gravatar_id\":\"\",\"url\":\"https://api.github.com/users/vercel%5Bbot%5D\",\"html_url\":\"https://github.com/apps/vercel\",\"followers_url\":\"https://api.github.com/users/vercel%5Bbot%5D/followers\",\"following_url\":\"https://api.github.com/users/vercel%5Bbot%5D/following{/other_user}\",\"gists_url\":\"https://api.github.com/users/vercel%5Bbot%5D/gists{/gist_id}\",\"starred_url\":\"https://api.github.com/users/vercel%5Bbot%5D/starred{/owner}{/repo}\",\"subscriptions_url\":\"https://api.github.com/users/vercel%5Bbot%5D/subscriptions\",\"organizations_url\":\"https://api.github.com/users/vercel%5Bbot%5D/orgs\",\"repos_url\":\"https://api.github.com/users/vercel%5Bbot%5D/repos\",\"events_url\":\"https://api.github.com/users/vercel%5Bbot%5D/events{/privacy}\",\"received_events_url\":\"https://api.github.com/users/vercel%5Bbot%5D/received_events\",\"type\":\"Bot\",\"site_admin\":false},\"position\":null,\"line\":null,\"path\":null,\"commit_id\":\"7651f70845e3313adf7d6c534ce90d1157e1daab\",\"created_at\":\"2024-05-19T14:00:00Z\",\"updated_at\":\"2024-05-19T14:00:00Z\",\"author_association\":\"NONE\",\"body\":\"Successfully deployed to the following URLs:\\n\\n## calisto – ./\\n\\n[calisto-git-main-boxlife.vercel.app](https://calisto-git-main-boxlife.vercel.app)  \\n[calisto-sigma.vercel.app](https://calisto-sigma.vercel.app)  \\n[calisto-boxlife.vercel.app](https://calisto-boxlife.vercel.app)  \\n[calisto.js.org](https://calisto.js.org)  \\n[calisto.boxlife.app](https://calisto.boxlife.app)\",\"reactions\":{\"url\":\"https://api.github.com/repos/boxlife-app/calisto/comments/142178684/reactions\",\"total_count\":0,\"+1\":0,\"-1\":0,\"laugh\":0,\"hooray\":0,\"confused\":0,\"heart\":0,\"rocket\":0,\"eyes\":0}}}                                                                                                                                                                                                                                                                                                                                                                                                                             |true  |{\"id\":749408001,\"name\":\"boxlife-app/calisto\",\"url\":\"https://api.github.com/repos/boxlife-app/calisto\"}          |CommitCommentEvent|{\"id\":35613825,\"login\":\"vercel[bot]\",\"display_login\":\"vercel\",\"gravatar_id\":\"\",\"url\":\"https://api.github.com/users/vercel[bot]\",\"avatar_url\":\"https://avatars.githubusercontent.com/u/35613825?\"}                        |\n",
      "|{\"id\":84257236,\"login\":\"DM-netizen\",\"display_login\":\"DM-netizen\",\"gravatar_id\":\"\",\"url\":\"https://api.github.com/users/DM-netizen\",\"avatar_url\":\"https://avatars.githubusercontent.com/u/84257236?\"}                      |2024-05-19|null                                                                                                                                                                         |{\"comment\":{\"url\":\"https://api.github.com/repos/joyhughes/Jen/comments/142178686\",\"html_url\":\"https://github.com/joyhughes/Jen/commit/2516172cb9b3efde69c236491e36b1ba7bc567c2#commitcomment-142178686\",\"id\":142178686,\"node_id\":\"CC_kwDOGa9kZs4IeXl-\",\"user\":{\"login\":\"DM-netizen\",\"id\":84257236,\"node_id\":\"MDQ6VXNlcjg0MjU3MjM2\",\"avatar_url\":\"https://avatars.githubusercontent.com/u/84257236?v=4\",\"gravatar_id\":\"\",\"url\":\"https://api.github.com/users/DM-netizen\",\"html_url\":\"https://github.com/DM-netizen\",\"followers_url\":\"https://api.github.com/users/DM-netizen/followers\",\"following_url\":\"https://api.github.com/users/DM-netizen/following{/other_user}\",\"gists_url\":\"https://api.github.com/users/DM-netizen/gists{/gist_id}\",\"starred_url\":\"https://api.github.com/users/DM-netizen/starred{/owner}{/repo}\",\"subscriptions_url\":\"https://api.github.com/users/DM-netizen/subscriptions\",\"organizations_url\":\"https://api.github.com/users/DM-netizen/orgs\",\"repos_url\":\"https://api.github.com/users/DM-netizen/repos\",\"events_url\":\"https://api.github.com/users/DM-netizen/events{/privacy}\",\"received_events_url\":\"https://api.github.com/users/DM-netizen/received_events\",\"type\":\"User\",\"site_admin\":false},\"position\":null,\"line\":null,\"path\":null,\"commit_id\":\"2516172cb9b3efde69c236491e36b1ba7bc567c2\",\"created_at\":\"2024-05-19T14:00:42Z\",\"updated_at\":\"2024-05-19T14:00:42Z\",\"author_association\":\"NONE\",\"body\":\"```\\r\\ntemplate< class T > void eff_kaleidoscope< T >::operator () ( any_buffer_pair_ptr& buf, element_context& context )\\r\\n{\\r\\n    vec2f old_center; float old_segments; float old_offset_angle; bool old_reflect;\\r\\n    center(context); segments(context); offset_angle(context); reflect(context); filled(context);\\r\\n    \\r\\n    if(*center!=old_center || *segments!=old_segments || *offset_angle!=old_offset_angle || *reflect!=old_reflect)\\r\\n    filled=false;\\r\\n    old_center = *center; old_segments=*segments; old_offset_angle=*offset_angle; old_reflect=*reflect;\\r\\n\\r\\n    if(!filled)\\r\\n    {\\r\\n        filled =true;\\r\\n        vftools tools( get_image< T >( buf ) );\\r\\n        tools.kaleidoscope(*center,*segments,*offset_angle,*reflect);\\r\\n    }  \\r\\n}\\r\\n\\r\\ntemplate class eff_kaleidoscope< vec2f >;\\r\\n```\\r\\n\\r\\nI think this should work now.\",\"reactions\":{\"url\":\"https://api.github.com/repos/joyhughes/Jen/comments/142178686/reactions\",\"total_count\":0,\"+1\":0,\"-1\":0,\"laugh\":0,\"hooray\":0,\"confused\":0,\"heart\":0,\"rocket\":0,\"eyes\":0}}}|true  |{\"id\":430924902,\"name\":\"joyhughes/Jen\",\"url\":\"https://api.github.com/repos/joyhughes/Jen\"}                      |CommitCommentEvent|{\"id\":84257236,\"login\":\"DM-netizen\",\"display_login\":\"DM-netizen\",\"gravatar_id\":\"\",\"url\":\"https://api.github.com/users/DM-netizen\",\"avatar_url\":\"https://avatars.githubusercontent.com/u/84257236?\"}                      |\n",
      "|{\"id\":41898282,\"login\":\"github-actions[bot]\",\"display_login\":\"github-actions\",\"gravatar_id\":\"\",\"url\":\"https://api.github.com/users/github-actions[bot]\",\"avatar_url\":\"https://avatars.githubusercontent.com/u/41898282?\"}|2024-05-19|{\"id\":1040002,\"login\":\"linuxfoundation\",\"gravatar_id\":\"\",\"url\":\"https://api.github.com/orgs/linuxfoundation\",\"avatar_url\":\"https://avatars.githubusercontent.com/u/1040002?\"}|{\"comment\":{\"url\":\"https://api.github.com/repos/linuxfoundation/lfevents/comments/142178688\",\"html_url\":\"https://github.com/linuxfoundation/lfevents/commit/b2ef1fcd2f3488f79c7a3f74e5692e4305e4dc16#commitcomment-142178688\",\"id\":142178688,\"node_id\":\"CC_kwDOCi47P84IeXmA\",\"user\":{\"login\":\"github-actions[bot]\",\"id\":41898282,\"node_id\":\"MDM6Qm90NDE4OTgyODI=\",\"avatar_url\":\"https://avatars.githubusercontent.com/in/15368?v=4\",\"gravatar_id\":\"\",\"url\":\"https://api.github.com/users/github-actions%5Bbot%5D\",\"html_url\":\"https://github.com/apps/github-actions\",\"followers_url\":\"https://api.github.com/users/github-actions%5Bbot%5D/followers\",\"following_url\":\"https://api.github.com/users/github-actions%5Bbot%5D/following{/other_user}\",\"gists_url\":\"https://api.github.com/users/github-actions%5Bbot%5D/gists{/gist_id}\",\"starred_url\":\"https://api.github.com/users/github-actions%5Bbot%5D/starred{/owner}{/repo}\",\"subscriptions_url\":\"https://api.github.com/users/github-actions%5Bbot%5D/subscriptions\",\"organizations_url\":\"https://api.github.com/users/github-actions%5Bbot%5D/orgs\",\"repos_url\":\"https://api.github.com/users/github-actions%5Bbot%5D/repos\",\"events_url\":\"https://api.github.com/users/github-actions%5Bbot%5D/events{/privacy}\",\"received_events_url\":\"https://api.github.com/users/github-actions%5Bbot%5D/received_events\",\"type\":\"Bot\",\"site_admin\":false},\"position\":null,\"line\":null,\"path\":null,\"commit_id\":\"b2ef1fcd2f3488f79c7a3f74e5692e4305e4dc16\",\"created_at\":\"2024-05-19T14:01:02Z\",\"updated_at\":\"2024-05-19T14:01:02Z\",\"author_association\":\"NONE\",\"body\":\"[![Visit Site](https://raw.githubusercontent.com/pantheon-systems/terminus-build-tools-plugin/master/assets/images/visit-site-36.png)](https://pr-903-lfasiallcci.pantheonsite.io/)\\n\\nCreated multidev environment [pr-903](https://dashboard.pantheon.io/sites/d9d89786-a031-4501-a11a-542662f8f8c1#pr-903) for lfasiallcci.\",\"reactions\":{\"url\":\"https://api.github.com/repos/linuxfoundation/lfevents/comments/142178688/reactions\",\"total_count\":0,\"+1\":0,\"-1\":0,\"laugh\":0,\"hooray\":0,\"confused\":0,\"heart\":0,\"rocket\":0,\"eyes\":0}}}                                                                                                                                                                                                                                                                                                                                                                          |true  |{\"id\":170801983,\"name\":\"linuxfoundation/lfevents\",\"url\":\"https://api.github.com/repos/linuxfoundation/lfevents\"}|CommitCommentEvent|{\"id\":41898282,\"login\":\"github-actions[bot]\",\"display_login\":\"github-actions\",\"gravatar_id\":\"\",\"url\":\"https://api.github.com/users/github-actions[bot]\",\"avatar_url\":\"https://avatars.githubusercontent.com/u/41898282?\"}|\n",
      "+-------------------------------------------------------------------------------------------------------------------------------------------------------------------------------------------------------------------------+----------+-----------------------------------------------------------------------------------------------------------------------------------------------------------------------------+--------------------------------------------------------------------------------------------------------------------------------------------------------------------------------------------------------------------------------------------------------------------------------------------------------------------------------------------------------------------------------------------------------------------------------------------------------------------------------------------------------------------------------------------------------------------------------------------------------------------------------------------------------------------------------------------------------------------------------------------------------------------------------------------------------------------------------------------------------------------------------------------------------------------------------------------------------------------------------------------------------------------------------------------------------------------------------------------------------------------------------------------------------------------------------------------------------------------------------------------------------------------------------------------------------------------------------------------------------------------------------------------------------------------------------------------------------------------------------------------------------------------------------------------------------------------------------------------------------------------------------------------------------------------------------------------------------------------------------------------------------------------------------------------------------------------------------------------------------------------------------------------------------------------------------------------------------------------------------------------------------------------------------------------------------------------------------------------------------------------------------------------------------------------------------------------------------------------------------------------------------------------------------------------------------------------------------------------------------------------------------------------------------------------------------------------------------------------------------------------------------------------------------------+------+----------------------------------------------------------------------------------------------------------------+------------------+-------------------------------------------------------------------------------------------------------------------------------------------------------------------------------------------------------------------------+\n",
      "only showing top 3 rows\n",
      "\n"
     ]
    }
   ],
   "source": [
    "import pyspark.sql.functions as F\n",
    "\n",
    "# actor컬럼을 trim해서, newColumn라는 컬럼을 새로 만들어 저장\n",
    "df.withColumn(\"newColumn\", F.trim(F.col(\"actor\"))).show(3,False)"
   ]
  },
  {
   "cell_type": "markdown",
   "id": "56c4874e",
   "metadata": {},
   "source": [
    "#### Column API"
   ]
  },
  {
   "cell_type": "code",
   "execution_count": 146,
   "id": "771c6cca",
   "metadata": {},
   "outputs": [
    {
     "name": "stdout",
     "output_type": "stream",
     "text": [
      "root\n",
      " |-- actor: string (nullable = true)\n",
      " |-- created_at: string (nullable = true)\n",
      " |-- org: string (nullable = true)\n",
      " |-- payload: string (nullable = true)\n",
      " |-- public: boolean (nullable = true)\n",
      " |-- repo: string (nullable = true)\n",
      " |-- type: string (nullable = true)\n",
      "\n"
     ]
    }
   ],
   "source": [
    "# Seㅣect + Col로 DataFrame생성하기\n",
    "df1 = spark.read.json(\"../data/*.json\")\n",
    "df1.printSchema()"
   ]
  },
  {
   "cell_type": "code",
   "execution_count": 147,
   "id": "90e56cbf",
   "metadata": {},
   "outputs": [
    {
     "name": "stdout",
     "output_type": "stream",
     "text": [
      "root\n",
      " |-- actor: string (nullable = true)\n",
      " |-- org: string (nullable = true)\n",
      "\n"
     ]
    }
   ],
   "source": [
    "c1 = F.col(\"actor\")\n",
    "c2 = F.col(\"org\")\n",
    "\n",
    "df2 = df1.select(c1, c2)\n",
    "df2.printSchema()"
   ]
  },
  {
   "cell_type": "code",
   "execution_count": 151,
   "id": "7ee3ba72",
   "metadata": {},
   "outputs": [
    {
     "name": "stdout",
     "output_type": "stream",
     "text": [
      "+--------------------+\n",
      "|                 org|\n",
      "+--------------------+\n",
      "|{\"id\":126833237,\"...|\n",
      "|                null|\n",
      "|{\"id\":1040002,\"lo...|\n",
      "|                null|\n",
      "|                null|\n",
      "+--------------------+\n",
      "only showing top 5 rows\n",
      "\n"
     ]
    }
   ],
   "source": [
    "# orderBy\n",
    "df1.select(\"org\").orderBy(\"created_at\").show(5)"
   ]
  },
  {
   "cell_type": "code",
   "execution_count": 152,
   "id": "ddd9de68",
   "metadata": {},
   "outputs": [
    {
     "name": "stdout",
     "output_type": "stream",
     "text": [
      "+-------+-----------------------+-------------------------------------------+\n",
      "|movieId|title                  |genres                                     |\n",
      "+-------+-----------------------+-------------------------------------------+\n",
      "|1      |Toy Story (1995)       |Adventure|Animation|Children|Comedy|Fantasy|\n",
      "|2      |Jumanji (1995)         |Adventure|Children|Fantasy                 |\n",
      "|3      |Grumpier Old Men (1995)|Comedy|Romance                             |\n",
      "+-------+-----------------------+-------------------------------------------+\n",
      "only showing top 3 rows\n",
      "\n"
     ]
    }
   ],
   "source": [
    "# F.split 예제 (데이터 불러오기)\n",
    "## F.split(F.col(\"genres\"), '[|]', 2) : 마지막 숫자는 최대로 나눌 수 있는 수. -1넣으면 무제한\n",
    "\n",
    "import pyspark.sql.functions as F\n",
    "df1 = spark.read.options(header='True').csv(\"../data/movies.csv\")\n",
    "df1.show(3, False)"
   ]
  },
  {
   "cell_type": "code",
   "execution_count": 156,
   "id": "4a75b76a",
   "metadata": {},
   "outputs": [
    {
     "name": "stdout",
     "output_type": "stream",
     "text": [
      "+----------------------------------------------+\n",
      "|cc                                            |\n",
      "+----------------------------------------------+\n",
      "|[Adventure, Animation|Children|Comedy|Fantasy]|\n",
      "|[Adventure, Children|Fantasy]                 |\n",
      "|[Comedy, Romance]                             |\n",
      "|[Comedy, Drama|Romance]                       |\n",
      "|[Comedy]                                      |\n",
      "+----------------------------------------------+\n",
      "only showing top 5 rows\n",
      "\n"
     ]
    }
   ],
   "source": [
    "# F.split (limit를 2로 지정)\n",
    "cc = F.split(F.col(\"genres\"), '[|]', 2)\n",
    "df2 = df1.select(cc.alias(\"cc\"))\n",
    "df2.show(5, False)"
   ]
  },
  {
   "cell_type": "code",
   "execution_count": 157,
   "id": "d4a3196f",
   "metadata": {},
   "outputs": [
    {
     "name": "stdout",
     "output_type": "stream",
     "text": [
      "+-------------------------------------------------+\n",
      "|cc                                               |\n",
      "+-------------------------------------------------+\n",
      "|[Adventure, Animation, Children, Comedy, Fantasy]|\n",
      "|[Adventure, Children, Fantasy]                   |\n",
      "|[Comedy, Romance]                                |\n",
      "|[Comedy, Drama, Romance]                         |\n",
      "|[Comedy]                                         |\n",
      "+-------------------------------------------------+\n",
      "only showing top 5 rows\n",
      "\n"
     ]
    }
   ],
   "source": [
    "# F.split (limit를 -1로 지정, 무제한)\n",
    "cc = F.split(F.col(\"genres\"), '[|]', -1)\n",
    "df2 = df1.select(cc.alias(\"cc\"))\n",
    "df2.show(5, False)"
   ]
  },
  {
   "cell_type": "code",
   "execution_count": 158,
   "id": "4ee3fb0d",
   "metadata": {},
   "outputs": [
    {
     "name": "stdout",
     "output_type": "stream",
     "text": [
      "+---------+---------+\n",
      "|cc[0]    |cc[1]    |\n",
      "+---------+---------+\n",
      "|Adventure|Animation|\n",
      "|Adventure|Children |\n",
      "|Comedy   |Romance  |\n",
      "|Comedy   |Drama    |\n",
      "|Comedy   |null     |\n",
      "+---------+---------+\n",
      "only showing top 5 rows\n",
      "\n"
     ]
    }
   ],
   "source": [
    "# F.expr & select(cols)\n",
    "\n",
    "cols = [F.expr(f\"cc[{idx}]\") for idx in range(0, 2)]\n",
    "df3 = df2.select(cols)\n",
    "df3.show(5, False)"
   ]
  },
  {
   "cell_type": "code",
   "execution_count": 167,
   "id": "a7df6285",
   "metadata": {},
   "outputs": [
    {
     "name": "stdout",
     "output_type": "stream",
     "text": [
      "+---------+---------+-----+\n",
      "|cc[0]    |cc[1]    |c3   |\n",
      "+---------+---------+-----+\n",
      "|Adventure|Animation|Korea|\n",
      "|Adventure|Children |Korea|\n",
      "|Comedy   |Romance  |Korea|\n",
      "|Comedy   |Drama    |Korea|\n",
      "|Comedy   |null     |Korea|\n",
      "+---------+---------+-----+\n",
      "only showing top 5 rows\n",
      "\n"
     ]
    }
   ],
   "source": [
    "# withColumn + F.lit : 컬럼 생성 후 값 채우기\n",
    "df4 = df3.withColumn(\"c3\", F.lit(\"Korea\"))\n",
    "df4.show(5, False)"
   ]
  },
  {
   "cell_type": "code",
   "execution_count": 168,
   "id": "1a997cc3",
   "metadata": {},
   "outputs": [
    {
     "name": "stdout",
     "output_type": "stream",
     "text": [
      "+---------+---------+-----+----+\n",
      "|cc[0]    |cc[1]    |c3   |c4  |\n",
      "+---------+---------+-----+----+\n",
      "|Adventure|Animation|Korea|Test|\n",
      "|Adventure|Children |Korea|Test|\n",
      "|Comedy   |Romance  |Korea|Test|\n",
      "|Comedy   |Drama    |Korea|Test|\n",
      "|Comedy   |null     |Korea|Test|\n",
      "+---------+---------+-----+----+\n",
      "only showing top 5 rows\n",
      "\n"
     ]
    }
   ],
   "source": [
    "df5 = df4.withColumn(\"c4\", F.lit(\"Test\"))\n",
    "df5.show(5, False)"
   ]
  },
  {
   "cell_type": "code",
   "execution_count": 172,
   "id": "7a0ff6b3",
   "metadata": {},
   "outputs": [
    {
     "name": "stdout",
     "output_type": "stream",
     "text": [
      "+-------------------------------------------------+\n",
      "|cc                                               |\n",
      "+-------------------------------------------------+\n",
      "|[Adventure, Animation, Children, Comedy, Fantasy]|\n",
      "|[Adventure, Children, Fantasy]                   |\n",
      "|[Comedy, Romance]                                |\n",
      "|[Comedy, Drama, Romance]                         |\n",
      "|[Comedy]                                         |\n",
      "+-------------------------------------------------+\n",
      "only showing top 5 rows\n",
      "\n"
     ]
    }
   ],
   "source": [
    "# explode : 각 행의 list-like값을, 모두 각자 다른 행으로 쪼개어 분리\n",
    "## 아래 예시로, df2의 첫 행의 데이터라 df6의 1~5행으로 나뉘고, 두번째 행이 6~8로 나뉨\n",
    "df2.show(5,False)"
   ]
  },
  {
   "cell_type": "code",
   "execution_count": 169,
   "id": "ea593184",
   "metadata": {},
   "outputs": [
    {
     "name": "stdout",
     "output_type": "stream",
     "text": [
      "+---------+\n",
      "|col      |\n",
      "+---------+\n",
      "|Adventure|\n",
      "|Animation|\n",
      "|Children |\n",
      "|Comedy   |\n",
      "|Fantasy  |\n",
      "|Adventure|\n",
      "|Children |\n",
      "|Fantasy  |\n",
      "|Comedy   |\n",
      "|Romance  |\n",
      "+---------+\n",
      "only showing top 10 rows\n",
      "\n"
     ]
    }
   ],
   "source": [
    "df6 = df2.select(F.explode(col(\"cc\")))\n",
    "df6.show(10, False)"
   ]
  },
  {
   "cell_type": "code",
   "execution_count": 175,
   "id": "d76ede1e",
   "metadata": {},
   "outputs": [
    {
     "name": "stdout",
     "output_type": "stream",
     "text": [
      "+---------+---------+-----+\n",
      "|    cc[0]|    cc[1]|   c3|\n",
      "+---------+---------+-----+\n",
      "|Adventure|Animation|Korea|\n",
      "|Adventure| Children|Korea|\n",
      "|   Comedy|  Romance|Korea|\n",
      "|   Comedy|    Drama|Korea|\n",
      "|   Comedy|     null|Korea|\n",
      "+---------+---------+-----+\n",
      "only showing top 5 rows\n",
      "\n"
     ]
    }
   ],
   "source": [
    "# drop\n",
    "df4.show(5)"
   ]
  },
  {
   "cell_type": "code",
   "execution_count": 176,
   "id": "85d2450f",
   "metadata": {},
   "outputs": [
    {
     "name": "stdout",
     "output_type": "stream",
     "text": [
      "+---------+\n",
      "|cc[0]    |\n",
      "+---------+\n",
      "|Adventure|\n",
      "|Adventure|\n",
      "|Comedy   |\n",
      "|Comedy   |\n",
      "|Comedy   |\n",
      "+---------+\n",
      "only showing top 5 rows\n",
      "\n"
     ]
    }
   ],
   "source": [
    "df4.drop(\"cc[1]\", \"c3\").show(5, False)"
   ]
  },
  {
   "cell_type": "code",
   "execution_count": 177,
   "id": "05a9d6ae",
   "metadata": {},
   "outputs": [
    {
     "name": "stderr",
     "output_type": "stream",
     "text": [
      "[Stage 253:================================================>    (182 + 1) / 200]\r"
     ]
    },
    {
     "name": "stdout",
     "output_type": "stream",
     "text": [
      "+------------------------------+----------+\n",
      "|genres                        |titleCount|\n",
      "+------------------------------+----------+\n",
      "|Comedy|Horror|Thriller        |17        |\n",
      "|Action|Drama|Horror           |1         |\n",
      "|Adventure|Sci-Fi|Thriller     |4         |\n",
      "|Action|Animation|Comedy|Sci-Fi|2         |\n",
      "|Action|Adventure|Drama|Fantasy|6         |\n",
      "+------------------------------+----------+\n",
      "only showing top 5 rows\n",
      "\n"
     ]
    },
    {
     "name": "stderr",
     "output_type": "stream",
     "text": [
      "\r",
      "[Stage 253:====================================================>(198 + 1) / 200]\r",
      "\r",
      "                                                                                \r"
     ]
    }
   ],
   "source": [
    "# groupBy & countDistinct\n",
    "## genres기준으로, title의 Distinct값을 세서(unique)m  titleCount컬럼으로 저장\n",
    "df7 = df1.groupBy(\"genres\").agg(F.countDistinct(\"title\").alias(\"titleCount\"))\n",
    "df7.show(5, False)"
   ]
  },
  {
   "cell_type": "code",
   "execution_count": 178,
   "id": "e9250f50",
   "metadata": {},
   "outputs": [
    {
     "name": "stderr",
     "output_type": "stream",
     "text": [
      "[Stage 260:===================================================> (195 + 1) / 200]\r"
     ]
    },
    {
     "name": "stdout",
     "output_type": "stream",
     "text": [
      "+--------------------+----------+\n",
      "|genres              |titleCount|\n",
      "+--------------------+----------+\n",
      "|Drama               |1053      |\n",
      "|Comedy              |946       |\n",
      "|Comedy|Drama        |435       |\n",
      "|Comedy|Romance      |363       |\n",
      "|Drama|Romance       |349       |\n",
      "|Documentary         |339       |\n",
      "|Comedy|Drama|Romance|276       |\n",
      "|Drama|Thriller      |168       |\n",
      "|Horror              |167       |\n",
      "|Horror|Thriller     |135       |\n",
      "+--------------------+----------+\n",
      "only showing top 10 rows\n",
      "\n"
     ]
    },
    {
     "name": "stderr",
     "output_type": "stream",
     "text": [
      "\r",
      "                                                                                \r"
     ]
    }
   ],
   "source": [
    "# sort & F.desc\n",
    "df8 = df7.sort(F.desc(\"titleCount\"))\n",
    "df8.show(10, False)"
   ]
  },
  {
   "cell_type": "markdown",
   "id": "c3243416",
   "metadata": {},
   "source": [
    "## 2. 데이터셋 정제 방법 고민"
   ]
  },
  {
   "cell_type": "code",
   "execution_count": null,
   "id": "116a2fe7",
   "metadata": {},
   "outputs": [],
   "source": []
  },
  {
   "cell_type": "markdown",
   "id": "ae8cafcb",
   "metadata": {},
   "source": [
    "## 3. 데이터셋 저장 스키마 결정 & 공유"
   ]
  },
  {
   "cell_type": "code",
   "execution_count": null,
   "id": "a7e8a047",
   "metadata": {},
   "outputs": [],
   "source": []
  }
 ],
 "metadata": {
  "kernelspec": {
   "display_name": "Python 3 (ipykernel)",
   "language": "python",
   "name": "python3"
  },
  "language_info": {
   "codemirror_mode": {
    "name": "ipython",
    "version": 3
   },
   "file_extension": ".py",
   "mimetype": "text/x-python",
   "name": "python",
   "nbconvert_exporter": "python",
   "pygments_lexer": "ipython3",
   "version": "3.9.7"
  }
 },
 "nbformat": 4,
 "nbformat_minor": 5
}
