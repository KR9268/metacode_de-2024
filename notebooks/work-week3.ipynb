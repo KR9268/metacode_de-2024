{
 "cells": [
  {
   "cell_type": "markdown",
   "id": "2461c70b",
   "metadata": {},
   "source": [
    "# 과제 - 3주차"
   ]
  },
  {
   "cell_type": "code",
   "execution_count": null,
   "id": "a16b7483",
   "metadata": {},
   "outputs": [],
   "source": [
    "from pyspark.sql import SparkSession\n",
    "\n",
    "# SparkSession\n",
    "spark = (\n",
    "    SparkSession.builder\n",
    "        .appName(\"rdd-dataframe\")\n",
    "        .master(\"local\")\n",
    "        .getOrCreate()\n",
    ")\n",
    "\n",
    "# SparkContext를 SparkSession에서 빼두기\n",
    "sc = spark.sparkContext\n",
    "\n",
    "# 하단 메시지는 Jupyter 공식이미지에서 나오는 메시지로, 무시하기"
   ]
  },
  {
   "cell_type": "markdown",
   "id": "71b865a8",
   "metadata": {},
   "source": [
    "## 1. spark-submit.sh 스크립트 참고해서 option 바꾸어보기"
   ]
  },
  {
   "cell_type": "code",
   "execution_count": null,
   "id": "73cd9048",
   "metadata": {},
   "outputs": [],
   "source": []
  },
  {
   "cell_type": "markdown",
   "id": "2c27c75c",
   "metadata": {},
   "source": [
    "## 2. 원하는 최종 스키마를 만들기 위한 정제 코드 filter.py 작성하기"
   ]
  },
  {
   "cell_type": "code",
   "execution_count": null,
   "id": "33b6d4a7",
   "metadata": {},
   "outputs": [],
   "source": [
    "# json파일로 저장해 둔 스키마 불러오기\n",
    "\n",
    "import json\n",
    "from pyspark.sql.types import StructType\n",
    "\n",
    "github_schema = json.loads(github.schema.json())\n",
    "\n",
    "schema_to_read = StructType.fromJson(github_schema)\n",
    "df = spark.read.schema(schema_to_read).json(\"../data/*.json.gz\")"
   ]
  },
  {
   "cell_type": "code",
   "execution_count": null,
   "id": "25b68063",
   "metadata": {
    "scrolled": true
   },
   "outputs": [],
   "source": [
    "# 스키마 확인하기\n",
    "\n",
    "def find_all_names(data, current_path=[]):\n",
    "    paths = []\n",
    "    if isinstance(data, dict):\n",
    "        if 'name' in data:\n",
    "            # Collect the path to the current 'name'\n",
    "            paths.append('.'.join(current_path + [data['name']]))\n",
    "        # Recursively search within this dictionary\n",
    "        for key, value in data.items():\n",
    "            if isinstance(value, (dict, list)):\n",
    "                paths.extend(find_all_names(value, current_path + [data.get('name', key)]))\n",
    "    elif isinstance(data, list):\n",
    "        for item in data:\n",
    "            paths.extend(find_all_names(item, current_path))\n",
    "    return paths\n",
    "\n",
    "for each_line in find_all_names(github_schema):\n",
    "    print(each_line.replace('fields.',''))"
   ]
  },
  {
   "cell_type": "code",
   "execution_count": 8,
   "id": "7de74fb4",
   "metadata": {},
   "outputs": [
    {
     "name": "stdout",
     "output_type": "stream",
     "text": [
      "+--------------------+--------+--------------------+\n",
      "|    actor.avatar_url|actor.id|          created_at|\n",
      "+--------------------+--------+--------------------+\n",
      "|https://avatars.g...|83618436|2024-05-19T14:00:00Z|\n",
      "|https://avatars.g...|  132692|2024-05-19T14:00:00Z|\n",
      "|https://avatars.g...|78722358|2024-05-19T14:00:00Z|\n",
      "+--------------------+--------+--------------------+\n",
      "only showing top 3 rows\n",
      "\n"
     ]
    }
   ],
   "source": [
    "# 데이터 확인\n",
    "\n",
    "import pyspark.sql.functions as F\n",
    "\n",
    "columns = ['actor.avatar_url','actor.id','created_at']\n",
    "select_exprs = [F.col(col_path).alias(col_path) for col_path in columns]\n",
    "\n",
    "df.select(*select_exprs).show(3)"
   ]
  },
  {
   "cell_type": "markdown",
   "id": "4036b3f3",
   "metadata": {},
   "source": [
    "## 3. 작성한 정제 코드 spark-submit 해보기\n",
    "* 제출할 내용: spark-submit.sh, filter.py (파일명은 바꾸셔도 무방합니다)"
   ]
  },
  {
   "cell_type": "code",
   "execution_count": null,
   "id": "b5c88b11",
   "metadata": {},
   "outputs": [],
   "source": []
  }
 ],
 "metadata": {
  "kernelspec": {
   "display_name": "Python 3 (ipykernel)",
   "language": "python",
   "name": "python3"
  },
  "language_info": {
   "codemirror_mode": {
    "name": "ipython",
    "version": 3
   },
   "file_extension": ".py",
   "mimetype": "text/x-python",
   "name": "python",
   "nbconvert_exporter": "python",
   "pygments_lexer": "ipython3",
   "version": "3.9.7"
  }
 },
 "nbformat": 4,
 "nbformat_minor": 5
}
