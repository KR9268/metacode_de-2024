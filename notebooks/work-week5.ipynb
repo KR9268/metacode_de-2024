{
 "cells": [
  {
   "cell_type": "markdown",
   "id": "02ca50e8",
   "metadata": {},
   "source": [
    "# 과제 - 5주차"
   ]
  },
  {
   "cell_type": "markdown",
   "id": "15f73b4a",
   "metadata": {},
   "source": [
    "## Airflow 예시 DAG 를 실행해보세요"
   ]
  },
  {
   "cell_type": "code",
   "execution_count": null,
   "id": "f460d580",
   "metadata": {},
   "outputs": [],
   "source": []
  },
  {
   "cell_type": "markdown",
   "id": "1dab4d41",
   "metadata": {},
   "source": [
    "## 데이터 다운로드, 정제, 저장 기능을 수행하는 DAG 를 작성하고 스케줄링을 적용해보세요"
   ]
  },
  {
   "cell_type": "code",
   "execution_count": null,
   "id": "48bbc827",
   "metadata": {},
   "outputs": [],
   "source": []
  },
  {
   "cell_type": "markdown",
   "id": "87032bd6",
   "metadata": {},
   "source": [
    "## 다운로드, 정제, 저장을 하나의 task로 작성할지, 별도의 task 를 두고 dependency 를 설정할지 결정해보세요"
   ]
  },
  {
   "cell_type": "code",
   "execution_count": null,
   "id": "2f7a4cf5",
   "metadata": {},
   "outputs": [],
   "source": []
  }
 ],
 "metadata": {
  "kernelspec": {
   "display_name": "Python 3 (ipykernel)",
   "language": "python",
   "name": "python3"
  },
  "language_info": {
   "codemirror_mode": {
    "name": "ipython",
    "version": 3
   },
   "file_extension": ".py",
   "mimetype": "text/x-python",
   "name": "python",
   "nbconvert_exporter": "python",
   "pygments_lexer": "ipython3",
   "version": "3.9.7"
  }
 },
 "nbformat": 4,
 "nbformat_minor": 5
}
