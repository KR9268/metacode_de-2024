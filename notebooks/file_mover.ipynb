{
 "cells": [
  {
   "cell_type": "code",
   "execution_count": null,
   "id": "254901e6",
   "metadata": {},
   "outputs": [],
   "source": [
    "from_path = ''\n",
    "to_path = ''\n",
    "files = ['movies.csv']"
   ]
  },
  {
   "cell_type": "code",
   "execution_count": null,
   "id": "c0f4cb04",
   "metadata": {},
   "outputs": [],
   "source": []
  },
  {
   "cell_type": "code",
   "execution_count": null,
   "id": "a0016707",
   "metadata": {},
   "outputs": [],
   "source": [
    "!mv ./movies.csv ../data/movies.csv"
   ]
  }
 ],
 "metadata": {
  "kernelspec": {
   "display_name": "Python 3 (ipykernel)",
   "language": "python",
   "name": "python3"
  },
  "language_info": {
   "codemirror_mode": {
    "name": "ipython",
    "version": 3
   },
   "file_extension": ".py",
   "mimetype": "text/x-python",
   "name": "python",
   "nbconvert_exporter": "python",
   "pygments_lexer": "ipython3",
   "version": "3.9.7"
  }
 },
 "nbformat": 4,
 "nbformat_minor": 5
}
