{
 "cells": [
  {
   "cell_type": "markdown",
   "id": "f5decd68",
   "metadata": {},
   "source": [
    "# 과제 - 3주차"
   ]
  },
  {
   "cell_type": "markdown",
   "id": "5297c6f6",
   "metadata": {},
   "source": [
    "## 데이터 포맷에 적합한 elasticsearch index 생성하기"
   ]
  },
  {
   "cell_type": "code",
   "execution_count": null,
   "id": "d02e2656",
   "metadata": {},
   "outputs": [],
   "source": []
  },
  {
   "cell_type": "markdown",
   "id": "8afb5565",
   "metadata": {},
   "source": [
    "## spark dataframe 을 elasticsearch 에 저장해보기\n"
   ]
  },
  {
   "cell_type": "code",
   "execution_count": null,
   "id": "c2a9366d",
   "metadata": {},
   "outputs": [],
   "source": []
  },
  {
   "cell_type": "markdown",
   "id": "86f595c2",
   "metadata": {},
   "source": [
    "## 데이터 저장 로직을 구현한 elasticsearch.py 제출"
   ]
  },
  {
   "cell_type": "code",
   "execution_count": null,
   "id": "84a58fb9",
   "metadata": {},
   "outputs": [],
   "source": []
  }
 ],
 "metadata": {
  "kernelspec": {
   "display_name": "Python 3 (ipykernel)",
   "language": "python",
   "name": "python3"
  },
  "language_info": {
   "codemirror_mode": {
    "name": "ipython",
    "version": 3
   },
   "file_extension": ".py",
   "mimetype": "text/x-python",
   "name": "python",
   "nbconvert_exporter": "python",
   "pygments_lexer": "ipython3",
   "version": "3.9.7"
  }
 },
 "nbformat": 4,
 "nbformat_minor": 5
}
