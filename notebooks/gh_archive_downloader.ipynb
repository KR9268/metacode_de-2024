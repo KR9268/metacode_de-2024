{
 "cells": [
  {
   "cell_type": "markdown",
   "id": "49d7bb06",
   "metadata": {},
   "source": [
    "# GH Archive 다운로드용\n",
    "\n",
    "* 아카이브링크 : https://www.gharchive.org/"
   ]
  },
  {
   "cell_type": "code",
   "execution_count": null,
   "id": "ffb1d759",
   "metadata": {},
   "outputs": [],
   "source": [
    "# gh archive downloader\n",
    "from datetime import datetime, timedelta\n",
    "import os\n",
    "import subprocess\n",
    "from IPython.display import clear_output\n",
    "\n",
    "# 다운로드할 폴더 설정\n",
    "folder = '../data/gh_archive/'\n",
    "os.makedirs(folder, exist_ok=True)\n",
    "\n",
    "# 시작/끝 날짜 지정\n",
    "start_date_str = \"2024-08-29 16\"\n",
    "end_date_str = \"2024-08-29 23\"\n",
    "\n",
    "# 날짜로 변환 후 현재날짜를 시작일로 부여\n",
    "start_date = datetime.strptime(start_date_str, \"%Y-%m-%d %H\")\n",
    "end_date = datetime.strptime(end_date_str, \"%Y-%m-%d %H\")\n",
    "current_date = start_date\n",
    "\n",
    "# 현재날짜가 끝날짜가 될 때까지 +1씩 하며 업데이트\n",
    "while current_date <= end_date:\n",
    "    url = f'https://data.gharchive.org/{current_date.strftime(\"%Y-%m-%d-%H\")}.json.gz'\n",
    "    subprocess.run(['wget', '-P', folder, url])\n",
    "    \n",
    "    clear_output()  # 내역 삭제\n",
    "    \n",
    "    current_date += timedelta(hours=1)  # 시간 +1\n",
    "    \n",
    "print('Download complete')"
   ]
  },
  {
   "cell_type": "code",
   "execution_count": 34,
   "id": "8bb87802",
   "metadata": {},
   "outputs": [
    {
     "name": "stdout",
     "output_type": "stream",
     "text": [
      "Download complete\n"
     ]
    }
   ],
   "source": [
    "# gh archive downloader (날짜지정)\n",
    "from datetime import datetime, timedelta\n",
    "import os\n",
    "import subprocess\n",
    "from IPython.display import clear_output\n",
    "\n",
    "# 다운로드할 폴더 설정\n",
    "folder = '../data/gh_archive/'\n",
    "os.makedirs(folder, exist_ok=True)\n",
    "\n",
    "# 날짜설정\n",
    "target_date = \"2024-08-26\"\n",
    "\n",
    "temp_list = []\n",
    "for each_time in range(0,24):\n",
    "    url = f'https://data.gharchive.org/{datetime.strptime(target_date, \"%Y-%m-%d\").strftime(\"%Y-%m-%d\")}-{each_time}.json.gz'\n",
    "    temp_result = subprocess.run(['wget', '-P', folder, url])\n",
    "    if temp_result.returncode == 0: # 0 다운성공 / 8 다운실패\n",
    "        temp_list.append(temp_result.args[3])\n",
    "    clear_output()  # 내역 삭제\n",
    "\n",
    "print('Download complete')"
   ]
  },
  {
   "cell_type": "markdown",
   "id": "dea4e113",
   "metadata": {},
   "source": [
    "## 파일삭제"
   ]
  },
  {
   "cell_type": "code",
   "execution_count": 8,
   "id": "1aa1418a",
   "metadata": {},
   "outputs": [
    {
     "data": {
      "text/plain": [
       "'2024-08-25'"
      ]
     },
     "execution_count": 8,
     "metadata": {},
     "output_type": "execute_result"
    }
   ],
   "source": [
    "from datetime import datetime, timedelta\n",
    "import os\n",
    "import subprocess\n",
    "\n",
    "# 대상 폴더 설정\n",
    "folder = '../data/gh_archive/' # jupyter경로\n",
    "os.makedirs(folder, exist_ok=True)\n",
    "\n",
    "# Delete old data\n",
    "\n",
    "## 날짜설정\n",
    "target_date_delete = (datetime.now() - timedelta(days=14)).strftime('%Y-%m-%d')\n",
    "target_date_delete"
   ]
  },
  {
   "cell_type": "code",
   "execution_count": 9,
   "id": "2e8deb62",
   "metadata": {},
   "outputs": [],
   "source": [
    "## main\n",
    "for each_time in range(0,24):\n",
    "    file_path = f\"{folder}{datetime.strptime(target_date_delete, '%Y-%m-%d').strftime('%Y-%m-%d')}-{each_time}.json.gz\"\n",
    "    if os.path.isfile(file_path):\n",
    "        os.remove(file_path)"
   ]
  }
 ],
 "metadata": {
  "kernelspec": {
   "display_name": "Python 3 (ipykernel)",
   "language": "python",
   "name": "python3"
  },
  "language_info": {
   "codemirror_mode": {
    "name": "ipython",
    "version": 3
   },
   "file_extension": ".py",
   "mimetype": "text/x-python",
   "name": "python",
   "nbconvert_exporter": "python",
   "pygments_lexer": "ipython3",
   "version": "3.9.7"
  }
 },
 "nbformat": 4,
 "nbformat_minor": 5
}
